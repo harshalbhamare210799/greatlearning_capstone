{
 "cells": [
  {
   "cell_type": "code",
   "execution_count": 2,
   "id": "c5a84f90",
   "metadata": {},
   "outputs": [],
   "source": [
    "import pandas as pd\n",
    "import numpy as np\n",
    "import matplotlib.pyplot as plt\n",
    "import seaborn as sns"
   ]
  },
  {
   "cell_type": "code",
   "execution_count": 3,
   "id": "3bb9e325",
   "metadata": {},
   "outputs": [],
   "source": [
    "plt.rcParams['figure.figsize']= [15,10]\n",
    "\n",
    "#plt.rcParams['figure.figsize'] = [15, 6]"
   ]
  },
  {
   "cell_type": "code",
   "execution_count": 4,
   "id": "82a490d6",
   "metadata": {},
   "outputs": [
    {
     "data": {
      "text/html": [
       "<div>\n",
       "<style scoped>\n",
       "    .dataframe tbody tr th:only-of-type {\n",
       "        vertical-align: middle;\n",
       "    }\n",
       "\n",
       "    .dataframe tbody tr th {\n",
       "        vertical-align: top;\n",
       "    }\n",
       "\n",
       "    .dataframe thead th {\n",
       "        text-align: right;\n",
       "    }\n",
       "</style>\n",
       "<table border=\"1\" class=\"dataframe\">\n",
       "  <thead>\n",
       "    <tr style=\"text-align: right;\">\n",
       "      <th></th>\n",
       "      <th>Unnamed: 0</th>\n",
       "      <th>ID</th>\n",
       "      <th>Severity</th>\n",
       "      <th>Start_Time</th>\n",
       "      <th>End_Time</th>\n",
       "      <th>Start_Lat</th>\n",
       "      <th>Start_Lng</th>\n",
       "      <th>End_Lat</th>\n",
       "      <th>End_Lng</th>\n",
       "      <th>Distance(mi)</th>\n",
       "      <th>...</th>\n",
       "      <th>Roundabout</th>\n",
       "      <th>Station</th>\n",
       "      <th>Stop</th>\n",
       "      <th>Traffic_Calming</th>\n",
       "      <th>Traffic_Signal</th>\n",
       "      <th>Turning_Loop</th>\n",
       "      <th>Sunrise_Sunset</th>\n",
       "      <th>Civil_Twilight</th>\n",
       "      <th>Nautical_Twilight</th>\n",
       "      <th>Astronomical_Twilight</th>\n",
       "    </tr>\n",
       "  </thead>\n",
       "  <tbody>\n",
       "    <tr>\n",
       "      <th>0</th>\n",
       "      <td>988</td>\n",
       "      <td>A-989</td>\n",
       "      <td>3</td>\n",
       "      <td>2016-03-22 18:53:11</td>\n",
       "      <td>2016-03-23 00:53:11</td>\n",
       "      <td>38.825840</td>\n",
       "      <td>-120.029214</td>\n",
       "      <td>38.827194</td>\n",
       "      <td>-120.030632</td>\n",
       "      <td>0.121</td>\n",
       "      <td>...</td>\n",
       "      <td>False</td>\n",
       "      <td>False</td>\n",
       "      <td>False</td>\n",
       "      <td>False</td>\n",
       "      <td>False</td>\n",
       "      <td>False</td>\n",
       "      <td>Day</td>\n",
       "      <td>Day</td>\n",
       "      <td>Day</td>\n",
       "      <td>Day</td>\n",
       "    </tr>\n",
       "    <tr>\n",
       "      <th>1</th>\n",
       "      <td>989</td>\n",
       "      <td>A-990</td>\n",
       "      <td>2</td>\n",
       "      <td>2016-03-22 19:00:49</td>\n",
       "      <td>2016-03-23 01:00:49</td>\n",
       "      <td>37.358209</td>\n",
       "      <td>-121.840017</td>\n",
       "      <td>37.361596</td>\n",
       "      <td>-121.842044</td>\n",
       "      <td>0.259</td>\n",
       "      <td>...</td>\n",
       "      <td>False</td>\n",
       "      <td>False</td>\n",
       "      <td>False</td>\n",
       "      <td>False</td>\n",
       "      <td>False</td>\n",
       "      <td>False</td>\n",
       "      <td>Day</td>\n",
       "      <td>Day</td>\n",
       "      <td>Day</td>\n",
       "      <td>Day</td>\n",
       "    </tr>\n",
       "    <tr>\n",
       "      <th>2</th>\n",
       "      <td>990</td>\n",
       "      <td>A-991</td>\n",
       "      <td>3</td>\n",
       "      <td>2016-03-22 20:07:32</td>\n",
       "      <td>2016-03-23 02:07:32</td>\n",
       "      <td>37.881943</td>\n",
       "      <td>-122.307987</td>\n",
       "      <td>37.885882</td>\n",
       "      <td>-122.308878</td>\n",
       "      <td>0.276</td>\n",
       "      <td>...</td>\n",
       "      <td>False</td>\n",
       "      <td>False</td>\n",
       "      <td>False</td>\n",
       "      <td>False</td>\n",
       "      <td>False</td>\n",
       "      <td>False</td>\n",
       "      <td>Night</td>\n",
       "      <td>Night</td>\n",
       "      <td>Day</td>\n",
       "      <td>Day</td>\n",
       "    </tr>\n",
       "    <tr>\n",
       "      <th>3</th>\n",
       "      <td>991</td>\n",
       "      <td>A-992</td>\n",
       "      <td>2</td>\n",
       "      <td>2016-03-22 21:40:18</td>\n",
       "      <td>2016-03-23 03:40:18</td>\n",
       "      <td>37.881038</td>\n",
       "      <td>-122.307788</td>\n",
       "      <td>37.883458</td>\n",
       "      <td>-122.308366</td>\n",
       "      <td>0.170</td>\n",
       "      <td>...</td>\n",
       "      <td>False</td>\n",
       "      <td>False</td>\n",
       "      <td>False</td>\n",
       "      <td>False</td>\n",
       "      <td>False</td>\n",
       "      <td>False</td>\n",
       "      <td>Night</td>\n",
       "      <td>Night</td>\n",
       "      <td>Night</td>\n",
       "      <td>Night</td>\n",
       "    </tr>\n",
       "    <tr>\n",
       "      <th>4</th>\n",
       "      <td>992</td>\n",
       "      <td>A-993</td>\n",
       "      <td>2</td>\n",
       "      <td>2016-03-22 21:36:42</td>\n",
       "      <td>2016-03-23 03:36:42</td>\n",
       "      <td>38.518811</td>\n",
       "      <td>-121.101664</td>\n",
       "      <td>38.518811</td>\n",
       "      <td>-121.101664</td>\n",
       "      <td>0.000</td>\n",
       "      <td>...</td>\n",
       "      <td>False</td>\n",
       "      <td>False</td>\n",
       "      <td>False</td>\n",
       "      <td>False</td>\n",
       "      <td>False</td>\n",
       "      <td>False</td>\n",
       "      <td>Night</td>\n",
       "      <td>Night</td>\n",
       "      <td>Night</td>\n",
       "      <td>Night</td>\n",
       "    </tr>\n",
       "  </tbody>\n",
       "</table>\n",
       "<p>5 rows × 47 columns</p>\n",
       "</div>"
      ],
      "text/plain": [
       "   Unnamed: 0     ID  Severity           Start_Time             End_Time  \\\n",
       "0         988  A-989         3  2016-03-22 18:53:11  2016-03-23 00:53:11   \n",
       "1         989  A-990         2  2016-03-22 19:00:49  2016-03-23 01:00:49   \n",
       "2         990  A-991         3  2016-03-22 20:07:32  2016-03-23 02:07:32   \n",
       "3         991  A-992         2  2016-03-22 21:40:18  2016-03-23 03:40:18   \n",
       "4         992  A-993         2  2016-03-22 21:36:42  2016-03-23 03:36:42   \n",
       "\n",
       "   Start_Lat   Start_Lng    End_Lat     End_Lng  Distance(mi)  ... Roundabout  \\\n",
       "0  38.825840 -120.029214  38.827194 -120.030632         0.121  ...      False   \n",
       "1  37.358209 -121.840017  37.361596 -121.842044         0.259  ...      False   \n",
       "2  37.881943 -122.307987  37.885882 -122.308878         0.276  ...      False   \n",
       "3  37.881038 -122.307788  37.883458 -122.308366         0.170  ...      False   \n",
       "4  38.518811 -121.101664  38.518811 -121.101664         0.000  ...      False   \n",
       "\n",
       "  Station   Stop Traffic_Calming Traffic_Signal Turning_Loop Sunrise_Sunset  \\\n",
       "0   False  False           False          False        False            Day   \n",
       "1   False  False           False          False        False            Day   \n",
       "2   False  False           False          False        False          Night   \n",
       "3   False  False           False          False        False          Night   \n",
       "4   False  False           False          False        False          Night   \n",
       "\n",
       "  Civil_Twilight Nautical_Twilight Astronomical_Twilight  \n",
       "0            Day               Day                   Day  \n",
       "1            Day               Day                   Day  \n",
       "2          Night               Day                   Day  \n",
       "3          Night             Night                 Night  \n",
       "4          Night             Night                 Night  \n",
       "\n",
       "[5 rows x 47 columns]"
      ]
     },
     "execution_count": 4,
     "metadata": {},
     "output_type": "execute_result"
    }
   ],
   "source": [
    "combined=pd.read_csv('C:\\\\Users\\\\maney\\\\Capstone Project\\\\df_ca.csv')\n",
    "#combined=pd.read_csv('df_ca.csv')\n",
    "\n",
    "combined.head()"
   ]
  },
  {
   "cell_type": "code",
   "execution_count": 5,
   "id": "b38fdf89",
   "metadata": {},
   "outputs": [
    {
     "data": {
      "text/plain": [
       "(795868, 47)"
      ]
     },
     "execution_count": 5,
     "metadata": {},
     "output_type": "execute_result"
    }
   ],
   "source": [
    "combined.shape"
   ]
  },
  {
   "cell_type": "code",
   "execution_count": 4,
   "id": "4a6b48ff",
   "metadata": {},
   "outputs": [
    {
     "data": {
      "text/plain": [
       "Unnamed: 0                 int64\n",
       "ID                        object\n",
       "Severity                   int64\n",
       "Start_Time                object\n",
       "End_Time                  object\n",
       "Start_Lat                float64\n",
       "Start_Lng                float64\n",
       "End_Lat                  float64\n",
       "End_Lng                  float64\n",
       "Distance(mi)             float64\n",
       "Description               object\n",
       "Street                    object\n",
       "Side                      object\n",
       "City                      object\n",
       "County                    object\n",
       "State                     object\n",
       "Zipcode                   object\n",
       "Country                   object\n",
       "Timezone                  object\n",
       "Airport_Code              object\n",
       "Weather_Timestamp         object\n",
       "Temperature(F)           float64\n",
       "Wind_Chill(F)            float64\n",
       "Humidity(%)              float64\n",
       "Pressure(in)             float64\n",
       "Visibility(mi)           float64\n",
       "Wind_Direction            object\n",
       "Wind_Speed(mph)          float64\n",
       "Precipitation(in)        float64\n",
       "Weather_Condition         object\n",
       "Amenity                     bool\n",
       "Bump                        bool\n",
       "Crossing                    bool\n",
       "Give_Way                    bool\n",
       "Junction                    bool\n",
       "No_Exit                     bool\n",
       "Railway                     bool\n",
       "Roundabout                  bool\n",
       "Station                     bool\n",
       "Stop                        bool\n",
       "Traffic_Calming             bool\n",
       "Traffic_Signal              bool\n",
       "Turning_Loop                bool\n",
       "Sunrise_Sunset            object\n",
       "Civil_Twilight            object\n",
       "Nautical_Twilight         object\n",
       "Astronomical_Twilight     object\n",
       "dtype: object"
      ]
     },
     "execution_count": 4,
     "metadata": {},
     "output_type": "execute_result"
    }
   ],
   "source": [
    "combined.dtypes"
   ]
  },
  {
   "cell_type": "code",
   "execution_count": 28,
   "id": "f8ef2064",
   "metadata": {},
   "outputs": [],
   "source": [
    "#long ,lat correlation with county"
   ]
  },
  {
   "cell_type": "markdown",
   "id": "68ffe2bf",
   "metadata": {},
   "source": [
    "### Numeric columns correlation"
   ]
  },
  {
   "cell_type": "code",
   "execution_count": 29,
   "id": "8d4bab41",
   "metadata": {},
   "outputs": [
    {
     "data": {
      "text/html": [
       "<div>\n",
       "<style scoped>\n",
       "    .dataframe tbody tr th:only-of-type {\n",
       "        vertical-align: middle;\n",
       "    }\n",
       "\n",
       "    .dataframe tbody tr th {\n",
       "        vertical-align: top;\n",
       "    }\n",
       "\n",
       "    .dataframe thead th {\n",
       "        text-align: right;\n",
       "    }\n",
       "</style>\n",
       "<table border=\"1\" class=\"dataframe\">\n",
       "  <thead>\n",
       "    <tr style=\"text-align: right;\">\n",
       "      <th></th>\n",
       "      <th>Unnamed: 0</th>\n",
       "      <th>Severity</th>\n",
       "      <th>Start_Lat</th>\n",
       "      <th>Start_Lng</th>\n",
       "      <th>End_Lat</th>\n",
       "      <th>End_Lng</th>\n",
       "      <th>Distance(mi)</th>\n",
       "      <th>Temperature(F)</th>\n",
       "      <th>Wind_Chill(F)</th>\n",
       "      <th>Humidity(%)</th>\n",
       "      <th>...</th>\n",
       "      <th>Give_Way</th>\n",
       "      <th>Junction</th>\n",
       "      <th>No_Exit</th>\n",
       "      <th>Railway</th>\n",
       "      <th>Roundabout</th>\n",
       "      <th>Station</th>\n",
       "      <th>Stop</th>\n",
       "      <th>Traffic_Calming</th>\n",
       "      <th>Traffic_Signal</th>\n",
       "      <th>Turning_Loop</th>\n",
       "    </tr>\n",
       "  </thead>\n",
       "  <tbody>\n",
       "    <tr>\n",
       "      <th>Unnamed: 0</th>\n",
       "      <td>1.000000</td>\n",
       "      <td>0.037909</td>\n",
       "      <td>-0.007792</td>\n",
       "      <td>-0.003431</td>\n",
       "      <td>-0.007810</td>\n",
       "      <td>-0.003527</td>\n",
       "      <td>-0.199061</td>\n",
       "      <td>-0.058885</td>\n",
       "      <td>-0.056652</td>\n",
       "      <td>-0.030941</td>\n",
       "      <td>...</td>\n",
       "      <td>0.002347</td>\n",
       "      <td>0.053290</td>\n",
       "      <td>-0.004062</td>\n",
       "      <td>0.010422</td>\n",
       "      <td>-0.002604</td>\n",
       "      <td>0.002968</td>\n",
       "      <td>-0.016368</td>\n",
       "      <td>-0.003029</td>\n",
       "      <td>0.037065</td>\n",
       "      <td>NaN</td>\n",
       "    </tr>\n",
       "    <tr>\n",
       "      <th>Severity</th>\n",
       "      <td>0.037909</td>\n",
       "      <td>1.000000</td>\n",
       "      <td>-0.039538</td>\n",
       "      <td>0.035997</td>\n",
       "      <td>-0.039511</td>\n",
       "      <td>0.035967</td>\n",
       "      <td>0.049027</td>\n",
       "      <td>0.016263</td>\n",
       "      <td>0.014361</td>\n",
       "      <td>0.007111</td>\n",
       "      <td>...</td>\n",
       "      <td>0.000466</td>\n",
       "      <td>0.034311</td>\n",
       "      <td>0.000477</td>\n",
       "      <td>-0.004836</td>\n",
       "      <td>-0.000920</td>\n",
       "      <td>-0.001930</td>\n",
       "      <td>-0.005854</td>\n",
       "      <td>-0.002511</td>\n",
       "      <td>-0.007454</td>\n",
       "      <td>NaN</td>\n",
       "    </tr>\n",
       "    <tr>\n",
       "      <th>Start_Lat</th>\n",
       "      <td>-0.007792</td>\n",
       "      <td>-0.039538</td>\n",
       "      <td>1.000000</td>\n",
       "      <td>-0.928022</td>\n",
       "      <td>0.999986</td>\n",
       "      <td>-0.927998</td>\n",
       "      <td>-0.035455</td>\n",
       "      <td>-0.182296</td>\n",
       "      <td>-0.189647</td>\n",
       "      <td>0.079257</td>\n",
       "      <td>...</td>\n",
       "      <td>0.015692</td>\n",
       "      <td>-0.003977</td>\n",
       "      <td>-0.012258</td>\n",
       "      <td>0.009121</td>\n",
       "      <td>0.001779</td>\n",
       "      <td>-0.036978</td>\n",
       "      <td>0.066732</td>\n",
       "      <td>0.013715</td>\n",
       "      <td>-0.035299</td>\n",
       "      <td>NaN</td>\n",
       "    </tr>\n",
       "    <tr>\n",
       "      <th>Start_Lng</th>\n",
       "      <td>-0.003431</td>\n",
       "      <td>0.035997</td>\n",
       "      <td>-0.928022</td>\n",
       "      <td>1.000000</td>\n",
       "      <td>-0.927970</td>\n",
       "      <td>0.999966</td>\n",
       "      <td>0.043045</td>\n",
       "      <td>0.177632</td>\n",
       "      <td>0.177491</td>\n",
       "      <td>-0.139967</td>\n",
       "      <td>...</td>\n",
       "      <td>-0.022102</td>\n",
       "      <td>-0.024044</td>\n",
       "      <td>0.009194</td>\n",
       "      <td>-0.019252</td>\n",
       "      <td>-0.001904</td>\n",
       "      <td>0.010141</td>\n",
       "      <td>-0.067698</td>\n",
       "      <td>-0.022562</td>\n",
       "      <td>0.022103</td>\n",
       "      <td>NaN</td>\n",
       "    </tr>\n",
       "    <tr>\n",
       "      <th>End_Lat</th>\n",
       "      <td>-0.007810</td>\n",
       "      <td>-0.039511</td>\n",
       "      <td>0.999986</td>\n",
       "      <td>-0.927970</td>\n",
       "      <td>1.000000</td>\n",
       "      <td>-0.927953</td>\n",
       "      <td>-0.035183</td>\n",
       "      <td>-0.182281</td>\n",
       "      <td>-0.189635</td>\n",
       "      <td>0.079220</td>\n",
       "      <td>...</td>\n",
       "      <td>0.015679</td>\n",
       "      <td>-0.004046</td>\n",
       "      <td>-0.012255</td>\n",
       "      <td>0.009115</td>\n",
       "      <td>0.001779</td>\n",
       "      <td>-0.036958</td>\n",
       "      <td>0.066765</td>\n",
       "      <td>0.013714</td>\n",
       "      <td>-0.035311</td>\n",
       "      <td>NaN</td>\n",
       "    </tr>\n",
       "    <tr>\n",
       "      <th>End_Lng</th>\n",
       "      <td>-0.003527</td>\n",
       "      <td>0.035967</td>\n",
       "      <td>-0.927998</td>\n",
       "      <td>0.999966</td>\n",
       "      <td>-0.927953</td>\n",
       "      <td>1.000000</td>\n",
       "      <td>0.043900</td>\n",
       "      <td>0.177748</td>\n",
       "      <td>0.177607</td>\n",
       "      <td>-0.140102</td>\n",
       "      <td>...</td>\n",
       "      <td>-0.022093</td>\n",
       "      <td>-0.024016</td>\n",
       "      <td>0.009192</td>\n",
       "      <td>-0.019241</td>\n",
       "      <td>-0.001906</td>\n",
       "      <td>0.010112</td>\n",
       "      <td>-0.067667</td>\n",
       "      <td>-0.022565</td>\n",
       "      <td>0.022087</td>\n",
       "      <td>NaN</td>\n",
       "    </tr>\n",
       "    <tr>\n",
       "      <th>Distance(mi)</th>\n",
       "      <td>-0.199061</td>\n",
       "      <td>0.049027</td>\n",
       "      <td>-0.035455</td>\n",
       "      <td>0.043045</td>\n",
       "      <td>-0.035183</td>\n",
       "      <td>0.043900</td>\n",
       "      <td>1.000000</td>\n",
       "      <td>0.015088</td>\n",
       "      <td>0.012351</td>\n",
       "      <td>-0.007729</td>\n",
       "      <td>...</td>\n",
       "      <td>-0.009160</td>\n",
       "      <td>0.001605</td>\n",
       "      <td>-0.004272</td>\n",
       "      <td>-0.016035</td>\n",
       "      <td>-0.002571</td>\n",
       "      <td>-0.042604</td>\n",
       "      <td>-0.034721</td>\n",
       "      <td>-0.006851</td>\n",
       "      <td>-0.095889</td>\n",
       "      <td>NaN</td>\n",
       "    </tr>\n",
       "    <tr>\n",
       "      <th>Temperature(F)</th>\n",
       "      <td>-0.058885</td>\n",
       "      <td>0.016263</td>\n",
       "      <td>-0.182296</td>\n",
       "      <td>0.177632</td>\n",
       "      <td>-0.182281</td>\n",
       "      <td>0.177748</td>\n",
       "      <td>0.015088</td>\n",
       "      <td>1.000000</td>\n",
       "      <td>0.996755</td>\n",
       "      <td>-0.686222</td>\n",
       "      <td>...</td>\n",
       "      <td>-0.005417</td>\n",
       "      <td>0.003688</td>\n",
       "      <td>0.002172</td>\n",
       "      <td>-0.007999</td>\n",
       "      <td>0.000575</td>\n",
       "      <td>0.005001</td>\n",
       "      <td>-0.020535</td>\n",
       "      <td>-0.001450</td>\n",
       "      <td>0.007037</td>\n",
       "      <td>NaN</td>\n",
       "    </tr>\n",
       "    <tr>\n",
       "      <th>Wind_Chill(F)</th>\n",
       "      <td>-0.056652</td>\n",
       "      <td>0.014361</td>\n",
       "      <td>-0.189647</td>\n",
       "      <td>0.177491</td>\n",
       "      <td>-0.189635</td>\n",
       "      <td>0.177607</td>\n",
       "      <td>0.012351</td>\n",
       "      <td>0.996755</td>\n",
       "      <td>1.000000</td>\n",
       "      <td>-0.683822</td>\n",
       "      <td>...</td>\n",
       "      <td>-0.005411</td>\n",
       "      <td>-0.012820</td>\n",
       "      <td>0.002899</td>\n",
       "      <td>-0.006913</td>\n",
       "      <td>0.000916</td>\n",
       "      <td>0.010103</td>\n",
       "      <td>-0.018326</td>\n",
       "      <td>-0.000004</td>\n",
       "      <td>0.013221</td>\n",
       "      <td>NaN</td>\n",
       "    </tr>\n",
       "    <tr>\n",
       "      <th>Humidity(%)</th>\n",
       "      <td>-0.030941</td>\n",
       "      <td>0.007111</td>\n",
       "      <td>0.079257</td>\n",
       "      <td>-0.139967</td>\n",
       "      <td>0.079220</td>\n",
       "      <td>-0.140102</td>\n",
       "      <td>-0.007729</td>\n",
       "      <td>-0.686222</td>\n",
       "      <td>-0.683822</td>\n",
       "      <td>1.000000</td>\n",
       "      <td>...</td>\n",
       "      <td>0.003890</td>\n",
       "      <td>0.013134</td>\n",
       "      <td>0.000915</td>\n",
       "      <td>0.009643</td>\n",
       "      <td>0.001207</td>\n",
       "      <td>0.013799</td>\n",
       "      <td>0.011864</td>\n",
       "      <td>0.003259</td>\n",
       "      <td>-0.003257</td>\n",
       "      <td>NaN</td>\n",
       "    </tr>\n",
       "    <tr>\n",
       "      <th>Pressure(in)</th>\n",
       "      <td>0.016723</td>\n",
       "      <td>0.038156</td>\n",
       "      <td>-0.031747</td>\n",
       "      <td>-0.172341</td>\n",
       "      <td>-0.031788</td>\n",
       "      <td>-0.172373</td>\n",
       "      <td>-0.054924</td>\n",
       "      <td>0.054322</td>\n",
       "      <td>0.067365</td>\n",
       "      <td>0.131881</td>\n",
       "      <td>...</td>\n",
       "      <td>0.003992</td>\n",
       "      <td>0.068029</td>\n",
       "      <td>0.004194</td>\n",
       "      <td>0.029604</td>\n",
       "      <td>0.000917</td>\n",
       "      <td>0.043957</td>\n",
       "      <td>-0.019831</td>\n",
       "      <td>0.008258</td>\n",
       "      <td>0.035978</td>\n",
       "      <td>NaN</td>\n",
       "    </tr>\n",
       "    <tr>\n",
       "      <th>Visibility(mi)</th>\n",
       "      <td>0.035508</td>\n",
       "      <td>0.008852</td>\n",
       "      <td>0.013111</td>\n",
       "      <td>-0.022983</td>\n",
       "      <td>0.013134</td>\n",
       "      <td>-0.022924</td>\n",
       "      <td>-0.020292</td>\n",
       "      <td>0.213826</td>\n",
       "      <td>0.213929</td>\n",
       "      <td>-0.349503</td>\n",
       "      <td>...</td>\n",
       "      <td>0.001121</td>\n",
       "      <td>0.006226</td>\n",
       "      <td>0.002306</td>\n",
       "      <td>0.000073</td>\n",
       "      <td>-0.000060</td>\n",
       "      <td>0.007334</td>\n",
       "      <td>0.001257</td>\n",
       "      <td>0.005360</td>\n",
       "      <td>0.016162</td>\n",
       "      <td>NaN</td>\n",
       "    </tr>\n",
       "    <tr>\n",
       "      <th>Wind_Speed(mph)</th>\n",
       "      <td>-0.047045</td>\n",
       "      <td>0.029385</td>\n",
       "      <td>0.109345</td>\n",
       "      <td>-0.127010</td>\n",
       "      <td>0.109351</td>\n",
       "      <td>-0.126848</td>\n",
       "      <td>0.006861</td>\n",
       "      <td>0.232910</td>\n",
       "      <td>0.209373</td>\n",
       "      <td>-0.207445</td>\n",
       "      <td>...</td>\n",
       "      <td>0.002868</td>\n",
       "      <td>0.024552</td>\n",
       "      <td>-0.005840</td>\n",
       "      <td>-0.002119</td>\n",
       "      <td>0.001473</td>\n",
       "      <td>-0.007423</td>\n",
       "      <td>0.004153</td>\n",
       "      <td>0.004732</td>\n",
       "      <td>-0.015154</td>\n",
       "      <td>NaN</td>\n",
       "    </tr>\n",
       "    <tr>\n",
       "      <th>Precipitation(in)</th>\n",
       "      <td>-0.004798</td>\n",
       "      <td>0.007966</td>\n",
       "      <td>-0.000916</td>\n",
       "      <td>-0.003188</td>\n",
       "      <td>-0.000926</td>\n",
       "      <td>-0.003208</td>\n",
       "      <td>-0.003679</td>\n",
       "      <td>-0.069265</td>\n",
       "      <td>-0.093395</td>\n",
       "      <td>0.111670</td>\n",
       "      <td>...</td>\n",
       "      <td>-0.000803</td>\n",
       "      <td>0.011621</td>\n",
       "      <td>-0.000605</td>\n",
       "      <td>0.000139</td>\n",
       "      <td>-0.000059</td>\n",
       "      <td>-0.004257</td>\n",
       "      <td>-0.004881</td>\n",
       "      <td>-0.001873</td>\n",
       "      <td>-0.009189</td>\n",
       "      <td>NaN</td>\n",
       "    </tr>\n",
       "    <tr>\n",
       "      <th>Amenity</th>\n",
       "      <td>-0.010043</td>\n",
       "      <td>0.000377</td>\n",
       "      <td>0.006777</td>\n",
       "      <td>-0.020122</td>\n",
       "      <td>0.006788</td>\n",
       "      <td>-0.020119</td>\n",
       "      <td>-0.028920</td>\n",
       "      <td>0.001997</td>\n",
       "      <td>0.004972</td>\n",
       "      <td>0.007568</td>\n",
       "      <td>...</td>\n",
       "      <td>0.012800</td>\n",
       "      <td>-0.029199</td>\n",
       "      <td>0.003452</td>\n",
       "      <td>0.017623</td>\n",
       "      <td>-0.000516</td>\n",
       "      <td>0.130866</td>\n",
       "      <td>0.050293</td>\n",
       "      <td>0.013341</td>\n",
       "      <td>0.081057</td>\n",
       "      <td>NaN</td>\n",
       "    </tr>\n",
       "    <tr>\n",
       "      <th>Bump</th>\n",
       "      <td>-0.002580</td>\n",
       "      <td>-0.000857</td>\n",
       "      <td>0.012145</td>\n",
       "      <td>-0.019818</td>\n",
       "      <td>0.012142</td>\n",
       "      <td>-0.019821</td>\n",
       "      <td>-0.005003</td>\n",
       "      <td>-0.002490</td>\n",
       "      <td>-0.001550</td>\n",
       "      <td>0.003470</td>\n",
       "      <td>...</td>\n",
       "      <td>0.001255</td>\n",
       "      <td>0.000030</td>\n",
       "      <td>-0.000614</td>\n",
       "      <td>-0.000310</td>\n",
       "      <td>-0.000133</td>\n",
       "      <td>0.002861</td>\n",
       "      <td>0.035476</td>\n",
       "      <td>0.852726</td>\n",
       "      <td>-0.001641</td>\n",
       "      <td>NaN</td>\n",
       "    </tr>\n",
       "    <tr>\n",
       "      <th>Crossing</th>\n",
       "      <td>-0.003987</td>\n",
       "      <td>-0.010278</td>\n",
       "      <td>0.051691</td>\n",
       "      <td>-0.072287</td>\n",
       "      <td>0.051677</td>\n",
       "      <td>-0.072290</td>\n",
       "      <td>-0.072901</td>\n",
       "      <td>-0.009022</td>\n",
       "      <td>-0.002882</td>\n",
       "      <td>0.013021</td>\n",
       "      <td>...</td>\n",
       "      <td>0.074160</td>\n",
       "      <td>-0.064360</td>\n",
       "      <td>0.007555</td>\n",
       "      <td>0.243744</td>\n",
       "      <td>-0.001221</td>\n",
       "      <td>0.127499</td>\n",
       "      <td>0.130800</td>\n",
       "      <td>0.057847</td>\n",
       "      <td>0.383681</td>\n",
       "      <td>NaN</td>\n",
       "    </tr>\n",
       "    <tr>\n",
       "      <th>Give_Way</th>\n",
       "      <td>0.002347</td>\n",
       "      <td>0.000466</td>\n",
       "      <td>0.015692</td>\n",
       "      <td>-0.022102</td>\n",
       "      <td>0.015679</td>\n",
       "      <td>-0.022093</td>\n",
       "      <td>-0.009160</td>\n",
       "      <td>-0.005417</td>\n",
       "      <td>-0.005411</td>\n",
       "      <td>0.003890</td>\n",
       "      <td>...</td>\n",
       "      <td>1.000000</td>\n",
       "      <td>-0.010518</td>\n",
       "      <td>0.000667</td>\n",
       "      <td>0.007264</td>\n",
       "      <td>0.013734</td>\n",
       "      <td>0.005478</td>\n",
       "      <td>0.060007</td>\n",
       "      <td>0.002491</td>\n",
       "      <td>0.028113</td>\n",
       "      <td>NaN</td>\n",
       "    </tr>\n",
       "    <tr>\n",
       "      <th>Junction</th>\n",
       "      <td>0.053290</td>\n",
       "      <td>0.034311</td>\n",
       "      <td>-0.003977</td>\n",
       "      <td>-0.024044</td>\n",
       "      <td>-0.004046</td>\n",
       "      <td>-0.024016</td>\n",
       "      <td>0.001605</td>\n",
       "      <td>0.003688</td>\n",
       "      <td>-0.012820</td>\n",
       "      <td>0.013134</td>\n",
       "      <td>...</td>\n",
       "      <td>-0.010518</td>\n",
       "      <td>1.000000</td>\n",
       "      <td>0.003750</td>\n",
       "      <td>-0.014173</td>\n",
       "      <td>0.006656</td>\n",
       "      <td>-0.036028</td>\n",
       "      <td>-0.049859</td>\n",
       "      <td>-0.001848</td>\n",
       "      <td>-0.089319</td>\n",
       "      <td>NaN</td>\n",
       "    </tr>\n",
       "    <tr>\n",
       "      <th>No_Exit</th>\n",
       "      <td>-0.004062</td>\n",
       "      <td>0.000477</td>\n",
       "      <td>-0.012258</td>\n",
       "      <td>0.009194</td>\n",
       "      <td>-0.012255</td>\n",
       "      <td>0.009192</td>\n",
       "      <td>-0.004272</td>\n",
       "      <td>0.002172</td>\n",
       "      <td>0.002899</td>\n",
       "      <td>0.000915</td>\n",
       "      <td>...</td>\n",
       "      <td>0.000667</td>\n",
       "      <td>0.003750</td>\n",
       "      <td>1.000000</td>\n",
       "      <td>0.000621</td>\n",
       "      <td>-0.000169</td>\n",
       "      <td>0.001543</td>\n",
       "      <td>0.008846</td>\n",
       "      <td>-0.000720</td>\n",
       "      <td>0.004448</td>\n",
       "      <td>NaN</td>\n",
       "    </tr>\n",
       "    <tr>\n",
       "      <th>Railway</th>\n",
       "      <td>0.010422</td>\n",
       "      <td>-0.004836</td>\n",
       "      <td>0.009121</td>\n",
       "      <td>-0.019252</td>\n",
       "      <td>0.009115</td>\n",
       "      <td>-0.019241</td>\n",
       "      <td>-0.016035</td>\n",
       "      <td>-0.007999</td>\n",
       "      <td>-0.006913</td>\n",
       "      <td>0.009643</td>\n",
       "      <td>...</td>\n",
       "      <td>0.007264</td>\n",
       "      <td>-0.014173</td>\n",
       "      <td>0.000621</td>\n",
       "      <td>1.000000</td>\n",
       "      <td>-0.000580</td>\n",
       "      <td>0.163727</td>\n",
       "      <td>0.011544</td>\n",
       "      <td>-0.000940</td>\n",
       "      <td>0.047084</td>\n",
       "      <td>NaN</td>\n",
       "    </tr>\n",
       "    <tr>\n",
       "      <th>Roundabout</th>\n",
       "      <td>-0.002604</td>\n",
       "      <td>-0.000920</td>\n",
       "      <td>0.001779</td>\n",
       "      <td>-0.001904</td>\n",
       "      <td>0.001779</td>\n",
       "      <td>-0.001906</td>\n",
       "      <td>-0.002571</td>\n",
       "      <td>0.000575</td>\n",
       "      <td>0.000916</td>\n",
       "      <td>0.001207</td>\n",
       "      <td>...</td>\n",
       "      <td>0.013734</td>\n",
       "      <td>0.006656</td>\n",
       "      <td>-0.000169</td>\n",
       "      <td>-0.000580</td>\n",
       "      <td>1.000000</td>\n",
       "      <td>0.000815</td>\n",
       "      <td>0.011078</td>\n",
       "      <td>0.007929</td>\n",
       "      <td>-0.001596</td>\n",
       "      <td>NaN</td>\n",
       "    </tr>\n",
       "    <tr>\n",
       "      <th>Station</th>\n",
       "      <td>0.002968</td>\n",
       "      <td>-0.001930</td>\n",
       "      <td>-0.036978</td>\n",
       "      <td>0.010141</td>\n",
       "      <td>-0.036958</td>\n",
       "      <td>0.010112</td>\n",
       "      <td>-0.042604</td>\n",
       "      <td>0.005001</td>\n",
       "      <td>0.010103</td>\n",
       "      <td>0.013799</td>\n",
       "      <td>...</td>\n",
       "      <td>0.005478</td>\n",
       "      <td>-0.036028</td>\n",
       "      <td>0.001543</td>\n",
       "      <td>0.163727</td>\n",
       "      <td>0.000815</td>\n",
       "      <td>1.000000</td>\n",
       "      <td>0.045700</td>\n",
       "      <td>0.003779</td>\n",
       "      <td>0.169614</td>\n",
       "      <td>NaN</td>\n",
       "    </tr>\n",
       "    <tr>\n",
       "      <th>Stop</th>\n",
       "      <td>-0.016368</td>\n",
       "      <td>-0.005854</td>\n",
       "      <td>0.066732</td>\n",
       "      <td>-0.067698</td>\n",
       "      <td>0.066765</td>\n",
       "      <td>-0.067667</td>\n",
       "      <td>-0.034721</td>\n",
       "      <td>-0.020535</td>\n",
       "      <td>-0.018326</td>\n",
       "      <td>0.011864</td>\n",
       "      <td>...</td>\n",
       "      <td>0.060007</td>\n",
       "      <td>-0.049859</td>\n",
       "      <td>0.008846</td>\n",
       "      <td>0.011544</td>\n",
       "      <td>0.011078</td>\n",
       "      <td>0.045700</td>\n",
       "      <td>1.000000</td>\n",
       "      <td>0.034467</td>\n",
       "      <td>-0.029405</td>\n",
       "      <td>NaN</td>\n",
       "    </tr>\n",
       "    <tr>\n",
       "      <th>Traffic_Calming</th>\n",
       "      <td>-0.003029</td>\n",
       "      <td>-0.002511</td>\n",
       "      <td>0.013715</td>\n",
       "      <td>-0.022562</td>\n",
       "      <td>0.013714</td>\n",
       "      <td>-0.022565</td>\n",
       "      <td>-0.006851</td>\n",
       "      <td>-0.001450</td>\n",
       "      <td>-0.000004</td>\n",
       "      <td>0.003259</td>\n",
       "      <td>...</td>\n",
       "      <td>0.002491</td>\n",
       "      <td>-0.001848</td>\n",
       "      <td>-0.000720</td>\n",
       "      <td>-0.000940</td>\n",
       "      <td>0.007929</td>\n",
       "      <td>0.003779</td>\n",
       "      <td>0.034467</td>\n",
       "      <td>1.000000</td>\n",
       "      <td>0.013330</td>\n",
       "      <td>NaN</td>\n",
       "    </tr>\n",
       "    <tr>\n",
       "      <th>Traffic_Signal</th>\n",
       "      <td>0.037065</td>\n",
       "      <td>-0.007454</td>\n",
       "      <td>-0.035299</td>\n",
       "      <td>0.022103</td>\n",
       "      <td>-0.035311</td>\n",
       "      <td>0.022087</td>\n",
       "      <td>-0.095889</td>\n",
       "      <td>0.007037</td>\n",
       "      <td>0.013221</td>\n",
       "      <td>-0.003257</td>\n",
       "      <td>...</td>\n",
       "      <td>0.028113</td>\n",
       "      <td>-0.089319</td>\n",
       "      <td>0.004448</td>\n",
       "      <td>0.047084</td>\n",
       "      <td>-0.001596</td>\n",
       "      <td>0.169614</td>\n",
       "      <td>-0.029405</td>\n",
       "      <td>0.013330</td>\n",
       "      <td>1.000000</td>\n",
       "      <td>NaN</td>\n",
       "    </tr>\n",
       "    <tr>\n",
       "      <th>Turning_Loop</th>\n",
       "      <td>NaN</td>\n",
       "      <td>NaN</td>\n",
       "      <td>NaN</td>\n",
       "      <td>NaN</td>\n",
       "      <td>NaN</td>\n",
       "      <td>NaN</td>\n",
       "      <td>NaN</td>\n",
       "      <td>NaN</td>\n",
       "      <td>NaN</td>\n",
       "      <td>NaN</td>\n",
       "      <td>...</td>\n",
       "      <td>NaN</td>\n",
       "      <td>NaN</td>\n",
       "      <td>NaN</td>\n",
       "      <td>NaN</td>\n",
       "      <td>NaN</td>\n",
       "      <td>NaN</td>\n",
       "      <td>NaN</td>\n",
       "      <td>NaN</td>\n",
       "      <td>NaN</td>\n",
       "      <td>NaN</td>\n",
       "    </tr>\n",
       "  </tbody>\n",
       "</table>\n",
       "<p>27 rows × 27 columns</p>\n",
       "</div>"
      ],
      "text/plain": [
       "                   Unnamed: 0  Severity  Start_Lat  Start_Lng   End_Lat  \\\n",
       "Unnamed: 0           1.000000  0.037909  -0.007792  -0.003431 -0.007810   \n",
       "Severity             0.037909  1.000000  -0.039538   0.035997 -0.039511   \n",
       "Start_Lat           -0.007792 -0.039538   1.000000  -0.928022  0.999986   \n",
       "Start_Lng           -0.003431  0.035997  -0.928022   1.000000 -0.927970   \n",
       "End_Lat             -0.007810 -0.039511   0.999986  -0.927970  1.000000   \n",
       "End_Lng             -0.003527  0.035967  -0.927998   0.999966 -0.927953   \n",
       "Distance(mi)        -0.199061  0.049027  -0.035455   0.043045 -0.035183   \n",
       "Temperature(F)      -0.058885  0.016263  -0.182296   0.177632 -0.182281   \n",
       "Wind_Chill(F)       -0.056652  0.014361  -0.189647   0.177491 -0.189635   \n",
       "Humidity(%)         -0.030941  0.007111   0.079257  -0.139967  0.079220   \n",
       "Pressure(in)         0.016723  0.038156  -0.031747  -0.172341 -0.031788   \n",
       "Visibility(mi)       0.035508  0.008852   0.013111  -0.022983  0.013134   \n",
       "Wind_Speed(mph)     -0.047045  0.029385   0.109345  -0.127010  0.109351   \n",
       "Precipitation(in)   -0.004798  0.007966  -0.000916  -0.003188 -0.000926   \n",
       "Amenity             -0.010043  0.000377   0.006777  -0.020122  0.006788   \n",
       "Bump                -0.002580 -0.000857   0.012145  -0.019818  0.012142   \n",
       "Crossing            -0.003987 -0.010278   0.051691  -0.072287  0.051677   \n",
       "Give_Way             0.002347  0.000466   0.015692  -0.022102  0.015679   \n",
       "Junction             0.053290  0.034311  -0.003977  -0.024044 -0.004046   \n",
       "No_Exit             -0.004062  0.000477  -0.012258   0.009194 -0.012255   \n",
       "Railway              0.010422 -0.004836   0.009121  -0.019252  0.009115   \n",
       "Roundabout          -0.002604 -0.000920   0.001779  -0.001904  0.001779   \n",
       "Station              0.002968 -0.001930  -0.036978   0.010141 -0.036958   \n",
       "Stop                -0.016368 -0.005854   0.066732  -0.067698  0.066765   \n",
       "Traffic_Calming     -0.003029 -0.002511   0.013715  -0.022562  0.013714   \n",
       "Traffic_Signal       0.037065 -0.007454  -0.035299   0.022103 -0.035311   \n",
       "Turning_Loop              NaN       NaN        NaN        NaN       NaN   \n",
       "\n",
       "                    End_Lng  Distance(mi)  Temperature(F)  Wind_Chill(F)  \\\n",
       "Unnamed: 0        -0.003527     -0.199061       -0.058885      -0.056652   \n",
       "Severity           0.035967      0.049027        0.016263       0.014361   \n",
       "Start_Lat         -0.927998     -0.035455       -0.182296      -0.189647   \n",
       "Start_Lng          0.999966      0.043045        0.177632       0.177491   \n",
       "End_Lat           -0.927953     -0.035183       -0.182281      -0.189635   \n",
       "End_Lng            1.000000      0.043900        0.177748       0.177607   \n",
       "Distance(mi)       0.043900      1.000000        0.015088       0.012351   \n",
       "Temperature(F)     0.177748      0.015088        1.000000       0.996755   \n",
       "Wind_Chill(F)      0.177607      0.012351        0.996755       1.000000   \n",
       "Humidity(%)       -0.140102     -0.007729       -0.686222      -0.683822   \n",
       "Pressure(in)      -0.172373     -0.054924        0.054322       0.067365   \n",
       "Visibility(mi)    -0.022924     -0.020292        0.213826       0.213929   \n",
       "Wind_Speed(mph)   -0.126848      0.006861        0.232910       0.209373   \n",
       "Precipitation(in) -0.003208     -0.003679       -0.069265      -0.093395   \n",
       "Amenity           -0.020119     -0.028920        0.001997       0.004972   \n",
       "Bump              -0.019821     -0.005003       -0.002490      -0.001550   \n",
       "Crossing          -0.072290     -0.072901       -0.009022      -0.002882   \n",
       "Give_Way          -0.022093     -0.009160       -0.005417      -0.005411   \n",
       "Junction          -0.024016      0.001605        0.003688      -0.012820   \n",
       "No_Exit            0.009192     -0.004272        0.002172       0.002899   \n",
       "Railway           -0.019241     -0.016035       -0.007999      -0.006913   \n",
       "Roundabout        -0.001906     -0.002571        0.000575       0.000916   \n",
       "Station            0.010112     -0.042604        0.005001       0.010103   \n",
       "Stop              -0.067667     -0.034721       -0.020535      -0.018326   \n",
       "Traffic_Calming   -0.022565     -0.006851       -0.001450      -0.000004   \n",
       "Traffic_Signal     0.022087     -0.095889        0.007037       0.013221   \n",
       "Turning_Loop            NaN           NaN             NaN            NaN   \n",
       "\n",
       "                   Humidity(%)  ...  Give_Way  Junction   No_Exit   Railway  \\\n",
       "Unnamed: 0           -0.030941  ...  0.002347  0.053290 -0.004062  0.010422   \n",
       "Severity              0.007111  ...  0.000466  0.034311  0.000477 -0.004836   \n",
       "Start_Lat             0.079257  ...  0.015692 -0.003977 -0.012258  0.009121   \n",
       "Start_Lng            -0.139967  ... -0.022102 -0.024044  0.009194 -0.019252   \n",
       "End_Lat               0.079220  ...  0.015679 -0.004046 -0.012255  0.009115   \n",
       "End_Lng              -0.140102  ... -0.022093 -0.024016  0.009192 -0.019241   \n",
       "Distance(mi)         -0.007729  ... -0.009160  0.001605 -0.004272 -0.016035   \n",
       "Temperature(F)       -0.686222  ... -0.005417  0.003688  0.002172 -0.007999   \n",
       "Wind_Chill(F)        -0.683822  ... -0.005411 -0.012820  0.002899 -0.006913   \n",
       "Humidity(%)           1.000000  ...  0.003890  0.013134  0.000915  0.009643   \n",
       "Pressure(in)          0.131881  ...  0.003992  0.068029  0.004194  0.029604   \n",
       "Visibility(mi)       -0.349503  ...  0.001121  0.006226  0.002306  0.000073   \n",
       "Wind_Speed(mph)      -0.207445  ...  0.002868  0.024552 -0.005840 -0.002119   \n",
       "Precipitation(in)     0.111670  ... -0.000803  0.011621 -0.000605  0.000139   \n",
       "Amenity               0.007568  ...  0.012800 -0.029199  0.003452  0.017623   \n",
       "Bump                  0.003470  ...  0.001255  0.000030 -0.000614 -0.000310   \n",
       "Crossing              0.013021  ...  0.074160 -0.064360  0.007555  0.243744   \n",
       "Give_Way              0.003890  ...  1.000000 -0.010518  0.000667  0.007264   \n",
       "Junction              0.013134  ... -0.010518  1.000000  0.003750 -0.014173   \n",
       "No_Exit               0.000915  ...  0.000667  0.003750  1.000000  0.000621   \n",
       "Railway               0.009643  ...  0.007264 -0.014173  0.000621  1.000000   \n",
       "Roundabout            0.001207  ...  0.013734  0.006656 -0.000169 -0.000580   \n",
       "Station               0.013799  ...  0.005478 -0.036028  0.001543  0.163727   \n",
       "Stop                  0.011864  ...  0.060007 -0.049859  0.008846  0.011544   \n",
       "Traffic_Calming       0.003259  ...  0.002491 -0.001848 -0.000720 -0.000940   \n",
       "Traffic_Signal       -0.003257  ...  0.028113 -0.089319  0.004448  0.047084   \n",
       "Turning_Loop               NaN  ...       NaN       NaN       NaN       NaN   \n",
       "\n",
       "                   Roundabout   Station      Stop  Traffic_Calming  \\\n",
       "Unnamed: 0          -0.002604  0.002968 -0.016368        -0.003029   \n",
       "Severity            -0.000920 -0.001930 -0.005854        -0.002511   \n",
       "Start_Lat            0.001779 -0.036978  0.066732         0.013715   \n",
       "Start_Lng           -0.001904  0.010141 -0.067698        -0.022562   \n",
       "End_Lat              0.001779 -0.036958  0.066765         0.013714   \n",
       "End_Lng             -0.001906  0.010112 -0.067667        -0.022565   \n",
       "Distance(mi)        -0.002571 -0.042604 -0.034721        -0.006851   \n",
       "Temperature(F)       0.000575  0.005001 -0.020535        -0.001450   \n",
       "Wind_Chill(F)        0.000916  0.010103 -0.018326        -0.000004   \n",
       "Humidity(%)          0.001207  0.013799  0.011864         0.003259   \n",
       "Pressure(in)         0.000917  0.043957 -0.019831         0.008258   \n",
       "Visibility(mi)      -0.000060  0.007334  0.001257         0.005360   \n",
       "Wind_Speed(mph)      0.001473 -0.007423  0.004153         0.004732   \n",
       "Precipitation(in)   -0.000059 -0.004257 -0.004881        -0.001873   \n",
       "Amenity             -0.000516  0.130866  0.050293         0.013341   \n",
       "Bump                -0.000133  0.002861  0.035476         0.852726   \n",
       "Crossing            -0.001221  0.127499  0.130800         0.057847   \n",
       "Give_Way             0.013734  0.005478  0.060007         0.002491   \n",
       "Junction             0.006656 -0.036028 -0.049859        -0.001848   \n",
       "No_Exit             -0.000169  0.001543  0.008846        -0.000720   \n",
       "Railway             -0.000580  0.163727  0.011544        -0.000940   \n",
       "Roundabout           1.000000  0.000815  0.011078         0.007929   \n",
       "Station              0.000815  1.000000  0.045700         0.003779   \n",
       "Stop                 0.011078  0.045700  1.000000         0.034467   \n",
       "Traffic_Calming      0.007929  0.003779  0.034467         1.000000   \n",
       "Traffic_Signal      -0.001596  0.169614 -0.029405         0.013330   \n",
       "Turning_Loop              NaN       NaN       NaN              NaN   \n",
       "\n",
       "                   Traffic_Signal  Turning_Loop  \n",
       "Unnamed: 0               0.037065           NaN  \n",
       "Severity                -0.007454           NaN  \n",
       "Start_Lat               -0.035299           NaN  \n",
       "Start_Lng                0.022103           NaN  \n",
       "End_Lat                 -0.035311           NaN  \n",
       "End_Lng                  0.022087           NaN  \n",
       "Distance(mi)            -0.095889           NaN  \n",
       "Temperature(F)           0.007037           NaN  \n",
       "Wind_Chill(F)            0.013221           NaN  \n",
       "Humidity(%)             -0.003257           NaN  \n",
       "Pressure(in)             0.035978           NaN  \n",
       "Visibility(mi)           0.016162           NaN  \n",
       "Wind_Speed(mph)         -0.015154           NaN  \n",
       "Precipitation(in)       -0.009189           NaN  \n",
       "Amenity                  0.081057           NaN  \n",
       "Bump                    -0.001641           NaN  \n",
       "Crossing                 0.383681           NaN  \n",
       "Give_Way                 0.028113           NaN  \n",
       "Junction                -0.089319           NaN  \n",
       "No_Exit                  0.004448           NaN  \n",
       "Railway                  0.047084           NaN  \n",
       "Roundabout              -0.001596           NaN  \n",
       "Station                  0.169614           NaN  \n",
       "Stop                    -0.029405           NaN  \n",
       "Traffic_Calming          0.013330           NaN  \n",
       "Traffic_Signal           1.000000           NaN  \n",
       "Turning_Loop                  NaN           NaN  \n",
       "\n",
       "[27 rows x 27 columns]"
      ]
     },
     "execution_count": 29,
     "metadata": {},
     "output_type": "execute_result"
    }
   ],
   "source": [
    "combined.corr()"
   ]
  },
  {
   "cell_type": "markdown",
   "id": "232e6dc2",
   "metadata": {},
   "source": [
    "### Dropping the unnamed column as it is acting like an index. "
   ]
  },
  {
   "cell_type": "code",
   "execution_count": 6,
   "id": "6887fdb6",
   "metadata": {},
   "outputs": [],
   "source": [
    "combined.drop('Unnamed: 0',axis = 1, inplace = True)"
   ]
  },
  {
   "cell_type": "markdown",
   "id": "9559edd4",
   "metadata": {},
   "source": [
    "#### Checking frequencies for target variable. "
   ]
  },
  {
   "cell_type": "code",
   "execution_count": 31,
   "id": "62aac58c",
   "metadata": {},
   "outputs": [
    {
     "data": {
      "text/plain": [
       "<AxesSubplot:xlabel='Severity', ylabel='count'>"
      ]
     },
     "execution_count": 31,
     "metadata": {},
     "output_type": "execute_result"
    },
    {
     "data": {
      "image/png": "[encoded data removed]",
      "text/plain": [
       "<Figure size 1080x720 with 1 Axes>"
      ]
     },
     "metadata": {
      "needs_background": "light"
     },
     "output_type": "display_data"
    }
   ],
   "source": [
    "sns.countplot(combined.Severity)"
   ]
  },
  {
   "cell_type": "markdown",
   "id": "95f1d5ce",
   "metadata": {},
   "source": [
    "### Target variable is highly imbalanced."
   ]
  },
  {
   "cell_type": "code",
   "execution_count": 32,
   "id": "4bdd9a64",
   "metadata": {},
   "outputs": [
    {
     "data": {
      "text/plain": [
       "Index(['Severity', 'Start_Lat', 'Start_Lng', 'End_Lat', 'End_Lng',\n",
       "       'Distance(mi)', 'Temperature(F)', 'Wind_Chill(F)', 'Humidity(%)',\n",
       "       'Pressure(in)', 'Visibility(mi)', 'Wind_Speed(mph)',\n",
       "       'Precipitation(in)'],\n",
       "      dtype='object')"
      ]
     },
     "execution_count": 32,
     "metadata": {},
     "output_type": "execute_result"
    }
   ],
   "source": [
    "combined.select_dtypes(include = np.number).columns\n"
   ]
  },
  {
   "cell_type": "code",
   "execution_count": null,
   "id": "7dc82dac",
   "metadata": {},
   "outputs": [],
   "source": []
  },
  {
   "cell_type": "markdown",
   "id": "09df1a83",
   "metadata": {},
   "source": [
    "### Univariate analysis"
   ]
  },
  {
   "cell_type": "markdown",
   "id": "479a085b",
   "metadata": {},
   "source": [
    "## Numeric"
   ]
  },
  {
   "cell_type": "code",
   "execution_count": 33,
   "id": "0f7143ee",
   "metadata": {},
   "outputs": [],
   "source": [
    "import warnings\n",
    "warnings.filterwarnings('ignore')"
   ]
  },
  {
   "cell_type": "code",
   "execution_count": 34,
   "id": "e7cd3a6a",
   "metadata": {},
   "outputs": [
    {
     "data": {
      "image/png": "[encoded data removed]",
      "text/plain": [
       "<Figure size 1080x720 with 13 Axes>"
      ]
     },
     "metadata": {
      "needs_background": "light"
     },
     "output_type": "display_data"
    },
    {
     "data": {
      "text/plain": [
       "<Figure size 1080x432 with 0 Axes>"
      ]
     },
     "metadata": {},
     "output_type": "display_data"
    }
   ],
   "source": [
    "cols = ['Severity', 'Start_Lat', 'Start_Lng', 'End_Lat',\n",
    "       'End_Lng', 'Distance(mi)', 'Temperature(F)', 'Wind_Chill(F)',\n",
    "       'Humidity(%)', 'Pressure(in)', 'Visibility(mi)', 'Wind_Speed(mph)',\n",
    "       'Precipitation(in)']\n",
    "\n",
    "a = 7\n",
    "b = 2\n",
    "c = 1\n",
    "\n",
    "for i in cols:\n",
    "    plt.subplot(a, b, c) # for making multiple plots.\n",
    "    sns.boxplot(combined.loc[:, i], color =\"coral\")\n",
    "    plt.xlabel(i)\n",
    "    c = c+1 # Meant for Iterator\n",
    "\n",
    "plt.tight_layout()\n",
    "plt.figure(figsize = (15, 6))\n",
    "plt.show()\n"
   ]
  },
  {
   "cell_type": "markdown",
   "id": "8d192957",
   "metadata": {},
   "source": [
    "#### Distance, precipitation, wind speed are right skewed. Pressure is left skewed."
   ]
  },
  {
   "cell_type": "markdown",
   "id": "42659b7b",
   "metadata": {},
   "source": [
    "#### Severity and visibility have very less distinct values so we will convert them into object afterwards."
   ]
  },
  {
   "cell_type": "code",
   "execution_count": 35,
   "id": "1b27ae27",
   "metadata": {},
   "outputs": [
    {
     "data": {
      "text/html": [
       "<div>\n",
       "<style scoped>\n",
       "    .dataframe tbody tr th:only-of-type {\n",
       "        vertical-align: middle;\n",
       "    }\n",
       "\n",
       "    .dataframe tbody tr th {\n",
       "        vertical-align: top;\n",
       "    }\n",
       "\n",
       "    .dataframe thead th {\n",
       "        text-align: right;\n",
       "    }\n",
       "</style>\n",
       "<table border=\"1\" class=\"dataframe\">\n",
       "  <thead>\n",
       "    <tr style=\"text-align: right;\">\n",
       "      <th></th>\n",
       "      <th>count</th>\n",
       "      <th>mean</th>\n",
       "      <th>std</th>\n",
       "      <th>min</th>\n",
       "      <th>25%</th>\n",
       "      <th>50%</th>\n",
       "      <th>75%</th>\n",
       "      <th>max</th>\n",
       "    </tr>\n",
       "  </thead>\n",
       "  <tbody>\n",
       "    <tr>\n",
       "      <th>Severity</th>\n",
       "      <td>795868.0</td>\n",
       "      <td>2.041998</td>\n",
       "      <td>0.275502</td>\n",
       "      <td>1.000000</td>\n",
       "      <td>2.000000</td>\n",
       "      <td>2.000000</td>\n",
       "      <td>2.000000</td>\n",
       "      <td>4.000000</td>\n",
       "    </tr>\n",
       "    <tr>\n",
       "      <th>Start_Lat</th>\n",
       "      <td>795868.0</td>\n",
       "      <td>35.616044</td>\n",
       "      <td>2.115571</td>\n",
       "      <td>32.542772</td>\n",
       "      <td>33.973011</td>\n",
       "      <td>34.226901</td>\n",
       "      <td>37.700305</td>\n",
       "      <td>42.005420</td>\n",
       "    </tr>\n",
       "    <tr>\n",
       "      <th>Start_Lng</th>\n",
       "      <td>795868.0</td>\n",
       "      <td>-119.438702</td>\n",
       "      <td>1.915048</td>\n",
       "      <td>-124.374965</td>\n",
       "      <td>-121.434062</td>\n",
       "      <td>-118.419514</td>\n",
       "      <td>-117.888768</td>\n",
       "      <td>-114.138935</td>\n",
       "    </tr>\n",
       "    <tr>\n",
       "      <th>End_Lat</th>\n",
       "      <td>795868.0</td>\n",
       "      <td>35.616243</td>\n",
       "      <td>2.115771</td>\n",
       "      <td>32.542032</td>\n",
       "      <td>33.973125</td>\n",
       "      <td>34.228038</td>\n",
       "      <td>37.700413</td>\n",
       "      <td>42.037082</td>\n",
       "    </tr>\n",
       "    <tr>\n",
       "      <th>End_Lng</th>\n",
       "      <td>795868.0</td>\n",
       "      <td>-119.438261</td>\n",
       "      <td>1.915053</td>\n",
       "      <td>-124.365736</td>\n",
       "      <td>-121.435073</td>\n",
       "      <td>-118.419233</td>\n",
       "      <td>-117.888784</td>\n",
       "      <td>-114.139815</td>\n",
       "    </tr>\n",
       "    <tr>\n",
       "      <th>Distance(mi)</th>\n",
       "      <td>795868.0</td>\n",
       "      <td>0.521234</td>\n",
       "      <td>1.059526</td>\n",
       "      <td>0.000000</td>\n",
       "      <td>0.000000</td>\n",
       "      <td>0.161000</td>\n",
       "      <td>0.587000</td>\n",
       "      <td>137.618000</td>\n",
       "    </tr>\n",
       "    <tr>\n",
       "      <th>Temperature(F)</th>\n",
       "      <td>773334.0</td>\n",
       "      <td>63.574279</td>\n",
       "      <td>13.790457</td>\n",
       "      <td>-17.000000</td>\n",
       "      <td>54.000000</td>\n",
       "      <td>62.600000</td>\n",
       "      <td>72.000000</td>\n",
       "      <td>120.000000</td>\n",
       "    </tr>\n",
       "    <tr>\n",
       "      <th>Wind_Chill(F)</th>\n",
       "      <td>664721.0</td>\n",
       "      <td>62.741734</td>\n",
       "      <td>14.481069</td>\n",
       "      <td>-17.000000</td>\n",
       "      <td>53.000000</td>\n",
       "      <td>62.000000</td>\n",
       "      <td>72.000000</td>\n",
       "      <td>120.000000</td>\n",
       "    </tr>\n",
       "    <tr>\n",
       "      <th>Humidity(%)</th>\n",
       "      <td>772282.0</td>\n",
       "      <td>58.906841</td>\n",
       "      <td>24.520054</td>\n",
       "      <td>1.000000</td>\n",
       "      <td>40.000000</td>\n",
       "      <td>62.000000</td>\n",
       "      <td>79.000000</td>\n",
       "      <td>100.000000</td>\n",
       "    </tr>\n",
       "    <tr>\n",
       "      <th>Pressure(in)</th>\n",
       "      <td>778334.0</td>\n",
       "      <td>29.544588</td>\n",
       "      <td>0.841306</td>\n",
       "      <td>0.300000</td>\n",
       "      <td>29.460000</td>\n",
       "      <td>29.820000</td>\n",
       "      <td>29.960000</td>\n",
       "      <td>58.900000</td>\n",
       "    </tr>\n",
       "    <tr>\n",
       "      <th>Visibility(mi)</th>\n",
       "      <td>777381.0</td>\n",
       "      <td>8.932701</td>\n",
       "      <td>2.787830</td>\n",
       "      <td>0.000000</td>\n",
       "      <td>10.000000</td>\n",
       "      <td>10.000000</td>\n",
       "      <td>10.000000</td>\n",
       "      <td>140.000000</td>\n",
       "    </tr>\n",
       "    <tr>\n",
       "      <th>Wind_Speed(mph)</th>\n",
       "      <td>750221.0</td>\n",
       "      <td>6.242314</td>\n",
       "      <td>5.660046</td>\n",
       "      <td>0.000000</td>\n",
       "      <td>3.000000</td>\n",
       "      <td>6.000000</td>\n",
       "      <td>9.000000</td>\n",
       "      <td>1087.000000</td>\n",
       "    </tr>\n",
       "    <tr>\n",
       "      <th>Precipitation(in)</th>\n",
       "      <td>625445.0</td>\n",
       "      <td>0.004268</td>\n",
       "      <td>0.045341</td>\n",
       "      <td>0.000000</td>\n",
       "      <td>0.000000</td>\n",
       "      <td>0.000000</td>\n",
       "      <td>0.000000</td>\n",
       "      <td>24.000000</td>\n",
       "    </tr>\n",
       "  </tbody>\n",
       "</table>\n",
       "</div>"
      ],
      "text/plain": [
       "                      count        mean        std         min         25%  \\\n",
       "Severity           795868.0    2.041998   0.275502    1.000000    2.000000   \n",
       "Start_Lat          795868.0   35.616044   2.115571   32.542772   33.973011   \n",
       "Start_Lng          795868.0 -119.438702   1.915048 -124.374965 -121.434062   \n",
       "End_Lat            795868.0   35.616243   2.115771   32.542032   33.973125   \n",
       "End_Lng            795868.0 -119.438261   1.915053 -124.365736 -121.435073   \n",
       "Distance(mi)       795868.0    0.521234   1.059526    0.000000    0.000000   \n",
       "Temperature(F)     773334.0   63.574279  13.790457  -17.000000   54.000000   \n",
       "Wind_Chill(F)      664721.0   62.741734  14.481069  -17.000000   53.000000   \n",
       "Humidity(%)        772282.0   58.906841  24.520054    1.000000   40.000000   \n",
       "Pressure(in)       778334.0   29.544588   0.841306    0.300000   29.460000   \n",
       "Visibility(mi)     777381.0    8.932701   2.787830    0.000000   10.000000   \n",
       "Wind_Speed(mph)    750221.0    6.242314   5.660046    0.000000    3.000000   \n",
       "Precipitation(in)  625445.0    0.004268   0.045341    0.000000    0.000000   \n",
       "\n",
       "                          50%         75%          max  \n",
       "Severity             2.000000    2.000000     4.000000  \n",
       "Start_Lat           34.226901   37.700305    42.005420  \n",
       "Start_Lng         -118.419514 -117.888768  -114.138935  \n",
       "End_Lat             34.228038   37.700413    42.037082  \n",
       "End_Lng           -118.419233 -117.888784  -114.139815  \n",
       "Distance(mi)         0.161000    0.587000   137.618000  \n",
       "Temperature(F)      62.600000   72.000000   120.000000  \n",
       "Wind_Chill(F)       62.000000   72.000000   120.000000  \n",
       "Humidity(%)         62.000000   79.000000   100.000000  \n",
       "Pressure(in)        29.820000   29.960000    58.900000  \n",
       "Visibility(mi)      10.000000   10.000000   140.000000  \n",
       "Wind_Speed(mph)      6.000000    9.000000  1087.000000  \n",
       "Precipitation(in)    0.000000    0.000000    24.000000  "
      ]
     },
     "execution_count": 35,
     "metadata": {},
     "output_type": "execute_result"
    }
   ],
   "source": [
    "# Statistical summary of the Data\n",
    "combined.loc[:, cols].describe().T"
   ]
  },
  {
   "cell_type": "code",
   "execution_count": null,
   "id": "71c3b09d",
   "metadata": {},
   "outputs": [],
   "source": []
  },
  {
   "cell_type": "markdown",
   "id": "75e945ea",
   "metadata": {},
   "source": [
    "## Categorical"
   ]
  },
  {
   "cell_type": "code",
   "execution_count": 8,
   "id": "fb784d73",
   "metadata": {},
   "outputs": [],
   "source": [
    "# Categorical Variables - Countplot...\n",
    "df_cat = combined.select_dtypes(include=\"object\").columns\n"
   ]
  },
  {
   "cell_type": "code",
   "execution_count": 9,
   "id": "af910145",
   "metadata": {},
   "outputs": [
    {
     "data": {
      "text/plain": [
       "20"
      ]
     },
     "execution_count": 9,
     "metadata": {},
     "output_type": "execute_result"
    }
   ],
   "source": [
    "len(combined.select_dtypes(include=\"object\").columns)"
   ]
  },
  {
   "cell_type": "code",
   "execution_count": 39,
   "id": "529a674e",
   "metadata": {},
   "outputs": [
    {
     "data": {
      "text/plain": [
       "(795868, 46)"
      ]
     },
     "execution_count": 39,
     "metadata": {},
     "output_type": "execute_result"
    }
   ],
   "source": [
    "combined.shape"
   ]
  },
  {
   "cell_type": "code",
   "execution_count": 10,
   "id": "13d70917",
   "metadata": {},
   "outputs": [
    {
     "data": {
      "text/html": [
       "<div>\n",
       "<style scoped>\n",
       "    .dataframe tbody tr th:only-of-type {\n",
       "        vertical-align: middle;\n",
       "    }\n",
       "\n",
       "    .dataframe tbody tr th {\n",
       "        vertical-align: top;\n",
       "    }\n",
       "\n",
       "    .dataframe thead th {\n",
       "        text-align: right;\n",
       "    }\n",
       "</style>\n",
       "<table border=\"1\" class=\"dataframe\">\n",
       "  <thead>\n",
       "    <tr style=\"text-align: right;\">\n",
       "      <th></th>\n",
       "      <th>feature</th>\n",
       "      <th>count_of_unique_values</th>\n",
       "    </tr>\n",
       "  </thead>\n",
       "  <tbody>\n",
       "    <tr>\n",
       "      <th>0</th>\n",
       "      <td>ID</td>\n",
       "      <td>100.000000</td>\n",
       "    </tr>\n",
       "    <tr>\n",
       "      <th>1</th>\n",
       "      <td>Start_Time</td>\n",
       "      <td>68.932160</td>\n",
       "    </tr>\n",
       "    <tr>\n",
       "      <th>2</th>\n",
       "      <td>End_Time</td>\n",
       "      <td>84.424553</td>\n",
       "    </tr>\n",
       "    <tr>\n",
       "      <th>3</th>\n",
       "      <td>Description</td>\n",
       "      <td>36.504295</td>\n",
       "    </tr>\n",
       "    <tr>\n",
       "      <th>4</th>\n",
       "      <td>Street</td>\n",
       "      <td>4.780692</td>\n",
       "    </tr>\n",
       "    <tr>\n",
       "      <th>5</th>\n",
       "      <td>Side</td>\n",
       "      <td>0.000377</td>\n",
       "    </tr>\n",
       "    <tr>\n",
       "      <th>6</th>\n",
       "      <td>City</td>\n",
       "      <td>0.150151</td>\n",
       "    </tr>\n",
       "    <tr>\n",
       "      <th>7</th>\n",
       "      <td>County</td>\n",
       "      <td>0.007288</td>\n",
       "    </tr>\n",
       "    <tr>\n",
       "      <th>8</th>\n",
       "      <td>State</td>\n",
       "      <td>0.000126</td>\n",
       "    </tr>\n",
       "    <tr>\n",
       "      <th>9</th>\n",
       "      <td>Zipcode</td>\n",
       "      <td>9.295763</td>\n",
       "    </tr>\n",
       "    <tr>\n",
       "      <th>10</th>\n",
       "      <td>Country</td>\n",
       "      <td>0.000126</td>\n",
       "    </tr>\n",
       "    <tr>\n",
       "      <th>11</th>\n",
       "      <td>Timezone</td>\n",
       "      <td>0.000377</td>\n",
       "    </tr>\n",
       "    <tr>\n",
       "      <th>12</th>\n",
       "      <td>Airport_Code</td>\n",
       "      <td>0.017842</td>\n",
       "    </tr>\n",
       "    <tr>\n",
       "      <th>13</th>\n",
       "      <td>Weather_Timestamp</td>\n",
       "      <td>25.727759</td>\n",
       "    </tr>\n",
       "    <tr>\n",
       "      <th>14</th>\n",
       "      <td>Wind_Direction</td>\n",
       "      <td>0.003141</td>\n",
       "    </tr>\n",
       "    <tr>\n",
       "      <th>15</th>\n",
       "      <td>Weather_Condition</td>\n",
       "      <td>0.009549</td>\n",
       "    </tr>\n",
       "    <tr>\n",
       "      <th>16</th>\n",
       "      <td>Sunrise_Sunset</td>\n",
       "      <td>0.000377</td>\n",
       "    </tr>\n",
       "    <tr>\n",
       "      <th>17</th>\n",
       "      <td>Civil_Twilight</td>\n",
       "      <td>0.000377</td>\n",
       "    </tr>\n",
       "    <tr>\n",
       "      <th>18</th>\n",
       "      <td>Nautical_Twilight</td>\n",
       "      <td>0.000377</td>\n",
       "    </tr>\n",
       "    <tr>\n",
       "      <th>19</th>\n",
       "      <td>Astronomical_Twilight</td>\n",
       "      <td>0.000377</td>\n",
       "    </tr>\n",
       "  </tbody>\n",
       "</table>\n",
       "</div>"
      ],
      "text/plain": [
       "                  feature  count_of_unique_values\n",
       "0                      ID              100.000000\n",
       "1              Start_Time               68.932160\n",
       "2                End_Time               84.424553\n",
       "3             Description               36.504295\n",
       "4                  Street                4.780692\n",
       "5                    Side                0.000377\n",
       "6                    City                0.150151\n",
       "7                  County                0.007288\n",
       "8                   State                0.000126\n",
       "9                 Zipcode                9.295763\n",
       "10                Country                0.000126\n",
       "11               Timezone                0.000377\n",
       "12           Airport_Code                0.017842\n",
       "13      Weather_Timestamp               25.727759\n",
       "14         Wind_Direction                0.003141\n",
       "15      Weather_Condition                0.009549\n",
       "16         Sunrise_Sunset                0.000377\n",
       "17         Civil_Twilight                0.000377\n",
       "18      Nautical_Twilight                0.000377\n",
       "19  Astronomical_Twilight                0.000377"
      ]
     },
     "execution_count": 10,
     "metadata": {},
     "output_type": "execute_result"
    }
   ],
   "source": [
    "df_cat=combined.select_dtypes('object')\n",
    "col_name=[]\n",
    "length=[]\n",
    "\n",
    "for i in df_cat.columns:\n",
    "    col_name.append(i)\n",
    "    length.append(len(df_cat[i].unique()))\n",
    "x = len(combined)\n",
    "length=[j/x*100 for j in length]\n",
    "df_2=pd.DataFrame(zip(col_name,length),columns=['feature','count_of_unique_values'])\n",
    "df_2"
   ]
  },
  {
   "cell_type": "code",
   "execution_count": 41,
   "id": "1d5b8db8",
   "metadata": {},
   "outputs": [
    {
     "data": {
      "image/png": "[encoded data removed]",
      "text/plain": [
       "<Figure size 1080x720 with 9 Axes>"
      ]
     },
     "metadata": {
      "needs_background": "light"
     },
     "output_type": "display_data"
    }
   ],
   "source": [
    "plt.figure(figsize = (15, 10))\n",
    "\n",
    "cols =[  'Side', \n",
    "        'State', 'Country', 'Timezone', 'Wind_Direction',\n",
    "       'Sunrise_Sunset', 'Civil_Twilight', 'Nautical_Twilight',\n",
    "       'Astronomical_Twilight']\n",
    "a = 5\n",
    "b = 3\n",
    "c = 1\n",
    "\n",
    "for i in cols:\n",
    "    plt.subplot(a,b,c)\n",
    "    sns.countplot(combined.loc[:, i])\n",
    "    plt.xlabel(i)\n",
    "    c = c+1\n",
    "    \n",
    "plt.tight_layout()\n",
    "plt.show()\n"
   ]
  },
  {
   "cell_type": "markdown",
   "id": "36987fdc",
   "metadata": {},
   "source": [
    "#### More accidents had happened in the daytime."
   ]
  },
  {
   "cell_type": "code",
   "execution_count": 42,
   "id": "19732c8d",
   "metadata": {},
   "outputs": [
    {
     "data": {
      "text/plain": [
       "(array([ 0,  1,  2,  3,  4,  5,  6,  7,  8,  9, 10, 11, 12, 13, 14, 15, 16,\n",
       "        17, 18, 19, 20, 21, 22, 23]),\n",
       " [Text(0, 0, 'Calm'),\n",
       "  Text(1, 0, 'WNW'),\n",
       "  Text(2, 0, 'NW'),\n",
       "  Text(3, 0, 'NNW'),\n",
       "  Text(4, 0, 'North'),\n",
       "  Text(5, 0, 'West'),\n",
       "  Text(6, 0, 'SW'),\n",
       "  Text(7, 0, 'Variable'),\n",
       "  Text(8, 0, 'SSW'),\n",
       "  Text(9, 0, 'WSW'),\n",
       "  Text(10, 0, 'ENE'),\n",
       "  Text(11, 0, 'SE'),\n",
       "  Text(12, 0, 'South'),\n",
       "  Text(13, 0, 'SSE'),\n",
       "  Text(14, 0, 'ESE'),\n",
       "  Text(15, 0, 'NNE'),\n",
       "  Text(16, 0, 'East'),\n",
       "  Text(17, 0, 'NE'),\n",
       "  Text(18, 0, 'CALM'),\n",
       "  Text(19, 0, 'VAR'),\n",
       "  Text(20, 0, 'W'),\n",
       "  Text(21, 0, 'S'),\n",
       "  Text(22, 0, 'N'),\n",
       "  Text(23, 0, 'E')])"
      ]
     },
     "execution_count": 42,
     "metadata": {},
     "output_type": "execute_result"
    },
    {
     "data": {
      "image/png": "[encoded data removed]",
      "text/plain": [
       "<Figure size 1080x720 with 1 Axes>"
      ]
     },
     "metadata": {
      "needs_background": "light"
     },
     "output_type": "display_data"
    }
   ],
   "source": [
    "sns.countplot(combined.Wind_Direction)\n",
    "plt.xticks(rotation = 90)"
   ]
  },
  {
   "cell_type": "markdown",
   "id": "12b02dd3",
   "metadata": {},
   "source": [
    "#### Most of the observations have wind direction as calm. "
   ]
  },
  {
   "cell_type": "code",
   "execution_count": 7,
   "id": "f011f301",
   "metadata": {},
   "outputs": [
    {
     "data": {
      "text/plain": [
       "2    0.956769\n",
       "3    0.025397\n",
       "4    0.011478\n",
       "1    0.006355\n",
       "Name: Severity, dtype: float64"
      ]
     },
     "execution_count": 7,
     "metadata": {},
     "output_type": "execute_result"
    }
   ],
   "source": [
    "combined.Severity.value_counts(normalize=True)"
   ]
  },
  {
   "cell_type": "code",
   "execution_count": 8,
   "id": "0fd289d2",
   "metadata": {},
   "outputs": [],
   "source": [
    "y = combined.Severity\n",
    "X = combined.drop('Severity', axis =1)"
   ]
  },
  {
   "cell_type": "code",
   "execution_count": 9,
   "id": "7fa84e41",
   "metadata": {},
   "outputs": [],
   "source": [
    "from sklearn.model_selection import train_test_split\n",
    "X_train, X_test, y_train, y_test = train_test_split(X,y)"
   ]
  },
  {
   "cell_type": "markdown",
   "id": "9eb24acb",
   "metadata": {},
   "source": [
    "### Base Model\n"
   ]
  },
  {
   "cell_type": "code",
   "execution_count": 47,
   "id": "9294512b",
   "metadata": {},
   "outputs": [],
   "source": [
    "y_pred = y_test.replace([1,2,3,4],[1,1,1,1])"
   ]
  },
  {
   "cell_type": "code",
   "execution_count": 48,
   "id": "16969218",
   "metadata": {},
   "outputs": [
    {
     "name": "stdout",
     "output_type": "stream",
     "text": [
      "              precision    recall  f1-score   support\n",
      "\n",
      "           1       0.01      1.00      0.01      1254\n",
      "           2       0.00      0.00      0.00    190357\n",
      "           3       0.00      0.00      0.00      5116\n",
      "           4       0.00      0.00      0.00      2240\n",
      "\n",
      "    accuracy                           0.01    198967\n",
      "   macro avg       0.00      0.25      0.00    198967\n",
      "weighted avg       0.00      0.01      0.00    198967\n",
      "\n"
     ]
    }
   ],
   "source": [
    "from sklearn.metrics import classification_report\n",
    "print(classification_report(y_test, y_pred))"
   ]
  },
  {
   "cell_type": "markdown",
   "id": "dab31a46",
   "metadata": {},
   "source": [
    "#### In base model, we take all the predictions equal to one, to find the worst case scenario i.e. worst accuracy. "
   ]
  },
  {
   "cell_type": "markdown",
   "id": "321a9cb4",
   "metadata": {},
   "source": [
    "## Bivariate "
   ]
  },
  {
   "cell_type": "markdown",
   "id": "fc9bf1ac",
   "metadata": {},
   "source": [
    "### Num vs Target Variable"
   ]
  },
  {
   "cell_type": "code",
   "execution_count": 50,
   "id": "04cfcf73",
   "metadata": {},
   "outputs": [
    {
     "data": {
      "image/png": "[encoded data removed]",
      "text/plain": [
       "<Figure size 1080x720 with 12 Axes>"
      ]
     },
     "metadata": {
      "needs_background": "light"
     },
     "output_type": "display_data"
    }
   ],
   "source": [
    "\n",
    "\n",
    "cols = ['Start_Lat', 'Start_Lng', 'End_Lat', 'End_Lng',\n",
    "       'Distance(mi)', 'Temperature(F)', 'Wind_Chill(F)', 'Humidity(%)',\n",
    "       'Pressure(in)', 'Visibility(mi)', 'Wind_Speed(mph)',\n",
    "       'Precipitation(in)']\n",
    "\n",
    "a = 5\n",
    "b = 3\n",
    "c = 1\n",
    "\n",
    "for i in cols:\n",
    "    plt.subplot(a, b, c)\n",
    "    sns.boxplot(x = combined.Severity, y = combined.loc[:, i])\n",
    "    plt.xlabel(\"Sevirity\")\n",
    "    c = c+1.\n",
    "plt.tight_layout()\n",
    "plt.show()\n",
    "\n"
   ]
  },
  {
   "cell_type": "markdown",
   "id": "ef741826",
   "metadata": {},
   "source": [
    "#### Severity is low when latitude is greater than 35. In other cases, as boxplots are overlapping, these numerical features are not able to separate the target variable correctly. "
   ]
  },
  {
   "cell_type": "code",
   "execution_count": 51,
   "id": "ac5ecbdc",
   "metadata": {},
   "outputs": [
    {
     "data": {
      "text/plain": [
       "count    795868.000000\n",
       "mean          0.521234\n",
       "std           1.059526\n",
       "min           0.000000\n",
       "25%           0.000000\n",
       "50%           0.161000\n",
       "75%           0.587000\n",
       "max         137.618000\n",
       "Name: Distance(mi), dtype: float64"
      ]
     },
     "execution_count": 51,
     "metadata": {},
     "output_type": "execute_result"
    }
   ],
   "source": [
    "combined['Distance(mi)'].describe()"
   ]
  },
  {
   "cell_type": "code",
   "execution_count": 52,
   "id": "89c21bfa",
   "metadata": {},
   "outputs": [
    {
     "data": {
      "text/plain": [
       "<AxesSubplot:xlabel='Severity', ylabel='Distance(mi)'>"
      ]
     },
     "execution_count": 52,
     "metadata": {},
     "output_type": "execute_result"
    },
    {
     "data": {
      "image/png": "[encoded data removed]",
      "text/plain": [
       "<Figure size 1080x720 with 1 Axes>"
      ]
     },
     "metadata": {
      "needs_background": "light"
     },
     "output_type": "display_data"
    }
   ],
   "source": [
    "sns.boxplot(y=combined['Distance(mi)'],x=combined['Severity'])"
   ]
  },
  {
   "cell_type": "markdown",
   "id": "b3f006fc",
   "metadata": {},
   "source": [
    "#### Changing datatype of target column. "
   ]
  },
  {
   "cell_type": "code",
   "execution_count": 10,
   "id": "183f9feb",
   "metadata": {},
   "outputs": [],
   "source": [
    "combined.Severity=combined.Severity.astype('object')"
   ]
  },
  {
   "cell_type": "code",
   "execution_count": 11,
   "id": "28af4c3c",
   "metadata": {},
   "outputs": [
    {
     "data": {
      "text/plain": [
       "ID                        object\n",
       "Severity                  object\n",
       "Start_Time                object\n",
       "End_Time                  object\n",
       "Start_Lat                float64\n",
       "Start_Lng                float64\n",
       "End_Lat                  float64\n",
       "End_Lng                  float64\n",
       "Distance(mi)             float64\n",
       "Description               object\n",
       "Street                    object\n",
       "Side                      object\n",
       "City                      object\n",
       "County                    object\n",
       "State                     object\n",
       "Zipcode                   object\n",
       "Country                   object\n",
       "Timezone                  object\n",
       "Airport_Code              object\n",
       "Weather_Timestamp         object\n",
       "Temperature(F)           float64\n",
       "Wind_Chill(F)            float64\n",
       "Humidity(%)              float64\n",
       "Pressure(in)             float64\n",
       "Visibility(mi)           float64\n",
       "Wind_Direction            object\n",
       "Wind_Speed(mph)          float64\n",
       "Precipitation(in)        float64\n",
       "Weather_Condition         object\n",
       "Amenity                     bool\n",
       "Bump                        bool\n",
       "Crossing                    bool\n",
       "Give_Way                    bool\n",
       "Junction                    bool\n",
       "No_Exit                     bool\n",
       "Railway                     bool\n",
       "Roundabout                  bool\n",
       "Station                     bool\n",
       "Stop                        bool\n",
       "Traffic_Calming             bool\n",
       "Traffic_Signal              bool\n",
       "Turning_Loop                bool\n",
       "Sunrise_Sunset            object\n",
       "Civil_Twilight            object\n",
       "Nautical_Twilight         object\n",
       "Astronomical_Twilight     object\n",
       "dtype: object"
      ]
     },
     "execution_count": 11,
     "metadata": {},
     "output_type": "execute_result"
    }
   ],
   "source": [
    "combined.dtypes"
   ]
  },
  {
   "cell_type": "code",
   "execution_count": 14,
   "id": "a559bfc1",
   "metadata": {},
   "outputs": [
    {
     "data": {
      "text/plain": [
       "Index(['ID', 'Severity', 'Start_Time', 'End_Time', 'Description', 'Street',\n",
       "       'Side', 'City', 'County', 'State', 'Zipcode', 'Country', 'Timezone',\n",
       "       'Airport_Code', 'Weather_Timestamp', 'Wind_Direction',\n",
       "       'Weather_Condition', 'Sunrise_Sunset', 'Civil_Twilight',\n",
       "       'Nautical_Twilight', 'Astronomical_Twilight'],\n",
       "      dtype='object')"
      ]
     },
     "execution_count": 14,
     "metadata": {},
     "output_type": "execute_result"
    }
   ],
   "source": [
    "df_cat=combined.select_dtypes('object').columns\n",
    "df_cat"
   ]
  },
  {
   "cell_type": "code",
   "execution_count": 15,
   "id": "a6ddff2b",
   "metadata": {},
   "outputs": [],
   "source": [
    "cols =[  'Side', \n",
    "        'State', 'Country', 'Timezone', 'Wind_Direction',\n",
    "       'Sunrise_Sunset', 'Civil_Twilight', 'Nautical_Twilight',\n",
    "       'Astronomical_Twilight']\n",
    "a = 5"
   ]
  },
  {
   "cell_type": "markdown",
   "id": "95265623",
   "metadata": {},
   "source": [
    "### Categorical vs Categorical"
   ]
  },
  {
   "cell_type": "code",
   "execution_count": 57,
   "id": "8323d8df",
   "metadata": {},
   "outputs": [
    {
     "data": {
      "image/png": "[encoded data removed]",
      "text/plain": [
       "<Figure size 1080x720 with 1 Axes>"
      ]
     },
     "metadata": {
      "needs_background": "light"
     },
     "output_type": "display_data"
    },
    {
     "data": {
      "image/png": "[encoded data removed]",
      "text/plain": [
       "<Figure size 1080x720 with 1 Axes>"
      ]
     },
     "metadata": {
      "needs_background": "light"
     },
     "output_type": "display_data"
    },
    {
     "data": {
      "image/png": "[encoded data removed]",
      "text/plain": [
       "<Figure size 1080x720 with 1 Axes>"
      ]
     },
     "metadata": {
      "needs_background": "light"
     },
     "output_type": "display_data"
    },
    {
     "data": {
      "image/png": "[encoded data removed]",
      "text/plain": [
       "<Figure size 1080x720 with 1 Axes>"
      ]
     },
     "metadata": {
      "needs_background": "light"
     },
     "output_type": "display_data"
    },
    {
     "data": {
      "image/png": "[encoded data removed]",
      "text/plain": [
       "<Figure size 1080x720 with 1 Axes>"
      ]
     },
     "metadata": {
      "needs_background": "light"
     },
     "output_type": "display_data"
    },
    {
     "data": {
      "image/png": "[encoded data removed]",
      "text/plain": [
       "<Figure size 1080x720 with 1 Axes>"
      ]
     },
     "metadata": {
      "needs_background": "light"
     },
     "output_type": "display_data"
    },
    {
     "data": {
      "image/png": "[encoded data removed]",
      "text/plain": [
       "<Figure size 1080x720 with 1 Axes>"
      ]
     },
     "metadata": {
      "needs_background": "light"
     },
     "output_type": "display_data"
    },
    {
     "data": {
      "image/png": "[encoded data removed]",
      "text/plain": [
       "<Figure size 1080x720 with 1 Axes>"
      ]
     },
     "metadata": {
      "needs_background": "light"
     },
     "output_type": "display_data"
    }
   ],
   "source": [
    "pd.crosstab(combined.Side, combined.Severity).plot(kind = \"bar\")\n",
    "plt.show()\n",
    "pd.crosstab(combined.Country, combined.Severity).plot(kind = \"bar\")\n",
    "plt.show()\n",
    "pd.crosstab(combined.Timezone, combined.Severity).plot(kind = \"bar\")\n",
    "plt.show()\n",
    "pd.crosstab(combined.Wind_Direction, combined.Severity).plot(kind = \"bar\")\n",
    "plt.show()\n",
    "pd.crosstab(combined.Sunrise_Sunset, combined.Severity).plot(kind = \"bar\")\n",
    "plt.show()\n",
    "pd.crosstab(combined.Civil_Twilight, combined.Severity).plot(kind = \"bar\")\n",
    "plt.show()\n",
    "pd.crosstab(combined.Nautical_Twilight, combined.Severity).plot(kind = \"bar\")\n",
    "plt.show()\n",
    "pd.crosstab(combined.Astronomical_Twilight, combined.Severity).plot(kind = \"bar\")\n",
    "plt.show()\n"
   ]
  },
  {
   "cell_type": "markdown",
   "id": "09d19e76",
   "metadata": {},
   "source": [
    "#### As target variable has most it values equal to 2, we cannot see directly which categorical columns are affecting the target variable. So we will perform chi square test . "
   ]
  },
  {
   "cell_type": "markdown",
   "id": "08a1f3fe",
   "metadata": {},
   "source": [
    "#### chi2_contingency test to check which categorical variables are affecting the target variable."
   ]
  },
  {
   "cell_type": "markdown",
   "id": "21a03596",
   "metadata": {},
   "source": [
    "###### H0 : Two columns are independent i.,e. they are not associated. H1 : Two columns are dependent i.e. they are associated."
   ]
  },
  {
   "cell_type": "code",
   "execution_count": 97,
   "id": "33234030",
   "metadata": {},
   "outputs": [
    {
     "name": "stdout",
     "output_type": "stream",
     "text": [
      "p-Value of Severity is 0.0\n",
      "p-Value of Side is 9.723582760662928e-91\n",
      "p-Value of County is 0.0\n",
      "p-Value of Wind_Direction is 1.0188174509905107e-297\n",
      "p-Value of Sunrise_Sunset is 8.136841998113155e-125\n",
      "p-Value of Civil_Twilight is 1.2179831947013798e-114\n",
      "p-Value of Nautical_Twilight is 5.0435596073843525e-84\n",
      "p-Value of Astronomical_Twilight is 8.292143611533518e-78\n",
      "p-Value of New_Weather_condition is 8.481244715089484e-85\n"
     ]
    }
   ],
   "source": [
    "from scipy.stats import chi2_contingency\n",
    "for i in df_cat.columns:\n",
    "    print('p-Value of {} is {}'.format(i,chi2_contingency(pd.crosstab(df1.Severity,df1[i]))[1]))"
   ]
  },
  {
   "cell_type": "markdown",
   "id": "36803dfa",
   "metadata": {},
   "source": [
    "* H0: Severity and other categorical columns are independent\n",
    "* Ha:Severity and other categorical columns are dependent\n",
    "* if p value< 0.05 we reject H0 i.e.  we accept alternative hypothesis i.e. Hence They are dependent\n",
    "* dependent columns list: Severity,Street,Side,City,County,Wind_Direction,Weather_Condition,\n",
    "Sunrise_Sunset,Civil_Twilight,Nautical_Twilight,Astronomical_Twilight,Time_Diff,New_Weather_condition \n",
    "\n",
    "* independent columns list : State,Country,Timezone"
   ]
  },
  {
   "cell_type": "markdown",
   "id": "1885474e",
   "metadata": {},
   "source": [
    "### Numeric vs Numeric"
   ]
  },
  {
   "cell_type": "code",
   "execution_count": 98,
   "id": "fc636aca",
   "metadata": {},
   "outputs": [
    {
     "data": {
      "text/plain": [
       "<AxesSubplot:>"
      ]
     },
     "execution_count": 98,
     "metadata": {},
     "output_type": "execute_result"
    },
    {
     "data": {
      "image/png": "[encoded data removed]",
      "text/plain": [
       "<Figure size 1080x648 with 2 Axes>"
      ]
     },
     "metadata": {
      "needs_background": "light"
     },
     "output_type": "display_data"
    }
   ],
   "source": [
    "corr=df_num.corr()\n",
    "sns.heatmap(corr,annot=True)"
   ]
  },
  {
   "cell_type": "markdown",
   "id": "40acc59e",
   "metadata": {},
   "source": [
    "#### Wind chill and temperature have strong positive correlation . Start longitude and start latitude are highly negatively correlated. Also end latitude and start longitude have strong negative correlation. Humidity and temperature are also strongly posotovely correlated. \n"
   ]
  },
  {
   "cell_type": "code",
   "execution_count": 12,
   "id": "721133db",
   "metadata": {},
   "outputs": [],
   "source": [
    "import warnings \n",
    "warnings.filterwarnings('ignore')"
   ]
  },
  {
   "cell_type": "code",
   "execution_count": 13,
   "id": "bcb93a3c",
   "metadata": {},
   "outputs": [],
   "source": [
    "combined.Severity=combined.Severity.astype('object')"
   ]
  },
  {
   "cell_type": "raw",
   "id": "b9ba76b1",
   "metadata": {},
   "source": [
    "cols =[  'Side', \n",
    "         'Timezone', \n",
    "       'Sunrise_Sunset', 'Civil_Twilight', 'Nautical_Twilight',\n",
    "       'Astronomical_Twilight']\n",
    "\n",
    "a = 3\n",
    "b = 3\n",
    "c = 1\n",
    "\n",
    "for i in cols:\n",
    "    plt.subplot(a, b, c)\n",
    "    #pd.crosstab(combined[i], combined.Severity).plot(kind = \"bar\")\n",
    "    sns.barplot(combined[i],combined.Severity)\n",
    "    c = c+1.\n",
    "plt.tight_layout()\n",
    "plt.show()"
   ]
  },
  {
   "cell_type": "code",
   "execution_count": 63,
   "id": "6a6bcd9f",
   "metadata": {},
   "outputs": [
    {
     "name": "stdout",
     "output_type": "stream",
     "text": [
      "Side 3\n",
      "Timezone 2\n",
      "Wind_Direction 24\n",
      "Sunrise_Sunset 2\n",
      "Civil_Twilight 2\n",
      "Nautical_Twilight 2\n",
      "Astronomical_Twilight 2\n"
     ]
    }
   ],
   "source": [
    "for i in cols:\n",
    "    print(i,combined[i].nunique())"
   ]
  },
  {
   "cell_type": "code",
   "execution_count": 17,
   "id": "9f7c2271",
   "metadata": {},
   "outputs": [
    {
     "data": {
      "text/html": [
       "<div>\n",
       "<style scoped>\n",
       "    .dataframe tbody tr th:only-of-type {\n",
       "        vertical-align: middle;\n",
       "    }\n",
       "\n",
       "    .dataframe tbody tr th {\n",
       "        vertical-align: top;\n",
       "    }\n",
       "\n",
       "    .dataframe thead th {\n",
       "        text-align: right;\n",
       "    }\n",
       "</style>\n",
       "<table border=\"1\" class=\"dataframe\">\n",
       "  <thead>\n",
       "    <tr style=\"text-align: right;\">\n",
       "      <th></th>\n",
       "      <th>percent of missing values</th>\n",
       "    </tr>\n",
       "  </thead>\n",
       "  <tbody>\n",
       "    <tr>\n",
       "      <th>Precipitation(in)</th>\n",
       "      <td>21.413476</td>\n",
       "    </tr>\n",
       "    <tr>\n",
       "      <th>Wind_Chill(F)</th>\n",
       "      <td>16.478486</td>\n",
       "    </tr>\n",
       "    <tr>\n",
       "      <th>Wind_Speed(mph)</th>\n",
       "      <td>5.735499</td>\n",
       "    </tr>\n",
       "    <tr>\n",
       "      <th>Humidity(%)</th>\n",
       "      <td>2.963557</td>\n",
       "    </tr>\n",
       "    <tr>\n",
       "      <th>Temperature(F)</th>\n",
       "      <td>2.831374</td>\n",
       "    </tr>\n",
       "    <tr>\n",
       "      <th>Wind_Direction</th>\n",
       "      <td>2.823961</td>\n",
       "    </tr>\n",
       "    <tr>\n",
       "      <th>Weather_Condition</th>\n",
       "      <td>2.401026</td>\n",
       "    </tr>\n",
       "    <tr>\n",
       "      <th>Visibility(mi)</th>\n",
       "      <td>2.322873</td>\n",
       "    </tr>\n",
       "    <tr>\n",
       "      <th>Pressure(in)</th>\n",
       "      <td>2.203129</td>\n",
       "    </tr>\n",
       "    <tr>\n",
       "      <th>Weather_Timestamp</th>\n",
       "      <td>1.931225</td>\n",
       "    </tr>\n",
       "    <tr>\n",
       "      <th>Airport_Code</th>\n",
       "      <td>0.121880</td>\n",
       "    </tr>\n",
       "    <tr>\n",
       "      <th>Zipcode</th>\n",
       "      <td>0.050134</td>\n",
       "    </tr>\n",
       "    <tr>\n",
       "      <th>Timezone</th>\n",
       "      <td>0.050134</td>\n",
       "    </tr>\n",
       "    <tr>\n",
       "      <th>Civil_Twilight</th>\n",
       "      <td>0.013444</td>\n",
       "    </tr>\n",
       "    <tr>\n",
       "      <th>Nautical_Twilight</th>\n",
       "      <td>0.013444</td>\n",
       "    </tr>\n",
       "    <tr>\n",
       "      <th>Astronomical_Twilight</th>\n",
       "      <td>0.013444</td>\n",
       "    </tr>\n",
       "    <tr>\n",
       "      <th>Sunrise_Sunset</th>\n",
       "      <td>0.013444</td>\n",
       "    </tr>\n",
       "    <tr>\n",
       "      <th>City</th>\n",
       "      <td>0.000880</td>\n",
       "    </tr>\n",
       "    <tr>\n",
       "      <th>Street</th>\n",
       "      <td>0.000126</td>\n",
       "    </tr>\n",
       "  </tbody>\n",
       "</table>\n",
       "</div>"
      ],
      "text/plain": [
       "                       percent of missing values\n",
       "Precipitation(in)                      21.413476\n",
       "Wind_Chill(F)                          16.478486\n",
       "Wind_Speed(mph)                         5.735499\n",
       "Humidity(%)                             2.963557\n",
       "Temperature(F)                          2.831374\n",
       "Wind_Direction                          2.823961\n",
       "Weather_Condition                       2.401026\n",
       "Visibility(mi)                          2.322873\n",
       "Pressure(in)                            2.203129\n",
       "Weather_Timestamp                       1.931225\n",
       "Airport_Code                            0.121880\n",
       "Zipcode                                 0.050134\n",
       "Timezone                                0.050134\n",
       "Civil_Twilight                          0.013444\n",
       "Nautical_Twilight                       0.013444\n",
       "Astronomical_Twilight                   0.013444\n",
       "Sunrise_Sunset                          0.013444\n",
       "City                                    0.000880\n",
       "Street                                  0.000126"
      ]
     },
     "execution_count": 17,
     "metadata": {},
     "output_type": "execute_result"
    }
   ],
   "source": [
    "#combined.isnull().sum()[combined.isnull().sum()!=0]\n",
    "#combined.isna().sum()/len(combined)*100\n",
    "a =combined.isna().sum()\n",
    "m =pd.DataFrame(a[a!=0]/len(combined)*100,columns = ['percent of missing values'])\n",
    "m.sort_values('percent of missing values',ascending =False)"
   ]
  },
  {
   "cell_type": "code",
   "execution_count": 23,
   "id": "b1857814",
   "metadata": {},
   "outputs": [
    {
     "name": "stderr",
     "output_type": "stream",
     "text": [
      "C:\\Users\\maney\\anaconda3\\lib\\site-packages\\seaborn\\_decorators.py:36: FutureWarning: Pass the following variables as keyword args: x, y. From version 0.12, the only valid positional argument will be `data`, and passing other arguments without an explicit keyword will result in an error or misinterpretation.\n",
      "  warnings.warn(\n"
     ]
    },
    {
     "data": {
      "text/plain": [
       "(array([ 0,  1,  2,  3,  4,  5,  6,  7,  8,  9, 10, 11, 12, 13, 14, 15, 16,\n",
       "        17, 18]),\n",
       " [Text(0, 0, 'Street'),\n",
       "  Text(1, 0, 'City'),\n",
       "  Text(2, 0, 'Zipcode'),\n",
       "  Text(3, 0, 'Timezone'),\n",
       "  Text(4, 0, 'Airport_Code'),\n",
       "  Text(5, 0, 'Weather_Timestamp'),\n",
       "  Text(6, 0, 'Temperature(F)'),\n",
       "  Text(7, 0, 'Wind_Chill(F)'),\n",
       "  Text(8, 0, 'Humidity(%)'),\n",
       "  Text(9, 0, 'Pressure(in)'),\n",
       "  Text(10, 0, 'Visibility(mi)'),\n",
       "  Text(11, 0, 'Wind_Direction'),\n",
       "  Text(12, 0, 'Wind_Speed(mph)'),\n",
       "  Text(13, 0, 'Precipitation(in)'),\n",
       "  Text(14, 0, 'Weather_Condition'),\n",
       "  Text(15, 0, 'Sunrise_Sunset'),\n",
       "  Text(16, 0, 'Civil_Twilight'),\n",
       "  Text(17, 0, 'Nautical_Twilight'),\n",
       "  Text(18, 0, 'Astronomical_Twilight')])"
      ]
     },
     "execution_count": 23,
     "metadata": {},
     "output_type": "execute_result"
    },
    {
     "data": {
      "image/png": "[encoded data removed]",
      "text/plain": [
       "<Figure size 1080x720 with 1 Axes>"
      ]
     },
     "metadata": {
      "needs_background": "light"
     },
     "output_type": "display_data"
    }
   ],
   "source": [
    "sns.barplot(m.index,m['percent of missing values'])\n",
    "import warnings\n",
    "warnings.filterwarnings('ignore')\n",
    "plt.xticks(rotation = 90)"
   ]
  },
  {
   "cell_type": "code",
   "execution_count": 67,
   "id": "01f878a5",
   "metadata": {},
   "outputs": [
    {
     "data": {
      "text/plain": [
       "Index(['ID', 'Severity', 'Start_Time', 'End_Time', 'Start_Lat', 'Start_Lng',\n",
       "       'End_Lat', 'End_Lng', 'Distance(mi)', 'Description', 'Street', 'Side',\n",
       "       'City', 'County', 'State', 'Zipcode', 'Country', 'Timezone',\n",
       "       'Airport_Code', 'Weather_Timestamp', 'Temperature(F)', 'Wind_Chill(F)',\n",
       "       'Humidity(%)', 'Pressure(in)', 'Visibility(mi)', 'Wind_Direction',\n",
       "       'Wind_Speed(mph)', 'Precipitation(in)', 'Weather_Condition', 'Amenity',\n",
       "       'Bump', 'Crossing', 'Give_Way', 'Junction', 'No_Exit', 'Railway',\n",
       "       'Roundabout', 'Station', 'Stop', 'Traffic_Calming', 'Traffic_Signal',\n",
       "       'Turning_Loop', 'Sunrise_Sunset', 'Civil_Twilight', 'Nautical_Twilight',\n",
       "       'Astronomical_Twilight'],\n",
       "      dtype='object')"
      ]
     },
     "execution_count": 67,
     "metadata": {},
     "output_type": "execute_result"
    }
   ],
   "source": [
    "combined.columns"
   ]
  },
  {
   "cell_type": "markdown",
   "id": "0b2a635c",
   "metadata": {},
   "source": [
    "#### As columns have very less percentage of missing values, we will drop these rows. "
   ]
  },
  {
   "cell_type": "code",
   "execution_count": 15,
   "id": "c69d38a9",
   "metadata": {},
   "outputs": [],
   "source": [
    "df1=combined.dropna(subset=['Street','Zipcode','Temperature(F)','Timezone','Airport_Code','Wind_Chill(F)','Humidity(%)','Pressure(in)','Weather_Timestamp','Visibility(mi)','Wind_Direction', 'Wind_Speed(mph)',\n",
    "                      'Weather_Condition'])"
   ]
  },
  {
   "cell_type": "code",
   "execution_count": 16,
   "id": "0efcb663",
   "metadata": {},
   "outputs": [
    {
     "data": {
      "text/plain": [
       "ID                           0\n",
       "Severity                     0\n",
       "Start_Time                   0\n",
       "End_Time                     0\n",
       "Start_Lat                    0\n",
       "Start_Lng                    0\n",
       "End_Lat                      0\n",
       "End_Lng                      0\n",
       "Distance(mi)                 0\n",
       "Description                  0\n",
       "Street                       0\n",
       "Side                         0\n",
       "City                         6\n",
       "County                       0\n",
       "State                        0\n",
       "Zipcode                      0\n",
       "Country                      0\n",
       "Timezone                     0\n",
       "Airport_Code                 0\n",
       "Weather_Timestamp            0\n",
       "Temperature(F)               0\n",
       "Wind_Chill(F)                0\n",
       "Humidity(%)                  0\n",
       "Pressure(in)                 0\n",
       "Visibility(mi)               0\n",
       "Wind_Direction               0\n",
       "Wind_Speed(mph)              0\n",
       "Precipitation(in)        56205\n",
       "Weather_Condition            0\n",
       "Amenity                      0\n",
       "Bump                         0\n",
       "Crossing                     0\n",
       "Give_Way                     0\n",
       "Junction                     0\n",
       "No_Exit                      0\n",
       "Railway                      0\n",
       "Roundabout                   0\n",
       "Station                      0\n",
       "Stop                         0\n",
       "Traffic_Calming              0\n",
       "Traffic_Signal               0\n",
       "Turning_Loop                 0\n",
       "Sunrise_Sunset              32\n",
       "Civil_Twilight              32\n",
       "Nautical_Twilight           32\n",
       "Astronomical_Twilight       32\n",
       "dtype: int64"
      ]
     },
     "execution_count": 16,
     "metadata": {},
     "output_type": "execute_result"
    }
   ],
   "source": [
    "df1.isna().sum()"
   ]
  },
  {
   "cell_type": "code",
   "execution_count": 17,
   "id": "0f24cafe",
   "metadata": {},
   "outputs": [],
   "source": [
    "df1=df1.dropna(subset=['Sunrise_Sunset','Nautical_Twilight','Civil_Twilight',\n",
    "                     'Astronomical_Twilight','Precipitation(in)'])"
   ]
  },
  {
   "cell_type": "code",
   "execution_count": 18,
   "id": "4d8dcb12",
   "metadata": {},
   "outputs": [
    {
     "data": {
      "text/plain": [
       "ID                       0\n",
       "Severity                 0\n",
       "Start_Time               0\n",
       "End_Time                 0\n",
       "Start_Lat                0\n",
       "Start_Lng                0\n",
       "End_Lat                  0\n",
       "End_Lng                  0\n",
       "Distance(mi)             0\n",
       "Description              0\n",
       "Street                   0\n",
       "Side                     0\n",
       "City                     0\n",
       "County                   0\n",
       "State                    0\n",
       "Zipcode                  0\n",
       "Country                  0\n",
       "Timezone                 0\n",
       "Airport_Code             0\n",
       "Weather_Timestamp        0\n",
       "Temperature(F)           0\n",
       "Wind_Chill(F)            0\n",
       "Humidity(%)              0\n",
       "Pressure(in)             0\n",
       "Visibility(mi)           0\n",
       "Wind_Direction           0\n",
       "Wind_Speed(mph)          0\n",
       "Precipitation(in)        0\n",
       "Weather_Condition        0\n",
       "Amenity                  0\n",
       "Bump                     0\n",
       "Crossing                 0\n",
       "Give_Way                 0\n",
       "Junction                 0\n",
       "No_Exit                  0\n",
       "Railway                  0\n",
       "Roundabout               0\n",
       "Station                  0\n",
       "Stop                     0\n",
       "Traffic_Calming          0\n",
       "Traffic_Signal           0\n",
       "Turning_Loop             0\n",
       "Sunrise_Sunset           0\n",
       "Civil_Twilight           0\n",
       "Nautical_Twilight        0\n",
       "Astronomical_Twilight    0\n",
       "dtype: int64"
      ]
     },
     "execution_count": 18,
     "metadata": {},
     "output_type": "execute_result"
    }
   ],
   "source": [
    "df1.isna().sum()"
   ]
  },
  {
   "cell_type": "code",
   "execution_count": 19,
   "id": "3c341e93",
   "metadata": {},
   "outputs": [
    {
     "data": {
      "text/plain": [
       "(604477, 46)"
      ]
     },
     "execution_count": 19,
     "metadata": {},
     "output_type": "execute_result"
    }
   ],
   "source": [
    "df1.shape"
   ]
  },
  {
   "cell_type": "code",
   "execution_count": 20,
   "id": "9af49112",
   "metadata": {},
   "outputs": [],
   "source": [
    "df1['Start_Time'] = pd.to_datetime(df1['Start_Time'])\n",
    "df1['End_Time'] = pd.to_datetime(df1['End_Time'])\n",
    "# edatatract hour and minute from Start_Time"
   ]
  },
  {
   "cell_type": "markdown",
   "id": "5349eaae",
   "metadata": {},
   "source": [
    "## Feature engineering"
   ]
  },
  {
   "cell_type": "markdown",
   "id": "1072fcda",
   "metadata": {},
   "source": [
    "#### Taking time difference"
   ]
  },
  {
   "cell_type": "code",
   "execution_count": 21,
   "id": "f9176c48",
   "metadata": {},
   "outputs": [],
   "source": [
    "df1['Time_Diff'] = (df1['End_Time'] - df1['Start_Time'])"
   ]
  },
  {
   "cell_type": "code",
   "execution_count": 22,
   "id": "f55aa33c",
   "metadata": {},
   "outputs": [
    {
     "data": {
      "text/plain": [
       "33184"
      ]
     },
     "execution_count": 22,
     "metadata": {},
     "output_type": "execute_result"
    }
   ],
   "source": [
    "len(df1.Time_Diff.unique())"
   ]
  },
  {
   "cell_type": "code",
   "execution_count": 23,
   "id": "ed36f5ab",
   "metadata": {},
   "outputs": [
    {
     "data": {
      "text/plain": [
       "dtype('<m8[ns]')"
      ]
     },
     "execution_count": 23,
     "metadata": {},
     "output_type": "execute_result"
    }
   ],
   "source": [
    "df1.Time_Diff.dtype"
   ]
  },
  {
   "cell_type": "code",
   "execution_count": 24,
   "id": "f03767e2",
   "metadata": {},
   "outputs": [],
   "source": [
    "import datetime as dt"
   ]
  },
  {
   "cell_type": "code",
   "execution_count": 25,
   "id": "9e22cd0b",
   "metadata": {},
   "outputs": [],
   "source": [
    "df1['Time_Diff'] = df1['Time_Diff'].astype('object')"
   ]
  },
  {
   "cell_type": "code",
   "execution_count": 26,
   "id": "8c52d26f",
   "metadata": {},
   "outputs": [
    {
     "data": {
      "text/plain": [
       "1093    0 days 06:00:00\n",
       "1417    0 days 06:00:00\n",
       "1419    0 days 06:00:00\n",
       "1485    0 days 06:00:00\n",
       "2100    0 days 06:00:00\n",
       "Name: Time_Diff, dtype: object"
      ]
     },
     "execution_count": 26,
     "metadata": {},
     "output_type": "execute_result"
    }
   ],
   "source": [
    "df1.Time_Diff.head()"
   ]
  },
  {
   "cell_type": "code",
   "execution_count": 27,
   "id": "8c21552d",
   "metadata": {},
   "outputs": [],
   "source": [
    "df1['XXX'] = df1['Time_Diff'].astype('str')"
   ]
  },
  {
   "cell_type": "code",
   "execution_count": 28,
   "id": "f4e308c1",
   "metadata": {},
   "outputs": [
    {
     "data": {
      "text/plain": [
       "1093    0 days 06:00:00\n",
       "1417    0 days 06:00:00\n",
       "1419    0 days 06:00:00\n",
       "1485    0 days 06:00:00\n",
       "2100    0 days 06:00:00\n",
       "Name: XXX, dtype: object"
      ]
     },
     "execution_count": 28,
     "metadata": {},
     "output_type": "execute_result"
    }
   ],
   "source": [
    "df1['XXX'].head()"
   ]
  },
  {
   "cell_type": "code",
   "execution_count": 29,
   "id": "dab067ae",
   "metadata": {},
   "outputs": [
    {
     "data": {
      "text/plain": [
       "1093      0 \n",
       "1417      0 \n",
       "1419      0 \n",
       "1485      0 \n",
       "2100      0 \n",
       "          ..\n",
       "795863    0 \n",
       "795864    0 \n",
       "795865    0 \n",
       "795866    0 \n",
       "795867    0 \n",
       "Name: XXX, Length: 604477, dtype: object"
      ]
     },
     "execution_count": 29,
     "metadata": {},
     "output_type": "execute_result"
    }
   ],
   "source": [
    "df1['XXX'].str[:-13]"
   ]
  },
  {
   "cell_type": "markdown",
   "id": "4a873c17",
   "metadata": {},
   "source": [
    "#### Extracting day, Minutes abd Hour by string slicing."
   ]
  },
  {
   "cell_type": "code",
   "execution_count": 29,
   "id": "8990498a",
   "metadata": {},
   "outputs": [],
   "source": [
    "df1['Hour'] = df1['XXX'].str[-9:-6]\n",
    "df1['Minutes'] = df1['XXX'].str[-5:-3]\n",
    "df1['Day'] = df1['XXX'].str[:-13]"
   ]
  },
  {
   "cell_type": "code",
   "execution_count": 30,
   "id": "43312801",
   "metadata": {},
   "outputs": [],
   "source": [
    "df1['Hour']=df1['Hour'].astype('int')\n",
    "df1['Minutes']=df1['Minutes'].astype('int')\n",
    "df1['Day']=df1['Day'].astype('int')"
   ]
  },
  {
   "cell_type": "code",
   "execution_count": 31,
   "id": "cc01b512",
   "metadata": {},
   "outputs": [
    {
     "data": {
      "text/plain": [
       "1093    0\n",
       "1417    0\n",
       "1419    0\n",
       "1485    0\n",
       "2100    0\n",
       "Name: Minutes, dtype: int32"
      ]
     },
     "execution_count": 31,
     "metadata": {},
     "output_type": "execute_result"
    }
   ],
   "source": [
    "df1.Minutes.head()"
   ]
  },
  {
   "cell_type": "code",
   "execution_count": 32,
   "id": "bd0bd722",
   "metadata": {},
   "outputs": [
    {
     "data": {
      "text/plain": [
       "array([ 6,  7,  9,  3,  2,  4,  1,  0, 12,  5, 10, 13, 14,  8, 15, 23, 11,\n",
       "       16, 17, 19, 22, 20, 21, 18])"
      ]
     },
     "execution_count": 32,
     "metadata": {},
     "output_type": "execute_result"
    }
   ],
   "source": [
    "df1.Hour.unique()"
   ]
  },
  {
   "cell_type": "code",
   "execution_count": 33,
   "id": "436b0c75",
   "metadata": {},
   "outputs": [],
   "source": [
    "df1['total_mins'] = df1['Day']*24*60 + df1['Hour']*60 + df1['Minutes']"
   ]
  },
  {
   "cell_type": "code",
   "execution_count": 34,
   "id": "ed0ae2d6",
   "metadata": {},
   "outputs": [
    {
     "data": {
      "text/plain": [
       "array([  0,   3,   1,   7,  17,   2,   4, 364,  30,   6,  45,  31,  26,\n",
       "        15, 242,   5,   8, 129,  64,  25,  14,  23,   9,  20, 163, 151,\n",
       "       352,  48, 144])"
      ]
     },
     "execution_count": 34,
     "metadata": {},
     "output_type": "execute_result"
    }
   ],
   "source": [
    "df1.Day.unique()"
   ]
  },
  {
   "cell_type": "code",
   "execution_count": 35,
   "id": "01ca97ab",
   "metadata": {},
   "outputs": [
    {
     "data": {
      "text/plain": [
       "1093    360\n",
       "1417    360\n",
       "1419    360\n",
       "1485    360\n",
       "2100    360\n",
       "Name: total_mins, dtype: int32"
      ]
     },
     "execution_count": 35,
     "metadata": {},
     "output_type": "execute_result"
    }
   ],
   "source": [
    "df1.total_mins.head()"
   ]
  },
  {
   "cell_type": "code",
   "execution_count": 36,
   "id": "776b86d8",
   "metadata": {},
   "outputs": [
    {
     "data": {
      "text/plain": [
       "count    604477.000000\n",
       "mean        142.773479\n",
       "std        1538.226196\n",
       "min           2.000000\n",
       "25%          54.000000\n",
       "50%         100.000000\n",
       "75%         145.000000\n",
       "max      525599.000000\n",
       "Name: total_mins, dtype: float64"
      ]
     },
     "execution_count": 36,
     "metadata": {},
     "output_type": "execute_result"
    }
   ],
   "source": [
    "df1.total_mins.describe()"
   ]
  },
  {
   "cell_type": "code",
   "execution_count": 37,
   "id": "efe2af07",
   "metadata": {},
   "outputs": [
    {
     "data": {
      "text/plain": [
       "2097"
      ]
     },
     "execution_count": 37,
     "metadata": {},
     "output_type": "execute_result"
    }
   ],
   "source": [
    "len(df1.total_mins.unique())"
   ]
  },
  {
   "cell_type": "code",
   "execution_count": 38,
   "id": "df2c2bb3",
   "metadata": {},
   "outputs": [],
   "source": [
    "df1=df1.drop(['ID', 'Start_Time', 'End_Time','XXX','Hour', 'Minutes', 'Day'],axis=1)"
   ]
  },
  {
   "cell_type": "code",
   "execution_count": 39,
   "id": "c4fee931",
   "metadata": {},
   "outputs": [],
   "source": [
    "df1=df1.drop(['Time_Diff'],axis=1)"
   ]
  },
  {
   "cell_type": "code",
   "execution_count": 40,
   "id": "e204a5a9",
   "metadata": {},
   "outputs": [
    {
     "data": {
      "text/html": [
       "<div>\n",
       "<style scoped>\n",
       "    .dataframe tbody tr th:only-of-type {\n",
       "        vertical-align: middle;\n",
       "    }\n",
       "\n",
       "    .dataframe tbody tr th {\n",
       "        vertical-align: top;\n",
       "    }\n",
       "\n",
       "    .dataframe thead th {\n",
       "        text-align: right;\n",
       "    }\n",
       "</style>\n",
       "<table border=\"1\" class=\"dataframe\">\n",
       "  <thead>\n",
       "    <tr style=\"text-align: right;\">\n",
       "      <th></th>\n",
       "      <th>Severity</th>\n",
       "      <th>Start_Lat</th>\n",
       "      <th>Start_Lng</th>\n",
       "      <th>End_Lat</th>\n",
       "      <th>End_Lng</th>\n",
       "      <th>Distance(mi)</th>\n",
       "      <th>Description</th>\n",
       "      <th>Street</th>\n",
       "      <th>Side</th>\n",
       "      <th>City</th>\n",
       "      <th>...</th>\n",
       "      <th>Station</th>\n",
       "      <th>Stop</th>\n",
       "      <th>Traffic_Calming</th>\n",
       "      <th>Traffic_Signal</th>\n",
       "      <th>Turning_Loop</th>\n",
       "      <th>Sunrise_Sunset</th>\n",
       "      <th>Civil_Twilight</th>\n",
       "      <th>Nautical_Twilight</th>\n",
       "      <th>Astronomical_Twilight</th>\n",
       "      <th>total_mins</th>\n",
       "    </tr>\n",
       "  </thead>\n",
       "  <tbody>\n",
       "    <tr>\n",
       "      <th>1093</th>\n",
       "      <td>3</td>\n",
       "      <td>36.19790</td>\n",
       "      <td>-121.15137</td>\n",
       "      <td>36.198250</td>\n",
       "      <td>-121.14508</td>\n",
       "      <td>0.352</td>\n",
       "      <td>At CR-G14/Jolon Rd - Accident.</td>\n",
       "      <td>El Camino Real S</td>\n",
       "      <td>R</td>\n",
       "      <td>King City</td>\n",
       "      <td>...</td>\n",
       "      <td>False</td>\n",
       "      <td>False</td>\n",
       "      <td>False</td>\n",
       "      <td>False</td>\n",
       "      <td>False</td>\n",
       "      <td>Night</td>\n",
       "      <td>Night</td>\n",
       "      <td>Night</td>\n",
       "      <td>Night</td>\n",
       "      <td>360</td>\n",
       "    </tr>\n",
       "    <tr>\n",
       "      <th>1417</th>\n",
       "      <td>2</td>\n",
       "      <td>38.84685</td>\n",
       "      <td>-120.02881</td>\n",
       "      <td>38.825990</td>\n",
       "      <td>-120.02946</td>\n",
       "      <td>1.442</td>\n",
       "      <td>At Meyers Rd - Accident.</td>\n",
       "      <td>US Highway 50</td>\n",
       "      <td>R</td>\n",
       "      <td>South Lake Tahoe</td>\n",
       "      <td>...</td>\n",
       "      <td>False</td>\n",
       "      <td>False</td>\n",
       "      <td>False</td>\n",
       "      <td>False</td>\n",
       "      <td>False</td>\n",
       "      <td>Day</td>\n",
       "      <td>Day</td>\n",
       "      <td>Day</td>\n",
       "      <td>Day</td>\n",
       "      <td>360</td>\n",
       "    </tr>\n",
       "    <tr>\n",
       "      <th>1419</th>\n",
       "      <td>2</td>\n",
       "      <td>38.77640</td>\n",
       "      <td>-119.91890</td>\n",
       "      <td>38.851030</td>\n",
       "      <td>-120.02231</td>\n",
       "      <td>7.588</td>\n",
       "      <td>At Kyburz Ave - Accident.</td>\n",
       "      <td>Luther Pass Rd</td>\n",
       "      <td>R</td>\n",
       "      <td>Markleeville</td>\n",
       "      <td>...</td>\n",
       "      <td>False</td>\n",
       "      <td>True</td>\n",
       "      <td>False</td>\n",
       "      <td>False</td>\n",
       "      <td>False</td>\n",
       "      <td>Day</td>\n",
       "      <td>Day</td>\n",
       "      <td>Day</td>\n",
       "      <td>Day</td>\n",
       "      <td>360</td>\n",
       "    </tr>\n",
       "    <tr>\n",
       "      <th>1485</th>\n",
       "      <td>2</td>\n",
       "      <td>38.82653</td>\n",
       "      <td>-120.03011</td>\n",
       "      <td>38.832616</td>\n",
       "      <td>-120.03564</td>\n",
       "      <td>0.515</td>\n",
       "      <td>At Osgood Rd - Accident.</td>\n",
       "      <td>US Highway 50</td>\n",
       "      <td>L</td>\n",
       "      <td>Echo Lake</td>\n",
       "      <td>...</td>\n",
       "      <td>False</td>\n",
       "      <td>False</td>\n",
       "      <td>False</td>\n",
       "      <td>False</td>\n",
       "      <td>False</td>\n",
       "      <td>Day</td>\n",
       "      <td>Day</td>\n",
       "      <td>Day</td>\n",
       "      <td>Day</td>\n",
       "      <td>360</td>\n",
       "    </tr>\n",
       "    <tr>\n",
       "      <th>2100</th>\n",
       "      <td>2</td>\n",
       "      <td>35.55134</td>\n",
       "      <td>-121.07163</td>\n",
       "      <td>35.527180</td>\n",
       "      <td>-121.04482</td>\n",
       "      <td>2.249</td>\n",
       "      <td>Between Ardath Dr and CA-46/Eric Seastrand Hwy...</td>\n",
       "      <td>Main St</td>\n",
       "      <td>R</td>\n",
       "      <td>Cambria</td>\n",
       "      <td>...</td>\n",
       "      <td>False</td>\n",
       "      <td>False</td>\n",
       "      <td>False</td>\n",
       "      <td>True</td>\n",
       "      <td>False</td>\n",
       "      <td>Day</td>\n",
       "      <td>Day</td>\n",
       "      <td>Day</td>\n",
       "      <td>Day</td>\n",
       "      <td>360</td>\n",
       "    </tr>\n",
       "  </tbody>\n",
       "</table>\n",
       "<p>5 rows × 44 columns</p>\n",
       "</div>"
      ],
      "text/plain": [
       "     Severity  Start_Lat  Start_Lng    End_Lat    End_Lng  Distance(mi)  \\\n",
       "1093        3   36.19790 -121.15137  36.198250 -121.14508         0.352   \n",
       "1417        2   38.84685 -120.02881  38.825990 -120.02946         1.442   \n",
       "1419        2   38.77640 -119.91890  38.851030 -120.02231         7.588   \n",
       "1485        2   38.82653 -120.03011  38.832616 -120.03564         0.515   \n",
       "2100        2   35.55134 -121.07163  35.527180 -121.04482         2.249   \n",
       "\n",
       "                                            Description            Street  \\\n",
       "1093                     At CR-G14/Jolon Rd - Accident.  El Camino Real S   \n",
       "1417                           At Meyers Rd - Accident.     US Highway 50   \n",
       "1419                          At Kyburz Ave - Accident.    Luther Pass Rd   \n",
       "1485                           At Osgood Rd - Accident.     US Highway 50   \n",
       "2100  Between Ardath Dr and CA-46/Eric Seastrand Hwy...           Main St   \n",
       "\n",
       "     Side              City  ... Station   Stop Traffic_Calming  \\\n",
       "1093    R         King City  ...   False  False           False   \n",
       "1417    R  South Lake Tahoe  ...   False  False           False   \n",
       "1419    R      Markleeville  ...   False   True           False   \n",
       "1485    L         Echo Lake  ...   False  False           False   \n",
       "2100    R           Cambria  ...   False  False           False   \n",
       "\n",
       "     Traffic_Signal Turning_Loop Sunrise_Sunset Civil_Twilight  \\\n",
       "1093          False        False          Night          Night   \n",
       "1417          False        False            Day            Day   \n",
       "1419          False        False            Day            Day   \n",
       "1485          False        False            Day            Day   \n",
       "2100           True        False            Day            Day   \n",
       "\n",
       "      Nautical_Twilight  Astronomical_Twilight  total_mins  \n",
       "1093              Night                  Night         360  \n",
       "1417                Day                    Day         360  \n",
       "1419                Day                    Day         360  \n",
       "1485                Day                    Day         360  \n",
       "2100                Day                    Day         360  \n",
       "\n",
       "[5 rows x 44 columns]"
      ]
     },
     "execution_count": 40,
     "metadata": {},
     "output_type": "execute_result"
    }
   ],
   "source": [
    "df1.head()"
   ]
  },
  {
   "cell_type": "code",
   "execution_count": 41,
   "id": "bb0b733d",
   "metadata": {},
   "outputs": [
    {
     "data": {
      "text/plain": [
       "Start_Lat            float64\n",
       "Start_Lng            float64\n",
       "End_Lat              float64\n",
       "End_Lng              float64\n",
       "Distance(mi)         float64\n",
       "Temperature(F)       float64\n",
       "Wind_Chill(F)        float64\n",
       "Humidity(%)          float64\n",
       "Pressure(in)         float64\n",
       "Visibility(mi)       float64\n",
       "Wind_Speed(mph)      float64\n",
       "Precipitation(in)    float64\n",
       "total_mins             int32\n",
       "dtype: object"
      ]
     },
     "execution_count": 41,
     "metadata": {},
     "output_type": "execute_result"
    }
   ],
   "source": [
    "df_num=df1.select_dtypes(np.number)\n",
    "df_num.dtypes"
   ]
  },
  {
   "cell_type": "code",
   "execution_count": 40,
   "id": "5e733daa",
   "metadata": {},
   "outputs": [],
   "source": [
    "df2=df1"
   ]
  },
  {
   "cell_type": "code",
   "execution_count": 41,
   "id": "b75dc182",
   "metadata": {},
   "outputs": [
    {
     "data": {
      "text/html": [
       "<div>\n",
       "<style scoped>\n",
       "    .dataframe tbody tr th:only-of-type {\n",
       "        vertical-align: middle;\n",
       "    }\n",
       "\n",
       "    .dataframe tbody tr th {\n",
       "        vertical-align: top;\n",
       "    }\n",
       "\n",
       "    .dataframe thead th {\n",
       "        text-align: right;\n",
       "    }\n",
       "</style>\n",
       "<table border=\"1\" class=\"dataframe\">\n",
       "  <thead>\n",
       "    <tr style=\"text-align: right;\">\n",
       "      <th></th>\n",
       "      <th>count</th>\n",
       "      <th>mean</th>\n",
       "      <th>std</th>\n",
       "      <th>min</th>\n",
       "      <th>25%</th>\n",
       "      <th>50%</th>\n",
       "      <th>75%</th>\n",
       "      <th>max</th>\n",
       "    </tr>\n",
       "  </thead>\n",
       "  <tbody>\n",
       "    <tr>\n",
       "      <th>Start_Lat</th>\n",
       "      <td>604477.0</td>\n",
       "      <td>35.589551</td>\n",
       "      <td>2.121924</td>\n",
       "      <td>32.543605</td>\n",
       "      <td>33.958972</td>\n",
       "      <td>34.217616</td>\n",
       "      <td>37.693232</td>\n",
       "      <td>42.005420</td>\n",
       "    </tr>\n",
       "    <tr>\n",
       "      <th>Start_Lng</th>\n",
       "      <td>604477.0</td>\n",
       "      <td>-119.400159</td>\n",
       "      <td>1.904783</td>\n",
       "      <td>-124.374965</td>\n",
       "      <td>-121.398089</td>\n",
       "      <td>-118.419834</td>\n",
       "      <td>-117.897892</td>\n",
       "      <td>-114.227066</td>\n",
       "    </tr>\n",
       "    <tr>\n",
       "      <th>End_Lat</th>\n",
       "      <td>604477.0</td>\n",
       "      <td>35.589781</td>\n",
       "      <td>2.122161</td>\n",
       "      <td>32.543627</td>\n",
       "      <td>33.960009</td>\n",
       "      <td>34.218741</td>\n",
       "      <td>37.692557</td>\n",
       "      <td>42.037082</td>\n",
       "    </tr>\n",
       "    <tr>\n",
       "      <th>End_Lng</th>\n",
       "      <td>604477.0</td>\n",
       "      <td>-119.399668</td>\n",
       "      <td>1.904728</td>\n",
       "      <td>-124.365736</td>\n",
       "      <td>-121.398057</td>\n",
       "      <td>-118.418930</td>\n",
       "      <td>-117.896516</td>\n",
       "      <td>-114.217482</td>\n",
       "    </tr>\n",
       "    <tr>\n",
       "      <th>Distance(mi)</th>\n",
       "      <td>604477.0</td>\n",
       "      <td>0.532171</td>\n",
       "      <td>1.082363</td>\n",
       "      <td>0.000000</td>\n",
       "      <td>0.000000</td>\n",
       "      <td>0.127000</td>\n",
       "      <td>0.605000</td>\n",
       "      <td>56.171000</td>\n",
       "    </tr>\n",
       "    <tr>\n",
       "      <th>Temperature(F)</th>\n",
       "      <td>604477.0</td>\n",
       "      <td>63.087283</td>\n",
       "      <td>13.869060</td>\n",
       "      <td>-17.000000</td>\n",
       "      <td>54.000000</td>\n",
       "      <td>62.000000</td>\n",
       "      <td>72.000000</td>\n",
       "      <td>119.000000</td>\n",
       "    </tr>\n",
       "    <tr>\n",
       "      <th>Wind_Chill(F)</th>\n",
       "      <td>604477.0</td>\n",
       "      <td>62.799083</td>\n",
       "      <td>14.355923</td>\n",
       "      <td>-17.000000</td>\n",
       "      <td>54.000000</td>\n",
       "      <td>62.000000</td>\n",
       "      <td>72.000000</td>\n",
       "      <td>119.000000</td>\n",
       "    </tr>\n",
       "    <tr>\n",
       "      <th>Humidity(%)</th>\n",
       "      <td>604477.0</td>\n",
       "      <td>59.201599</td>\n",
       "      <td>24.560558</td>\n",
       "      <td>1.000000</td>\n",
       "      <td>40.000000</td>\n",
       "      <td>62.000000</td>\n",
       "      <td>80.000000</td>\n",
       "      <td>100.000000</td>\n",
       "    </tr>\n",
       "    <tr>\n",
       "      <th>Pressure(in)</th>\n",
       "      <td>604477.0</td>\n",
       "      <td>29.481338</td>\n",
       "      <td>0.893388</td>\n",
       "      <td>16.720000</td>\n",
       "      <td>29.350000</td>\n",
       "      <td>29.780000</td>\n",
       "      <td>29.930000</td>\n",
       "      <td>58.900000</td>\n",
       "    </tr>\n",
       "    <tr>\n",
       "      <th>Visibility(mi)</th>\n",
       "      <td>604477.0</td>\n",
       "      <td>8.870122</td>\n",
       "      <td>2.927617</td>\n",
       "      <td>0.000000</td>\n",
       "      <td>9.000000</td>\n",
       "      <td>10.000000</td>\n",
       "      <td>10.000000</td>\n",
       "      <td>100.000000</td>\n",
       "    </tr>\n",
       "    <tr>\n",
       "      <th>Wind_Speed(mph)</th>\n",
       "      <td>604477.0</td>\n",
       "      <td>5.902373</td>\n",
       "      <td>5.472589</td>\n",
       "      <td>0.000000</td>\n",
       "      <td>0.000000</td>\n",
       "      <td>6.000000</td>\n",
       "      <td>9.000000</td>\n",
       "      <td>1087.000000</td>\n",
       "    </tr>\n",
       "    <tr>\n",
       "      <th>Precipitation(in)</th>\n",
       "      <td>604477.0</td>\n",
       "      <td>0.003834</td>\n",
       "      <td>0.032832</td>\n",
       "      <td>0.000000</td>\n",
       "      <td>0.000000</td>\n",
       "      <td>0.000000</td>\n",
       "      <td>0.000000</td>\n",
       "      <td>10.400000</td>\n",
       "    </tr>\n",
       "    <tr>\n",
       "      <th>total_mins</th>\n",
       "      <td>604477.0</td>\n",
       "      <td>142.773479</td>\n",
       "      <td>1538.226196</td>\n",
       "      <td>2.000000</td>\n",
       "      <td>54.000000</td>\n",
       "      <td>100.000000</td>\n",
       "      <td>145.000000</td>\n",
       "      <td>525599.000000</td>\n",
       "    </tr>\n",
       "  </tbody>\n",
       "</table>\n",
       "</div>"
      ],
      "text/plain": [
       "                      count        mean          std         min         25%  \\\n",
       "Start_Lat          604477.0   35.589551     2.121924   32.543605   33.958972   \n",
       "Start_Lng          604477.0 -119.400159     1.904783 -124.374965 -121.398089   \n",
       "End_Lat            604477.0   35.589781     2.122161   32.543627   33.960009   \n",
       "End_Lng            604477.0 -119.399668     1.904728 -124.365736 -121.398057   \n",
       "Distance(mi)       604477.0    0.532171     1.082363    0.000000    0.000000   \n",
       "Temperature(F)     604477.0   63.087283    13.869060  -17.000000   54.000000   \n",
       "Wind_Chill(F)      604477.0   62.799083    14.355923  -17.000000   54.000000   \n",
       "Humidity(%)        604477.0   59.201599    24.560558    1.000000   40.000000   \n",
       "Pressure(in)       604477.0   29.481338     0.893388   16.720000   29.350000   \n",
       "Visibility(mi)     604477.0    8.870122     2.927617    0.000000    9.000000   \n",
       "Wind_Speed(mph)    604477.0    5.902373     5.472589    0.000000    0.000000   \n",
       "Precipitation(in)  604477.0    0.003834     0.032832    0.000000    0.000000   \n",
       "total_mins         604477.0  142.773479  1538.226196    2.000000   54.000000   \n",
       "\n",
       "                          50%         75%            max  \n",
       "Start_Lat           34.217616   37.693232      42.005420  \n",
       "Start_Lng         -118.419834 -117.897892    -114.227066  \n",
       "End_Lat             34.218741   37.692557      42.037082  \n",
       "End_Lng           -118.418930 -117.896516    -114.217482  \n",
       "Distance(mi)         0.127000    0.605000      56.171000  \n",
       "Temperature(F)      62.000000   72.000000     119.000000  \n",
       "Wind_Chill(F)       62.000000   72.000000     119.000000  \n",
       "Humidity(%)         62.000000   80.000000     100.000000  \n",
       "Pressure(in)        29.780000   29.930000      58.900000  \n",
       "Visibility(mi)      10.000000   10.000000     100.000000  \n",
       "Wind_Speed(mph)      6.000000    9.000000    1087.000000  \n",
       "Precipitation(in)    0.000000    0.000000      10.400000  \n",
       "total_mins         100.000000  145.000000  525599.000000  "
      ]
     },
     "execution_count": 41,
     "metadata": {},
     "output_type": "execute_result"
    }
   ],
   "source": [
    "df_num.describe().T"
   ]
  },
  {
   "cell_type": "code",
   "execution_count": 42,
   "id": "9b9da619",
   "metadata": {},
   "outputs": [],
   "source": [
    "df_cat=df1.select_dtypes('object')"
   ]
  },
  {
   "cell_type": "code",
   "execution_count": 102,
   "id": "04d5e50f",
   "metadata": {},
   "outputs": [
    {
     "data": {
      "text/html": [
       "<div>\n",
       "<style scoped>\n",
       "    .dataframe tbody tr th:only-of-type {\n",
       "        vertical-align: middle;\n",
       "    }\n",
       "\n",
       "    .dataframe tbody tr th {\n",
       "        vertical-align: top;\n",
       "    }\n",
       "\n",
       "    .dataframe thead th {\n",
       "        text-align: right;\n",
       "    }\n",
       "</style>\n",
       "<table border=\"1\" class=\"dataframe\">\n",
       "  <thead>\n",
       "    <tr style=\"text-align: right;\">\n",
       "      <th></th>\n",
       "      <th>Severity</th>\n",
       "      <th>Description</th>\n",
       "      <th>Street</th>\n",
       "      <th>Side</th>\n",
       "      <th>City</th>\n",
       "      <th>County</th>\n",
       "      <th>State</th>\n",
       "      <th>Zipcode</th>\n",
       "      <th>Country</th>\n",
       "      <th>Timezone</th>\n",
       "      <th>Airport_Code</th>\n",
       "      <th>Weather_Timestamp</th>\n",
       "      <th>Wind_Direction</th>\n",
       "      <th>Weather_Condition</th>\n",
       "      <th>Sunrise_Sunset</th>\n",
       "      <th>Civil_Twilight</th>\n",
       "      <th>Nautical_Twilight</th>\n",
       "      <th>Astronomical_Twilight</th>\n",
       "    </tr>\n",
       "  </thead>\n",
       "  <tbody>\n",
       "    <tr>\n",
       "      <th>1093</th>\n",
       "      <td>3</td>\n",
       "      <td>At CR-G14/Jolon Rd - Accident.</td>\n",
       "      <td>El Camino Real S</td>\n",
       "      <td>R</td>\n",
       "      <td>King City</td>\n",
       "      <td>Monterey</td>\n",
       "      <td>CA</td>\n",
       "      <td>93930</td>\n",
       "      <td>US</td>\n",
       "      <td>US/Pacific</td>\n",
       "      <td>K87Q</td>\n",
       "      <td>2016-04-17 21:56:00</td>\n",
       "      <td>CALM</td>\n",
       "      <td>Fair</td>\n",
       "      <td>Night</td>\n",
       "      <td>Night</td>\n",
       "      <td>Night</td>\n",
       "      <td>Night</td>\n",
       "    </tr>\n",
       "    <tr>\n",
       "      <th>1417</th>\n",
       "      <td>2</td>\n",
       "      <td>At Meyers Rd - Accident.</td>\n",
       "      <td>US Highway 50</td>\n",
       "      <td>R</td>\n",
       "      <td>South Lake Tahoe</td>\n",
       "      <td>El Dorado</td>\n",
       "      <td>CA</td>\n",
       "      <td>96150</td>\n",
       "      <td>US</td>\n",
       "      <td>US/Pacific</td>\n",
       "      <td>KTVL</td>\n",
       "      <td>2016-04-22 12:53:00</td>\n",
       "      <td>South</td>\n",
       "      <td>Snow</td>\n",
       "      <td>Day</td>\n",
       "      <td>Day</td>\n",
       "      <td>Day</td>\n",
       "      <td>Day</td>\n",
       "    </tr>\n",
       "    <tr>\n",
       "      <th>1419</th>\n",
       "      <td>2</td>\n",
       "      <td>At Kyburz Ave - Accident.</td>\n",
       "      <td>Luther Pass Rd</td>\n",
       "      <td>R</td>\n",
       "      <td>Markleeville</td>\n",
       "      <td>Alpine</td>\n",
       "      <td>CA</td>\n",
       "      <td>96120</td>\n",
       "      <td>US</td>\n",
       "      <td>US/Pacific</td>\n",
       "      <td>KTVL</td>\n",
       "      <td>2016-04-22 12:53:00</td>\n",
       "      <td>South</td>\n",
       "      <td>Snow</td>\n",
       "      <td>Day</td>\n",
       "      <td>Day</td>\n",
       "      <td>Day</td>\n",
       "      <td>Day</td>\n",
       "    </tr>\n",
       "    <tr>\n",
       "      <th>1485</th>\n",
       "      <td>2</td>\n",
       "      <td>At Osgood Rd - Accident.</td>\n",
       "      <td>US Highway 50</td>\n",
       "      <td>L</td>\n",
       "      <td>Echo Lake</td>\n",
       "      <td>El Dorado</td>\n",
       "      <td>CA</td>\n",
       "      <td>95721</td>\n",
       "      <td>US</td>\n",
       "      <td>US/Pacific</td>\n",
       "      <td>KTVL</td>\n",
       "      <td>2016-04-24 15:53:00</td>\n",
       "      <td>Variable</td>\n",
       "      <td>Mostly Cloudy</td>\n",
       "      <td>Day</td>\n",
       "      <td>Day</td>\n",
       "      <td>Day</td>\n",
       "      <td>Day</td>\n",
       "    </tr>\n",
       "    <tr>\n",
       "      <th>2100</th>\n",
       "      <td>2</td>\n",
       "      <td>Between Ardath Dr and CA-46/Eric Seastrand Hwy...</td>\n",
       "      <td>Main St</td>\n",
       "      <td>R</td>\n",
       "      <td>Cambria</td>\n",
       "      <td>San Luis Obispo</td>\n",
       "      <td>CA</td>\n",
       "      <td>93428</td>\n",
       "      <td>US</td>\n",
       "      <td>US/Pacific</td>\n",
       "      <td>K87Q</td>\n",
       "      <td>2016-05-09 12:56:00</td>\n",
       "      <td>NW</td>\n",
       "      <td>Fair</td>\n",
       "      <td>Day</td>\n",
       "      <td>Day</td>\n",
       "      <td>Day</td>\n",
       "      <td>Day</td>\n",
       "    </tr>\n",
       "  </tbody>\n",
       "</table>\n",
       "</div>"
      ],
      "text/plain": [
       "     Severity                                        Description  \\\n",
       "1093        3                     At CR-G14/Jolon Rd - Accident.   \n",
       "1417        2                           At Meyers Rd - Accident.   \n",
       "1419        2                          At Kyburz Ave - Accident.   \n",
       "1485        2                           At Osgood Rd - Accident.   \n",
       "2100        2  Between Ardath Dr and CA-46/Eric Seastrand Hwy...   \n",
       "\n",
       "                Street Side              City           County State Zipcode  \\\n",
       "1093  El Camino Real S    R         King City         Monterey    CA   93930   \n",
       "1417     US Highway 50    R  South Lake Tahoe        El Dorado    CA   96150   \n",
       "1419    Luther Pass Rd    R      Markleeville           Alpine    CA   96120   \n",
       "1485     US Highway 50    L         Echo Lake        El Dorado    CA   95721   \n",
       "2100           Main St    R           Cambria  San Luis Obispo    CA   93428   \n",
       "\n",
       "     Country    Timezone Airport_Code    Weather_Timestamp Wind_Direction  \\\n",
       "1093      US  US/Pacific         K87Q  2016-04-17 21:56:00           CALM   \n",
       "1417      US  US/Pacific         KTVL  2016-04-22 12:53:00          South   \n",
       "1419      US  US/Pacific         KTVL  2016-04-22 12:53:00          South   \n",
       "1485      US  US/Pacific         KTVL  2016-04-24 15:53:00       Variable   \n",
       "2100      US  US/Pacific         K87Q  2016-05-09 12:56:00             NW   \n",
       "\n",
       "     Weather_Condition Sunrise_Sunset Civil_Twilight Nautical_Twilight  \\\n",
       "1093              Fair          Night          Night             Night   \n",
       "1417              Snow            Day            Day               Day   \n",
       "1419              Snow            Day            Day               Day   \n",
       "1485     Mostly Cloudy            Day            Day               Day   \n",
       "2100              Fair            Day            Day               Day   \n",
       "\n",
       "     Astronomical_Twilight  \n",
       "1093                 Night  \n",
       "1417                   Day  \n",
       "1419                   Day  \n",
       "1485                   Day  \n",
       "2100                   Day  "
      ]
     },
     "execution_count": 102,
     "metadata": {},
     "output_type": "execute_result"
    }
   ],
   "source": [
    "df_cat.head()"
   ]
  },
  {
   "cell_type": "code",
   "execution_count": 43,
   "id": "ffd4efef",
   "metadata": {},
   "outputs": [
    {
     "data": {
      "text/html": [
       "<div>\n",
       "<style scoped>\n",
       "    .dataframe tbody tr th:only-of-type {\n",
       "        vertical-align: middle;\n",
       "    }\n",
       "\n",
       "    .dataframe tbody tr th {\n",
       "        vertical-align: top;\n",
       "    }\n",
       "\n",
       "    .dataframe thead th {\n",
       "        text-align: right;\n",
       "    }\n",
       "</style>\n",
       "<table border=\"1\" class=\"dataframe\">\n",
       "  <thead>\n",
       "    <tr style=\"text-align: right;\">\n",
       "      <th></th>\n",
       "      <th>feature</th>\n",
       "      <th>count_of_unique_values</th>\n",
       "    </tr>\n",
       "  </thead>\n",
       "  <tbody>\n",
       "    <tr>\n",
       "      <th>0</th>\n",
       "      <td>Severity</td>\n",
       "      <td>4</td>\n",
       "    </tr>\n",
       "    <tr>\n",
       "      <th>1</th>\n",
       "      <td>Description</td>\n",
       "      <td>241782</td>\n",
       "    </tr>\n",
       "    <tr>\n",
       "      <th>2</th>\n",
       "      <td>Street</td>\n",
       "      <td>34213</td>\n",
       "    </tr>\n",
       "    <tr>\n",
       "      <th>3</th>\n",
       "      <td>Side</td>\n",
       "      <td>2</td>\n",
       "    </tr>\n",
       "    <tr>\n",
       "      <th>4</th>\n",
       "      <td>City</td>\n",
       "      <td>1040</td>\n",
       "    </tr>\n",
       "    <tr>\n",
       "      <th>5</th>\n",
       "      <td>County</td>\n",
       "      <td>58</td>\n",
       "    </tr>\n",
       "    <tr>\n",
       "      <th>6</th>\n",
       "      <td>State</td>\n",
       "      <td>1</td>\n",
       "    </tr>\n",
       "    <tr>\n",
       "      <th>7</th>\n",
       "      <td>Zipcode</td>\n",
       "      <td>64668</td>\n",
       "    </tr>\n",
       "    <tr>\n",
       "      <th>8</th>\n",
       "      <td>Country</td>\n",
       "      <td>1</td>\n",
       "    </tr>\n",
       "    <tr>\n",
       "      <th>9</th>\n",
       "      <td>Timezone</td>\n",
       "      <td>2</td>\n",
       "    </tr>\n",
       "    <tr>\n",
       "      <th>10</th>\n",
       "      <td>Airport_Code</td>\n",
       "      <td>127</td>\n",
       "    </tr>\n",
       "    <tr>\n",
       "      <th>11</th>\n",
       "      <td>Weather_Timestamp</td>\n",
       "      <td>135871</td>\n",
       "    </tr>\n",
       "    <tr>\n",
       "      <th>12</th>\n",
       "      <td>Wind_Direction</td>\n",
       "      <td>23</td>\n",
       "    </tr>\n",
       "    <tr>\n",
       "      <th>13</th>\n",
       "      <td>Weather_Condition</td>\n",
       "      <td>60</td>\n",
       "    </tr>\n",
       "    <tr>\n",
       "      <th>14</th>\n",
       "      <td>Sunrise_Sunset</td>\n",
       "      <td>2</td>\n",
       "    </tr>\n",
       "    <tr>\n",
       "      <th>15</th>\n",
       "      <td>Civil_Twilight</td>\n",
       "      <td>2</td>\n",
       "    </tr>\n",
       "    <tr>\n",
       "      <th>16</th>\n",
       "      <td>Nautical_Twilight</td>\n",
       "      <td>2</td>\n",
       "    </tr>\n",
       "    <tr>\n",
       "      <th>17</th>\n",
       "      <td>Astronomical_Twilight</td>\n",
       "      <td>2</td>\n",
       "    </tr>\n",
       "  </tbody>\n",
       "</table>\n",
       "</div>"
      ],
      "text/plain": [
       "                  feature  count_of_unique_values\n",
       "0                Severity                       4\n",
       "1             Description                  241782\n",
       "2                  Street                   34213\n",
       "3                    Side                       2\n",
       "4                    City                    1040\n",
       "5                  County                      58\n",
       "6                   State                       1\n",
       "7                 Zipcode                   64668\n",
       "8                 Country                       1\n",
       "9                Timezone                       2\n",
       "10           Airport_Code                     127\n",
       "11      Weather_Timestamp                  135871\n",
       "12         Wind_Direction                      23\n",
       "13      Weather_Condition                      60\n",
       "14         Sunrise_Sunset                       2\n",
       "15         Civil_Twilight                       2\n",
       "16      Nautical_Twilight                       2\n",
       "17  Astronomical_Twilight                       2"
      ]
     },
     "execution_count": 43,
     "metadata": {},
     "output_type": "execute_result"
    }
   ],
   "source": [
    "df_cat=df1.select_dtypes('object')\n",
    "col_name=[]\n",
    "length=[]\n",
    "\n",
    "for i in df_cat.columns:\n",
    "    col_name.append(i)\n",
    "    length.append(len(df_cat[i].unique()))\n",
    "df_2=pd.DataFrame(zip(col_name,length),columns=['feature','count_of_unique_values'])\n",
    "df_2"
   ]
  },
  {
   "cell_type": "markdown",
   "id": "35f725e0",
   "metadata": {},
   "source": [
    "#### We will drop the columns which are not significant. "
   ]
  },
  {
   "cell_type": "code",
   "execution_count": 45,
   "id": "d21a6ccf",
   "metadata": {},
   "outputs": [],
   "source": [
    "df1.drop(['State','Country','Timezone'],axis=1,inplace=True)"
   ]
  },
  {
   "cell_type": "code",
   "execution_count": 46,
   "id": "615a2309",
   "metadata": {},
   "outputs": [],
   "source": [
    "df_cat.drop(['State','Country','Timezone'],axis=1,inplace=True)"
   ]
  },
  {
   "cell_type": "code",
   "execution_count": 47,
   "id": "b3cff859",
   "metadata": {},
   "outputs": [
    {
     "data": {
      "text/plain": [
       "1093    2016-04-17 21:56:00\n",
       "1417    2016-04-22 12:53:00\n",
       "1419    2016-04-22 12:53:00\n",
       "1485    2016-04-24 15:53:00\n",
       "2100    2016-05-09 12:56:00\n",
       "Name: Weather_Timestamp, dtype: object"
      ]
     },
     "execution_count": 47,
     "metadata": {},
     "output_type": "execute_result"
    }
   ],
   "source": [
    "df1.Weather_Timestamp.head()"
   ]
  },
  {
   "cell_type": "code",
   "execution_count": 110,
   "id": "f81b1da3",
   "metadata": {},
   "outputs": [
    {
     "data": {
      "text/plain": [
       "1093    K87Q\n",
       "1417    KTVL\n",
       "1419    KTVL\n",
       "1485    KTVL\n",
       "2100    K87Q\n",
       "Name: Airport_Code, dtype: object"
      ]
     },
     "execution_count": 110,
     "metadata": {},
     "output_type": "execute_result"
    }
   ],
   "source": [
    "df1.Airport_Code.head()"
   ]
  },
  {
   "cell_type": "code",
   "execution_count": 111,
   "id": "1c8a530d",
   "metadata": {},
   "outputs": [
    {
     "data": {
      "text/plain": [
       "array(['Monterey', 'El Dorado', 'Alpine', 'San Luis Obispo', 'Placer',\n",
       "       'Nevada', 'Kern', 'Los Angeles', 'Ventura', 'Riverside',\n",
       "       'San Bernardino', 'Sonoma', 'Solano', 'Contra Costa', 'Alameda',\n",
       "       'Sacramento', 'San Francisco', 'Siskiyou', 'Yolo', 'San Diego',\n",
       "       'Santa Clara', 'Calaveras', 'Mendocino', 'Humboldt', 'San Mateo',\n",
       "       'Santa Barbara', 'Orange', 'Merced', 'San Joaquin', 'Yuba', 'Mono',\n",
       "       'Stanislaus', 'Butte', 'Tulare', 'Marin', 'Shasta', 'Inyo',\n",
       "       'Madera', 'Lake', 'Fresno', 'Kings', 'Sierra', 'Amador', 'Napa',\n",
       "       'Santa Cruz', 'Glenn', 'San Benito', 'Tuolumne', 'Sutter',\n",
       "       'Lassen', 'Del Norte', 'Plumas', 'Colusa', 'Tehama', 'Mariposa',\n",
       "       'Modoc', 'Trinity', 'Imperial'], dtype=object)"
      ]
     },
     "execution_count": 111,
     "metadata": {},
     "output_type": "execute_result"
    }
   ],
   "source": [
    "df_cat.County.unique()"
   ]
  },
  {
   "cell_type": "code",
   "execution_count": 112,
   "id": "aa6cd3f6",
   "metadata": {},
   "outputs": [
    {
     "data": {
      "text/plain": [
       "64668"
      ]
     },
     "execution_count": 112,
     "metadata": {},
     "output_type": "execute_result"
    }
   ],
   "source": [
    "len(df1.Zipcode.unique())"
   ]
  },
  {
   "cell_type": "markdown",
   "id": "0ee31f35",
   "metadata": {},
   "source": [
    "#### As per domain knowledge we can remove these columns as other columns are also giving the same information.\n"
   ]
  },
  {
   "cell_type": "code",
   "execution_count": 48,
   "id": "1008b5bc",
   "metadata": {},
   "outputs": [],
   "source": [
    "df1.drop(['Airport_Code','Description','Zipcode','Weather_Timestamp'],axis=1,inplace=True)"
   ]
  },
  {
   "cell_type": "code",
   "execution_count": 49,
   "id": "fe0af166",
   "metadata": {},
   "outputs": [],
   "source": [
    "df_cat.drop(['Airport_Code','Description','Zipcode','Weather_Timestamp'],axis=1,inplace=True)"
   ]
  },
  {
   "cell_type": "code",
   "execution_count": 50,
   "id": "16c51859",
   "metadata": {},
   "outputs": [
    {
     "data": {
      "text/plain": [
       "array(['CALM', 'South', 'Variable', 'NW', 'SE', 'WNW', 'SSW', 'NNE',\n",
       "       'VAR', 'SSE', 'W', 'WSW', 'ESE', 'ENE', 'S', 'N', 'SW', 'E', 'NE',\n",
       "       'NNW', 'East', 'West', 'North'], dtype=object)"
      ]
     },
     "execution_count": 50,
     "metadata": {},
     "output_type": "execute_result"
    }
   ],
   "source": [
    "df1.Wind_Direction.unique()"
   ]
  },
  {
   "cell_type": "code",
   "execution_count": 51,
   "id": "be6a0d89",
   "metadata": {},
   "outputs": [],
   "source": [
    "df1.Wind_Direction.replace(to_replace=['South','North','East','West','SSE','ESE','NNE','ENE','Variable',\"WNW\",'NNW',\"SSW\",'WSW'],\n",
    "                           value=['S',\"N\",'E','W','SE','SE','NE','NE','VAR',\"NW\",'NW',\"SW\",'SW'],inplace=True)"
   ]
  },
  {
   "cell_type": "code",
   "execution_count": 52,
   "id": "32b47e77",
   "metadata": {},
   "outputs": [
    {
     "data": {
      "text/plain": [
       "array(['CALM', 'S', 'VAR', 'NW', 'SE', 'SW', 'NE', 'W', 'N', 'E'],\n",
       "      dtype=object)"
      ]
     },
     "execution_count": 52,
     "metadata": {},
     "output_type": "execute_result"
    }
   ],
   "source": [
    "df1.Wind_Direction.unique()"
   ]
  },
  {
   "cell_type": "code",
   "execution_count": 53,
   "id": "9ce6bcc0",
   "metadata": {},
   "outputs": [
    {
     "data": {
      "text/plain": [
       "Fair                       359062\n",
       "Cloudy                      71765\n",
       "Mostly Cloudy               47895\n",
       "Partly Cloudy               38994\n",
       "Haze                        22902\n",
       "Light Rain                  21552\n",
       "Fog                         13841\n",
       "Rain                         7615\n",
       "Fair / Windy                 5031\n",
       "Smoke                        4459\n",
       "Heavy Rain                   3218\n",
       "Light Snow                   1110\n",
       "Cloudy / Windy                885\n",
       "Mostly Cloudy / Windy         746\n",
       "Partly Cloudy / Windy         711\n",
       "Light Rain / Windy            686\n",
       "Snow                          431\n",
       "Rain / Windy                  423\n",
       "Light Drizzle                 342\n",
       "Drizzle                       338\n",
       "Heavy Rain / Windy            284\n",
       "Heavy Snow                    194\n",
       "Thunder in the Vicinity       190\n",
       "Shallow Fog                   186\n",
       "Patches of Fog                172\n",
       "Haze / Windy                  168\n",
       "T-Storm                       167\n",
       "Mist                          123\n",
       "Fog / Windy                   111\n",
       "Blowing Dust / Windy          104\n",
       "N/A Precipitation              82\n",
       "Light Rain with Thunder        73\n",
       "Light Snow / Windy             73\n",
       "Blowing Dust                   69\n",
       "Heavy T-Storm                  68\n",
       "Thunder                        63\n",
       "Wintry Mix                     56\n",
       "Overcast                       52\n",
       "Showers in the Vicinity        46\n",
       "Snow / Windy                   43\n",
       "Light Rain Shower              28\n",
       "Heavy Drizzle                  22\n",
       "Heavy Snow / Windy             15\n",
       "Widespread Dust / Windy        15\n",
       "Scattered Clouds               12\n",
       "Smoke / Windy                  11\n",
       "T-Storm / Windy                 9\n",
       "Squalls / Windy                 7\n",
       "Light Drizzle / Windy           5\n",
       "Wintry Mix / Windy              4\n",
       "Rain Shower                     3\n",
       "Clear                           3\n",
       "Light Freezing Rain             3\n",
       "Partial Fog                     2\n",
       "Sand / Windy                    2\n",
       "Heavy Rain Shower               2\n",
       "Thunder / Windy                 1\n",
       "Thunder and Hail                1\n",
       "Blowing Sand                    1\n",
       "Drizzle / Windy                 1\n",
       "Name: Weather_Condition, dtype: int64"
      ]
     },
     "execution_count": 53,
     "metadata": {},
     "output_type": "execute_result"
    }
   ],
   "source": [
    "df1.Weather_Condition.value_counts()"
   ]
  },
  {
   "cell_type": "code",
   "execution_count": 54,
   "id": "f19f3458",
   "metadata": {},
   "outputs": [
    {
     "data": {
      "text/plain": [
       "Fair                       359062\n",
       "Cloudy                      71765\n",
       "Mostly Cloudy               47895\n",
       "Partly Cloudy               38994\n",
       "Haze                        22902\n",
       "Light Rain                  21552\n",
       "Fog                         13841\n",
       "Rain                         7615\n",
       "Fair / Windy                 5031\n",
       "Smoke                        4459\n",
       "Heavy Rain                   3218\n",
       "Light Snow                   1110\n",
       "Cloudy / Windy                885\n",
       "Mostly Cloudy / Windy         746\n",
       "Partly Cloudy / Windy         711\n",
       "Light Rain / Windy            686\n",
       "Snow                          431\n",
       "Rain / Windy                  423\n",
       "Light Drizzle                 342\n",
       "Drizzle                       338\n",
       "Heavy Rain / Windy            284\n",
       "Heavy Snow                    194\n",
       "Thunder in the Vicinity       190\n",
       "Shallow Fog                   186\n",
       "Patches of Fog                172\n",
       "Haze / Windy                  168\n",
       "T-Storm                       167\n",
       "Mist                          123\n",
       "Fog / Windy                   111\n",
       "Blowing Dust / Windy          104\n",
       "N/A Precipitation              82\n",
       "Light Snow / Windy             73\n",
       "Light Rain with Thunder        73\n",
       "Blowing Dust                   69\n",
       "Heavy T-Storm                  68\n",
       "Thunder                        63\n",
       "Wintry Mix                     56\n",
       "Overcast                       52\n",
       "Name: Weather_Condition, dtype: int64"
      ]
     },
     "execution_count": 54,
     "metadata": {},
     "output_type": "execute_result"
    }
   ],
   "source": [
    "\n",
    "remove_records=['Showers in the Vicinity' ,'Snow / Windy','Light Rain Shower','Heavy Snow / Windy',\n",
    "'Widespread Dust / Windy','Scattered Clouds','Smoke / Windy','T-Storm / Windy',             \n",
    "'Squalls / Windy','Light Drizzle / Windy','Wintry Mix / Windy','Rain Shower','Light Freezing Rain',\n",
    "'Clear','Sand / Windy','Partial Fog','Heavy Rain Shower','Drizzle / Windy','Thunder / Windy','Thunder and Hail','Blowing Sand','Heavy Drizzle']\n",
    "df1=df1[~df1['Weather_Condition'].isin(remove_records)]\n",
    "df1['Weather_Condition'].value_counts()"
   ]
  },
  {
   "cell_type": "markdown",
   "id": "69f07f0f",
   "metadata": {},
   "source": [
    "#### Binning the similar meaning categories in the column weather_condition. "
   ]
  },
  {
   "cell_type": "code",
   "execution_count": 55,
   "id": "375e6941",
   "metadata": {},
   "outputs": [
    {
     "data": {
      "text/plain": [
       "38"
      ]
     },
     "execution_count": 55,
     "metadata": {},
     "output_type": "execute_result"
    }
   ],
   "source": [
    "clear = ['Fair', 'Cloudy', 'Mostly Cloudy', 'Partly Cloudy','Fair / Windy','Cloudy / Windy',\n",
    "       'Mostly Cloudy / Windy','Partly Cloudy / Windy','N/A Precipitation','Overcast']\n",
    "\n",
    "Light_rain = ['Light Rain','Light Drizzle','Drizzle','Light Rain / Windy']\n",
    "Thunderstroms=['T-Storm','Thunder','Heavy T-Storm','Light Rain with Thunder','Thunder in the Vicinity']\n",
    "\n",
    "Heavy_rain = ['Rain','Rain / Windy','Heavy Rain / Windy','Heavy Rain']\n",
    "Fog_Dust=['Patches of Fog','Blowing Dust','Fog','Haze','Haze / Windy','Smoke','Shallow Fog','Mist','Fog / Windy','Blowing Dust / Windy']\n",
    "Snow=['Light Snow / Windy','Wintry Mix','Snow','Heavy Snow','Light Snow']\n",
    "len(clear)+len(Light_rain)+len(Heavy_rain)+len(Fog_Dust)+len(Snow)+len(Thunderstroms)"
   ]
  },
  {
   "cell_type": "code",
   "execution_count": 56,
   "id": "2c10532b",
   "metadata": {},
   "outputs": [],
   "source": [
    "df1['New_Weather_condition']=['clear' if i in clear else 'Light_rain' if i in Light_rain else \"Thunderstorm\" if i in Thunderstroms else\n",
    "                             'Heavy_rain' if i in Heavy_rain else 'Fog_Dust' if i in Fog_Dust else 'Snow' if i in Snow else 'Other' \n",
    "                              for i in df1.Weather_Condition]\n"
   ]
  },
  {
   "cell_type": "code",
   "execution_count": 57,
   "id": "9cb46283",
   "metadata": {},
   "outputs": [
    {
     "data": {
      "text/plain": [
       "set()"
      ]
     },
     "execution_count": 57,
     "metadata": {},
     "output_type": "execute_result"
    }
   ],
   "source": [
    "z=clear+Light_rain+Thunderstroms+Heavy_rain+Fog_Dust+Snow\n",
    "nl=[]\n",
    "for i in df1.Weather_Condition.values:\n",
    "    if i in z:\n",
    "        continue\n",
    "    else:\n",
    "        nl.append(i)\n",
    "set(nl)"
   ]
  },
  {
   "cell_type": "code",
   "execution_count": 58,
   "id": "529af8a7",
   "metadata": {},
   "outputs": [
    {
     "data": {
      "text/plain": [
       "array(['clear', 'Snow', 'Fog_Dust', 'Light_rain', 'Heavy_rain',\n",
       "       'Thunderstorm'], dtype=object)"
      ]
     },
     "execution_count": 58,
     "metadata": {},
     "output_type": "execute_result"
    }
   ],
   "source": [
    "df1['New_Weather_condition'].unique()"
   ]
  },
  {
   "cell_type": "code",
   "execution_count": 59,
   "id": "6be783eb",
   "metadata": {},
   "outputs": [],
   "source": [
    "df1.drop('Weather_Condition',axis = 1, inplace=True)"
   ]
  },
  {
   "cell_type": "code",
   "execution_count": 60,
   "id": "bbde24c2",
   "metadata": {},
   "outputs": [
    {
     "data": {
      "text/plain": [
       "11"
      ]
     },
     "execution_count": 60,
     "metadata": {},
     "output_type": "execute_result"
    }
   ],
   "source": [
    "len(df_cat.columns)\n"
   ]
  },
  {
   "cell_type": "code",
   "execution_count": 61,
   "id": "6028a980",
   "metadata": {},
   "outputs": [],
   "source": [
    "plt.rcParams['figure.figsize']=[15,9]"
   ]
  },
  {
   "cell_type": "code",
   "execution_count": 62,
   "id": "5b5c8fe9",
   "metadata": {},
   "outputs": [
    {
     "data": {
      "text/html": [
       "<div>\n",
       "<style scoped>\n",
       "    .dataframe tbody tr th:only-of-type {\n",
       "        vertical-align: middle;\n",
       "    }\n",
       "\n",
       "    .dataframe tbody tr th {\n",
       "        vertical-align: top;\n",
       "    }\n",
       "\n",
       "    .dataframe thead th {\n",
       "        text-align: right;\n",
       "    }\n",
       "</style>\n",
       "<table border=\"1\" class=\"dataframe\">\n",
       "  <thead>\n",
       "    <tr style=\"text-align: right;\">\n",
       "      <th></th>\n",
       "      <th>feature</th>\n",
       "      <th>count_of_unique_values</th>\n",
       "    </tr>\n",
       "  </thead>\n",
       "  <tbody>\n",
       "    <tr>\n",
       "      <th>0</th>\n",
       "      <td>Severity</td>\n",
       "      <td>4</td>\n",
       "    </tr>\n",
       "    <tr>\n",
       "      <th>1</th>\n",
       "      <td>Street</td>\n",
       "      <td>34205</td>\n",
       "    </tr>\n",
       "    <tr>\n",
       "      <th>2</th>\n",
       "      <td>Side</td>\n",
       "      <td>2</td>\n",
       "    </tr>\n",
       "    <tr>\n",
       "      <th>3</th>\n",
       "      <td>City</td>\n",
       "      <td>1040</td>\n",
       "    </tr>\n",
       "    <tr>\n",
       "      <th>4</th>\n",
       "      <td>County</td>\n",
       "      <td>58</td>\n",
       "    </tr>\n",
       "    <tr>\n",
       "      <th>5</th>\n",
       "      <td>Wind_Direction</td>\n",
       "      <td>10</td>\n",
       "    </tr>\n",
       "    <tr>\n",
       "      <th>6</th>\n",
       "      <td>Sunrise_Sunset</td>\n",
       "      <td>2</td>\n",
       "    </tr>\n",
       "    <tr>\n",
       "      <th>7</th>\n",
       "      <td>Civil_Twilight</td>\n",
       "      <td>2</td>\n",
       "    </tr>\n",
       "    <tr>\n",
       "      <th>8</th>\n",
       "      <td>Nautical_Twilight</td>\n",
       "      <td>2</td>\n",
       "    </tr>\n",
       "    <tr>\n",
       "      <th>9</th>\n",
       "      <td>Astronomical_Twilight</td>\n",
       "      <td>2</td>\n",
       "    </tr>\n",
       "    <tr>\n",
       "      <th>10</th>\n",
       "      <td>New_Weather_condition</td>\n",
       "      <td>6</td>\n",
       "    </tr>\n",
       "  </tbody>\n",
       "</table>\n",
       "</div>"
      ],
      "text/plain": [
       "                  feature  count_of_unique_values\n",
       "0                Severity                       4\n",
       "1                  Street                   34205\n",
       "2                    Side                       2\n",
       "3                    City                    1040\n",
       "4                  County                      58\n",
       "5          Wind_Direction                      10\n",
       "6          Sunrise_Sunset                       2\n",
       "7          Civil_Twilight                       2\n",
       "8       Nautical_Twilight                       2\n",
       "9   Astronomical_Twilight                       2\n",
       "10  New_Weather_condition                       6"
      ]
     },
     "execution_count": 62,
     "metadata": {},
     "output_type": "execute_result"
    }
   ],
   "source": [
    "df_cat=df1.select_dtypes('object')\n",
    "col_name=[]\n",
    "length=[]\n",
    "\n",
    "for i in df_cat.columns:\n",
    "    col_name.append(i)\n",
    "    length.append(len(df_cat[i].unique()))\n",
    "df_2=pd.DataFrame(zip(col_name,length),columns=['feature','count_of_unique_values'])\n",
    "df_2"
   ]
  },
  {
   "cell_type": "markdown",
   "id": "6eb0a54a",
   "metadata": {},
   "source": [
    "##### As there are so  many unique values in Street and city , for a categorical variable. We can use County for the same and we have latitude and longitude also with us for location data so we are dropping these columns."
   ]
  },
  {
   "cell_type": "code",
   "execution_count": 63,
   "id": "98602d47",
   "metadata": {},
   "outputs": [],
   "source": [
    "df1.drop(['City','Street'],axis = 1, inplace=True)"
   ]
  },
  {
   "cell_type": "code",
   "execution_count": 64,
   "id": "47621cb9",
   "metadata": {},
   "outputs": [
    {
     "data": {
      "text/plain": [
       "Severity                  4\n",
       "Side                      2\n",
       "County                   58\n",
       "Wind_Direction           10\n",
       "Sunrise_Sunset            2\n",
       "Civil_Twilight            2\n",
       "Nautical_Twilight         2\n",
       "Astronomical_Twilight     2\n",
       "New_Weather_condition     6\n",
       "dtype: int64"
      ]
     },
     "execution_count": 64,
     "metadata": {},
     "output_type": "execute_result"
    }
   ],
   "source": [
    "df_cat=df1.select_dtypes('object')\n",
    "df_cat.nunique()"
   ]
  },
  {
   "cell_type": "code",
   "execution_count": 65,
   "id": "fac70957",
   "metadata": {},
   "outputs": [],
   "source": [
    "df_num = df1.select_dtypes(np.number)"
   ]
  },
  {
   "cell_type": "code",
   "execution_count": 66,
   "id": "f17f0bc5",
   "metadata": {},
   "outputs": [
    {
     "data": {
      "text/plain": [
       "Start_Lat            208490\n",
       "Start_Lng            211912\n",
       "End_Lat              208264\n",
       "End_Lng              211866\n",
       "Distance(mi)           7820\n",
       "Temperature(F)          137\n",
       "Wind_Chill(F)           215\n",
       "Humidity(%)             100\n",
       "Pressure(in)            793\n",
       "Visibility(mi)           35\n",
       "Wind_Speed(mph)          77\n",
       "Precipitation(in)        78\n",
       "total_mins             2095\n",
       "dtype: int64"
      ]
     },
     "execution_count": 66,
     "metadata": {},
     "output_type": "execute_result"
    }
   ],
   "source": [
    "df_num.nunique()"
   ]
  },
  {
   "cell_type": "code",
   "execution_count": 67,
   "id": "5f93d19c",
   "metadata": {},
   "outputs": [
    {
     "name": "stdout",
     "output_type": "stream",
     "text": [
      "<class 'pandas.core.frame.DataFrame'>\n",
      "Int64Index: 604241 entries, 1093 to 795867\n",
      "Data columns (total 35 columns):\n",
      " #   Column                 Non-Null Count   Dtype  \n",
      "---  ------                 --------------   -----  \n",
      " 0   Severity               604241 non-null  object \n",
      " 1   Start_Lat              604241 non-null  float64\n",
      " 2   Start_Lng              604241 non-null  float64\n",
      " 3   End_Lat                604241 non-null  float64\n",
      " 4   End_Lng                604241 non-null  float64\n",
      " 5   Distance(mi)           604241 non-null  float64\n",
      " 6   Side                   604241 non-null  object \n",
      " 7   County                 604241 non-null  object \n",
      " 8   Temperature(F)         604241 non-null  float64\n",
      " 9   Wind_Chill(F)          604241 non-null  float64\n",
      " 10  Humidity(%)            604241 non-null  float64\n",
      " 11  Pressure(in)           604241 non-null  float64\n",
      " 12  Visibility(mi)         604241 non-null  float64\n",
      " 13  Wind_Direction         604241 non-null  object \n",
      " 14  Wind_Speed(mph)        604241 non-null  float64\n",
      " 15  Precipitation(in)      604241 non-null  float64\n",
      " 16  Amenity                604241 non-null  bool   \n",
      " 17  Bump                   604241 non-null  bool   \n",
      " 18  Crossing               604241 non-null  bool   \n",
      " 19  Give_Way               604241 non-null  bool   \n",
      " 20  Junction               604241 non-null  bool   \n",
      " 21  No_Exit                604241 non-null  bool   \n",
      " 22  Railway                604241 non-null  bool   \n",
      " 23  Roundabout             604241 non-null  bool   \n",
      " 24  Station                604241 non-null  bool   \n",
      " 25  Stop                   604241 non-null  bool   \n",
      " 26  Traffic_Calming        604241 non-null  bool   \n",
      " 27  Traffic_Signal         604241 non-null  bool   \n",
      " 28  Turning_Loop           604241 non-null  bool   \n",
      " 29  Sunrise_Sunset         604241 non-null  object \n",
      " 30  Civil_Twilight         604241 non-null  object \n",
      " 31  Nautical_Twilight      604241 non-null  object \n",
      " 32  Astronomical_Twilight  604241 non-null  object \n",
      " 33  total_mins             604241 non-null  int32  \n",
      " 34  New_Weather_condition  604241 non-null  object \n",
      "dtypes: bool(13), float64(12), int32(1), object(9)\n",
      "memory usage: 111.2+ MB\n"
     ]
    }
   ],
   "source": [
    "df1.info()"
   ]
  },
  {
   "cell_type": "code",
   "execution_count": 68,
   "id": "3c7ecfb6",
   "metadata": {},
   "outputs": [
    {
     "data": {
      "text/html": [
       "<div>\n",
       "<style scoped>\n",
       "    .dataframe tbody tr th:only-of-type {\n",
       "        vertical-align: middle;\n",
       "    }\n",
       "\n",
       "    .dataframe tbody tr th {\n",
       "        vertical-align: top;\n",
       "    }\n",
       "\n",
       "    .dataframe thead th {\n",
       "        text-align: right;\n",
       "    }\n",
       "</style>\n",
       "<table border=\"1\" class=\"dataframe\">\n",
       "  <thead>\n",
       "    <tr style=\"text-align: right;\">\n",
       "      <th></th>\n",
       "      <th>Start_Lat</th>\n",
       "      <th>Start_Lng</th>\n",
       "      <th>End_Lat</th>\n",
       "      <th>End_Lng</th>\n",
       "      <th>Distance(mi)</th>\n",
       "      <th>Temperature(F)</th>\n",
       "      <th>Wind_Chill(F)</th>\n",
       "      <th>Humidity(%)</th>\n",
       "      <th>Pressure(in)</th>\n",
       "      <th>Visibility(mi)</th>\n",
       "      <th>Wind_Speed(mph)</th>\n",
       "      <th>Precipitation(in)</th>\n",
       "      <th>total_mins</th>\n",
       "    </tr>\n",
       "  </thead>\n",
       "  <tbody>\n",
       "    <tr>\n",
       "      <th>1093</th>\n",
       "      <td>36.19790</td>\n",
       "      <td>-121.15137</td>\n",
       "      <td>36.198250</td>\n",
       "      <td>-121.14508</td>\n",
       "      <td>0.352</td>\n",
       "      <td>59.0</td>\n",
       "      <td>59.0</td>\n",
       "      <td>58.0</td>\n",
       "      <td>29.81</td>\n",
       "      <td>10.0</td>\n",
       "      <td>0.0</td>\n",
       "      <td>0.00</td>\n",
       "      <td>360</td>\n",
       "    </tr>\n",
       "    <tr>\n",
       "      <th>1417</th>\n",
       "      <td>38.84685</td>\n",
       "      <td>-120.02881</td>\n",
       "      <td>38.825990</td>\n",
       "      <td>-120.02946</td>\n",
       "      <td>1.442</td>\n",
       "      <td>33.1</td>\n",
       "      <td>27.7</td>\n",
       "      <td>92.0</td>\n",
       "      <td>29.77</td>\n",
       "      <td>0.5</td>\n",
       "      <td>5.8</td>\n",
       "      <td>0.22</td>\n",
       "      <td>360</td>\n",
       "    </tr>\n",
       "    <tr>\n",
       "      <th>1419</th>\n",
       "      <td>38.77640</td>\n",
       "      <td>-119.91890</td>\n",
       "      <td>38.851030</td>\n",
       "      <td>-120.02231</td>\n",
       "      <td>7.588</td>\n",
       "      <td>33.1</td>\n",
       "      <td>27.7</td>\n",
       "      <td>92.0</td>\n",
       "      <td>29.77</td>\n",
       "      <td>0.5</td>\n",
       "      <td>5.8</td>\n",
       "      <td>0.22</td>\n",
       "      <td>360</td>\n",
       "    </tr>\n",
       "    <tr>\n",
       "      <th>1485</th>\n",
       "      <td>38.82653</td>\n",
       "      <td>-120.03011</td>\n",
       "      <td>38.832616</td>\n",
       "      <td>-120.03564</td>\n",
       "      <td>0.515</td>\n",
       "      <td>46.0</td>\n",
       "      <td>43.1</td>\n",
       "      <td>54.0</td>\n",
       "      <td>29.87</td>\n",
       "      <td>10.0</td>\n",
       "      <td>5.8</td>\n",
       "      <td>0.00</td>\n",
       "      <td>360</td>\n",
       "    </tr>\n",
       "    <tr>\n",
       "      <th>2100</th>\n",
       "      <td>35.55134</td>\n",
       "      <td>-121.07163</td>\n",
       "      <td>35.527180</td>\n",
       "      <td>-121.04482</td>\n",
       "      <td>2.249</td>\n",
       "      <td>71.0</td>\n",
       "      <td>71.0</td>\n",
       "      <td>53.0</td>\n",
       "      <td>29.75</td>\n",
       "      <td>10.0</td>\n",
       "      <td>16.0</td>\n",
       "      <td>0.00</td>\n",
       "      <td>360</td>\n",
       "    </tr>\n",
       "  </tbody>\n",
       "</table>\n",
       "</div>"
      ],
      "text/plain": [
       "      Start_Lat  Start_Lng    End_Lat    End_Lng  Distance(mi)  \\\n",
       "1093   36.19790 -121.15137  36.198250 -121.14508         0.352   \n",
       "1417   38.84685 -120.02881  38.825990 -120.02946         1.442   \n",
       "1419   38.77640 -119.91890  38.851030 -120.02231         7.588   \n",
       "1485   38.82653 -120.03011  38.832616 -120.03564         0.515   \n",
       "2100   35.55134 -121.07163  35.527180 -121.04482         2.249   \n",
       "\n",
       "      Temperature(F)  Wind_Chill(F)  Humidity(%)  Pressure(in)  \\\n",
       "1093            59.0           59.0         58.0         29.81   \n",
       "1417            33.1           27.7         92.0         29.77   \n",
       "1419            33.1           27.7         92.0         29.77   \n",
       "1485            46.0           43.1         54.0         29.87   \n",
       "2100            71.0           71.0         53.0         29.75   \n",
       "\n",
       "      Visibility(mi)  Wind_Speed(mph)  Precipitation(in)  total_mins  \n",
       "1093            10.0              0.0               0.00         360  \n",
       "1417             0.5              5.8               0.22         360  \n",
       "1419             0.5              5.8               0.22         360  \n",
       "1485            10.0              5.8               0.00         360  \n",
       "2100            10.0             16.0               0.00         360  "
      ]
     },
     "execution_count": 68,
     "metadata": {},
     "output_type": "execute_result"
    }
   ],
   "source": [
    "df_num=df1.select_dtypes(np.number)\n",
    "df_num.head()"
   ]
  },
  {
   "cell_type": "code",
   "execution_count": 69,
   "id": "c348556d",
   "metadata": {},
   "outputs": [
    {
     "data": {
      "text/plain": [
       "<AxesSubplot:xlabel='total_mins'>"
      ]
     },
     "execution_count": 69,
     "metadata": {},
     "output_type": "execute_result"
    },
    {
     "data": {
      "image/png": "[encoded data removed]",
      "text/plain": [
       "<Figure size 1080x648 with 1 Axes>"
      ]
     },
     "metadata": {
      "needs_background": "light"
     },
     "output_type": "display_data"
    }
   ],
   "source": [
    "sns.boxplot(df_num.total_mins)"
   ]
  },
  {
   "cell_type": "code",
   "execution_count": 70,
   "id": "ef1801d9",
   "metadata": {},
   "outputs": [
    {
     "data": {
      "text/html": [
       "<div>\n",
       "<style scoped>\n",
       "    .dataframe tbody tr th:only-of-type {\n",
       "        vertical-align: middle;\n",
       "    }\n",
       "\n",
       "    .dataframe tbody tr th {\n",
       "        vertical-align: top;\n",
       "    }\n",
       "\n",
       "    .dataframe thead th {\n",
       "        text-align: right;\n",
       "    }\n",
       "</style>\n",
       "<table border=\"1\" class=\"dataframe\">\n",
       "  <thead>\n",
       "    <tr style=\"text-align: right;\">\n",
       "      <th></th>\n",
       "      <th>index</th>\n",
       "      <th>Severity</th>\n",
       "      <th>Side</th>\n",
       "      <th>County</th>\n",
       "      <th>Wind_Direction</th>\n",
       "      <th>Sunrise_Sunset</th>\n",
       "      <th>Civil_Twilight</th>\n",
       "      <th>Nautical_Twilight</th>\n",
       "      <th>Astronomical_Twilight</th>\n",
       "      <th>New_Weather_condition</th>\n",
       "      <th>...</th>\n",
       "      <th>Give_Way</th>\n",
       "      <th>Junction</th>\n",
       "      <th>No_Exit</th>\n",
       "      <th>Railway</th>\n",
       "      <th>Roundabout</th>\n",
       "      <th>Station</th>\n",
       "      <th>Stop</th>\n",
       "      <th>Traffic_Calming</th>\n",
       "      <th>Traffic_Signal</th>\n",
       "      <th>Turning_Loop</th>\n",
       "    </tr>\n",
       "  </thead>\n",
       "  <tbody>\n",
       "    <tr>\n",
       "      <th>0</th>\n",
       "      <td>1093</td>\n",
       "      <td>3</td>\n",
       "      <td>R</td>\n",
       "      <td>Monterey</td>\n",
       "      <td>CALM</td>\n",
       "      <td>Night</td>\n",
       "      <td>Night</td>\n",
       "      <td>Night</td>\n",
       "      <td>Night</td>\n",
       "      <td>clear</td>\n",
       "      <td>...</td>\n",
       "      <td>False</td>\n",
       "      <td>True</td>\n",
       "      <td>False</td>\n",
       "      <td>False</td>\n",
       "      <td>False</td>\n",
       "      <td>False</td>\n",
       "      <td>False</td>\n",
       "      <td>False</td>\n",
       "      <td>False</td>\n",
       "      <td>False</td>\n",
       "    </tr>\n",
       "    <tr>\n",
       "      <th>1</th>\n",
       "      <td>1417</td>\n",
       "      <td>2</td>\n",
       "      <td>R</td>\n",
       "      <td>El Dorado</td>\n",
       "      <td>S</td>\n",
       "      <td>Day</td>\n",
       "      <td>Day</td>\n",
       "      <td>Day</td>\n",
       "      <td>Day</td>\n",
       "      <td>Snow</td>\n",
       "      <td>...</td>\n",
       "      <td>False</td>\n",
       "      <td>False</td>\n",
       "      <td>False</td>\n",
       "      <td>False</td>\n",
       "      <td>False</td>\n",
       "      <td>False</td>\n",
       "      <td>False</td>\n",
       "      <td>False</td>\n",
       "      <td>False</td>\n",
       "      <td>False</td>\n",
       "    </tr>\n",
       "    <tr>\n",
       "      <th>2</th>\n",
       "      <td>1419</td>\n",
       "      <td>2</td>\n",
       "      <td>R</td>\n",
       "      <td>Alpine</td>\n",
       "      <td>S</td>\n",
       "      <td>Day</td>\n",
       "      <td>Day</td>\n",
       "      <td>Day</td>\n",
       "      <td>Day</td>\n",
       "      <td>Snow</td>\n",
       "      <td>...</td>\n",
       "      <td>False</td>\n",
       "      <td>False</td>\n",
       "      <td>False</td>\n",
       "      <td>False</td>\n",
       "      <td>False</td>\n",
       "      <td>False</td>\n",
       "      <td>True</td>\n",
       "      <td>False</td>\n",
       "      <td>False</td>\n",
       "      <td>False</td>\n",
       "    </tr>\n",
       "    <tr>\n",
       "      <th>3</th>\n",
       "      <td>1485</td>\n",
       "      <td>2</td>\n",
       "      <td>L</td>\n",
       "      <td>El Dorado</td>\n",
       "      <td>VAR</td>\n",
       "      <td>Day</td>\n",
       "      <td>Day</td>\n",
       "      <td>Day</td>\n",
       "      <td>Day</td>\n",
       "      <td>clear</td>\n",
       "      <td>...</td>\n",
       "      <td>False</td>\n",
       "      <td>False</td>\n",
       "      <td>False</td>\n",
       "      <td>False</td>\n",
       "      <td>False</td>\n",
       "      <td>False</td>\n",
       "      <td>False</td>\n",
       "      <td>False</td>\n",
       "      <td>False</td>\n",
       "      <td>False</td>\n",
       "    </tr>\n",
       "    <tr>\n",
       "      <th>4</th>\n",
       "      <td>2100</td>\n",
       "      <td>2</td>\n",
       "      <td>R</td>\n",
       "      <td>San Luis Obispo</td>\n",
       "      <td>NW</td>\n",
       "      <td>Day</td>\n",
       "      <td>Day</td>\n",
       "      <td>Day</td>\n",
       "      <td>Day</td>\n",
       "      <td>clear</td>\n",
       "      <td>...</td>\n",
       "      <td>False</td>\n",
       "      <td>False</td>\n",
       "      <td>False</td>\n",
       "      <td>False</td>\n",
       "      <td>False</td>\n",
       "      <td>False</td>\n",
       "      <td>False</td>\n",
       "      <td>False</td>\n",
       "      <td>True</td>\n",
       "      <td>False</td>\n",
       "    </tr>\n",
       "  </tbody>\n",
       "</table>\n",
       "<p>5 rows × 23 columns</p>\n",
       "</div>"
      ],
      "text/plain": [
       "   index Severity Side           County Wind_Direction Sunrise_Sunset  \\\n",
       "0   1093        3    R         Monterey           CALM          Night   \n",
       "1   1417        2    R        El Dorado              S            Day   \n",
       "2   1419        2    R           Alpine              S            Day   \n",
       "3   1485        2    L        El Dorado            VAR            Day   \n",
       "4   2100        2    R  San Luis Obispo             NW            Day   \n",
       "\n",
       "  Civil_Twilight Nautical_Twilight Astronomical_Twilight  \\\n",
       "0          Night             Night                 Night   \n",
       "1            Day               Day                   Day   \n",
       "2            Day               Day                   Day   \n",
       "3            Day               Day                   Day   \n",
       "4            Day               Day                   Day   \n",
       "\n",
       "  New_Weather_condition  ...  Give_Way  Junction  No_Exit  Railway  \\\n",
       "0                 clear  ...     False      True    False    False   \n",
       "1                  Snow  ...     False     False    False    False   \n",
       "2                  Snow  ...     False     False    False    False   \n",
       "3                 clear  ...     False     False    False    False   \n",
       "4                 clear  ...     False     False    False    False   \n",
       "\n",
       "   Roundabout  Station   Stop  Traffic_Calming  Traffic_Signal  Turning_Loop  \n",
       "0       False    False  False            False           False         False  \n",
       "1       False    False  False            False           False         False  \n",
       "2       False    False   True            False           False         False  \n",
       "3       False    False  False            False           False         False  \n",
       "4       False    False  False            False            True         False  \n",
       "\n",
       "[5 rows x 23 columns]"
      ]
     },
     "execution_count": 70,
     "metadata": {},
     "output_type": "execute_result"
    }
   ],
   "source": [
    "df_cat = df1.select_dtypes('object')\n",
    "df_bool = df1.select_dtypes('bool')\n",
    "df_cat_bool = pd.concat([df_cat, df_bool], axis = 1)\n",
    "df_cat_bool.reset_index(inplace=True)\n",
    "\n",
    "df_cat_bool.head()"
   ]
  },
  {
   "cell_type": "code",
   "execution_count": 71,
   "id": "6ab93a55",
   "metadata": {},
   "outputs": [
    {
     "data": {
      "text/plain": [
       "Index(['Severity', 'Side', 'County', 'Wind_Direction', 'Sunrise_Sunset',\n",
       "       'Civil_Twilight', 'Nautical_Twilight', 'Astronomical_Twilight',\n",
       "       'New_Weather_condition'],\n",
       "      dtype='object')"
      ]
     },
     "execution_count": 71,
     "metadata": {},
     "output_type": "execute_result"
    }
   ],
   "source": [
    "df_cat.columns\n"
   ]
  },
  {
   "cell_type": "code",
   "execution_count": 72,
   "id": "4ad772b7",
   "metadata": {},
   "outputs": [],
   "source": [
    "df_cat_bool.drop('County',axis = 1,inplace=True)"
   ]
  },
  {
   "cell_type": "markdown",
   "id": "1cbba17c",
   "metadata": {},
   "source": [
    "##### As we have latitude and longitude for location identification we can remove county as it was giving too much categories in it."
   ]
  },
  {
   "cell_type": "raw",
   "id": "04f3e18c",
   "metadata": {},
   "source": [
    "from sklearn.preprocessing import StandardScaler\n",
    "ss=StandardScaler()\n",
    "df_num_scaled=pd.DataFrame(ss.fit_transform(df_num),columns=df_num.columns)\n",
    "df_num_scaled.head()"
   ]
  },
  {
   "cell_type": "code",
   "execution_count": 73,
   "id": "98b8482e",
   "metadata": {},
   "outputs": [
    {
     "data": {
      "text/plain": [
       "(RangeIndex(start=0, stop=604241, step=1),\n",
       " RangeIndex(start=0, stop=604241, step=1))"
      ]
     },
     "execution_count": 73,
     "metadata": {},
     "output_type": "execute_result"
    }
   ],
   "source": [
    "df_num = df_num.reset_index(drop=True)\n",
    "df_num.index,df_cat_bool.index"
   ]
  },
  {
   "cell_type": "code",
   "execution_count": 74,
   "id": "74337f89",
   "metadata": {},
   "outputs": [],
   "source": [
    "combined = pd.concat([df_cat_bool, df_num],axis = 1)\n",
    "#combined = pd.concat([df_cat, df_num_scaled],axis = 1)"
   ]
  },
  {
   "cell_type": "code",
   "execution_count": 75,
   "id": "90237f3b",
   "metadata": {},
   "outputs": [],
   "source": [
    "X =combined.drop('Severity', axis = 1)\n",
    "y = combined.Severity"
   ]
  },
  {
   "cell_type": "code",
   "execution_count": 76,
   "id": "4e8e6d6e",
   "metadata": {},
   "outputs": [],
   "source": [
    "y1 = y.copy(deep = True)"
   ]
  },
  {
   "cell_type": "code",
   "execution_count": 77,
   "id": "89a19cee",
   "metadata": {},
   "outputs": [],
   "source": [
    "y1=y1.astype(np.number)"
   ]
  },
  {
   "cell_type": "code",
   "execution_count": 78,
   "id": "897e8655",
   "metadata": {},
   "outputs": [
    {
     "data": {
      "text/plain": [
       "array(['clear', 'Snow', 'Fog_Dust', 'Light_rain', 'Heavy_rain',\n",
       "       'Thunderstorm'], dtype=object)"
      ]
     },
     "execution_count": 78,
     "metadata": {},
     "output_type": "execute_result"
    }
   ],
   "source": [
    "X.New_Weather_condition.unique()"
   ]
  },
  {
   "cell_type": "markdown",
   "id": "f9b017c6",
   "metadata": {},
   "source": [
    "###### Depending upon severity of weather conditions we have given the numbers.\n"
   ]
  },
  {
   "cell_type": "code",
   "execution_count": 79,
   "id": "99c12383",
   "metadata": {},
   "outputs": [],
   "source": [
    "X['New_Weather_condition'] = X.New_Weather_condition.replace(['clear', 'Snow', 'Fog_Dust', 'Light_rain', 'Heavy_rain',\n",
    "       'Thunderstorm'],[1,4,6,2,3,5])\n"
   ]
  },
  {
   "cell_type": "code",
   "execution_count": 80,
   "id": "034e8070",
   "metadata": {},
   "outputs": [
    {
     "data": {
      "text/html": [
       "<div>\n",
       "<style scoped>\n",
       "    .dataframe tbody tr th:only-of-type {\n",
       "        vertical-align: middle;\n",
       "    }\n",
       "\n",
       "    .dataframe tbody tr th {\n",
       "        vertical-align: top;\n",
       "    }\n",
       "\n",
       "    .dataframe thead th {\n",
       "        text-align: right;\n",
       "    }\n",
       "</style>\n",
       "<table border=\"1\" class=\"dataframe\">\n",
       "  <thead>\n",
       "    <tr style=\"text-align: right;\">\n",
       "      <th></th>\n",
       "      <th>index</th>\n",
       "      <th>Side</th>\n",
       "      <th>Wind_Direction</th>\n",
       "      <th>Sunrise_Sunset</th>\n",
       "      <th>Civil_Twilight</th>\n",
       "      <th>Nautical_Twilight</th>\n",
       "      <th>Astronomical_Twilight</th>\n",
       "      <th>New_Weather_condition</th>\n",
       "      <th>Amenity</th>\n",
       "      <th>Bump</th>\n",
       "      <th>...</th>\n",
       "      <th>End_Lng</th>\n",
       "      <th>Distance(mi)</th>\n",
       "      <th>Temperature(F)</th>\n",
       "      <th>Wind_Chill(F)</th>\n",
       "      <th>Humidity(%)</th>\n",
       "      <th>Pressure(in)</th>\n",
       "      <th>Visibility(mi)</th>\n",
       "      <th>Wind_Speed(mph)</th>\n",
       "      <th>Precipitation(in)</th>\n",
       "      <th>total_mins</th>\n",
       "    </tr>\n",
       "  </thead>\n",
       "  <tbody>\n",
       "    <tr>\n",
       "      <th>0</th>\n",
       "      <td>1093</td>\n",
       "      <td>R</td>\n",
       "      <td>CALM</td>\n",
       "      <td>Night</td>\n",
       "      <td>Night</td>\n",
       "      <td>Night</td>\n",
       "      <td>Night</td>\n",
       "      <td>1</td>\n",
       "      <td>False</td>\n",
       "      <td>False</td>\n",
       "      <td>...</td>\n",
       "      <td>-121.14508</td>\n",
       "      <td>0.352</td>\n",
       "      <td>59.0</td>\n",
       "      <td>59.0</td>\n",
       "      <td>58.0</td>\n",
       "      <td>29.81</td>\n",
       "      <td>10.0</td>\n",
       "      <td>0.0</td>\n",
       "      <td>0.00</td>\n",
       "      <td>360</td>\n",
       "    </tr>\n",
       "    <tr>\n",
       "      <th>1</th>\n",
       "      <td>1417</td>\n",
       "      <td>R</td>\n",
       "      <td>S</td>\n",
       "      <td>Day</td>\n",
       "      <td>Day</td>\n",
       "      <td>Day</td>\n",
       "      <td>Day</td>\n",
       "      <td>4</td>\n",
       "      <td>False</td>\n",
       "      <td>False</td>\n",
       "      <td>...</td>\n",
       "      <td>-120.02946</td>\n",
       "      <td>1.442</td>\n",
       "      <td>33.1</td>\n",
       "      <td>27.7</td>\n",
       "      <td>92.0</td>\n",
       "      <td>29.77</td>\n",
       "      <td>0.5</td>\n",
       "      <td>5.8</td>\n",
       "      <td>0.22</td>\n",
       "      <td>360</td>\n",
       "    </tr>\n",
       "    <tr>\n",
       "      <th>2</th>\n",
       "      <td>1419</td>\n",
       "      <td>R</td>\n",
       "      <td>S</td>\n",
       "      <td>Day</td>\n",
       "      <td>Day</td>\n",
       "      <td>Day</td>\n",
       "      <td>Day</td>\n",
       "      <td>4</td>\n",
       "      <td>False</td>\n",
       "      <td>False</td>\n",
       "      <td>...</td>\n",
       "      <td>-120.02231</td>\n",
       "      <td>7.588</td>\n",
       "      <td>33.1</td>\n",
       "      <td>27.7</td>\n",
       "      <td>92.0</td>\n",
       "      <td>29.77</td>\n",
       "      <td>0.5</td>\n",
       "      <td>5.8</td>\n",
       "      <td>0.22</td>\n",
       "      <td>360</td>\n",
       "    </tr>\n",
       "    <tr>\n",
       "      <th>3</th>\n",
       "      <td>1485</td>\n",
       "      <td>L</td>\n",
       "      <td>VAR</td>\n",
       "      <td>Day</td>\n",
       "      <td>Day</td>\n",
       "      <td>Day</td>\n",
       "      <td>Day</td>\n",
       "      <td>1</td>\n",
       "      <td>False</td>\n",
       "      <td>False</td>\n",
       "      <td>...</td>\n",
       "      <td>-120.03564</td>\n",
       "      <td>0.515</td>\n",
       "      <td>46.0</td>\n",
       "      <td>43.1</td>\n",
       "      <td>54.0</td>\n",
       "      <td>29.87</td>\n",
       "      <td>10.0</td>\n",
       "      <td>5.8</td>\n",
       "      <td>0.00</td>\n",
       "      <td>360</td>\n",
       "    </tr>\n",
       "    <tr>\n",
       "      <th>4</th>\n",
       "      <td>2100</td>\n",
       "      <td>R</td>\n",
       "      <td>NW</td>\n",
       "      <td>Day</td>\n",
       "      <td>Day</td>\n",
       "      <td>Day</td>\n",
       "      <td>Day</td>\n",
       "      <td>1</td>\n",
       "      <td>False</td>\n",
       "      <td>False</td>\n",
       "      <td>...</td>\n",
       "      <td>-121.04482</td>\n",
       "      <td>2.249</td>\n",
       "      <td>71.0</td>\n",
       "      <td>71.0</td>\n",
       "      <td>53.0</td>\n",
       "      <td>29.75</td>\n",
       "      <td>10.0</td>\n",
       "      <td>16.0</td>\n",
       "      <td>0.00</td>\n",
       "      <td>360</td>\n",
       "    </tr>\n",
       "  </tbody>\n",
       "</table>\n",
       "<p>5 rows × 34 columns</p>\n",
       "</div>"
      ],
      "text/plain": [
       "   index Side Wind_Direction Sunrise_Sunset Civil_Twilight Nautical_Twilight  \\\n",
       "0   1093    R           CALM          Night          Night             Night   \n",
       "1   1417    R              S            Day            Day               Day   \n",
       "2   1419    R              S            Day            Day               Day   \n",
       "3   1485    L            VAR            Day            Day               Day   \n",
       "4   2100    R             NW            Day            Day               Day   \n",
       "\n",
       "  Astronomical_Twilight  New_Weather_condition  Amenity   Bump  ...  \\\n",
       "0                 Night                      1    False  False  ...   \n",
       "1                   Day                      4    False  False  ...   \n",
       "2                   Day                      4    False  False  ...   \n",
       "3                   Day                      1    False  False  ...   \n",
       "4                   Day                      1    False  False  ...   \n",
       "\n",
       "     End_Lng  Distance(mi)  Temperature(F)  Wind_Chill(F)  Humidity(%)  \\\n",
       "0 -121.14508         0.352            59.0           59.0         58.0   \n",
       "1 -120.02946         1.442            33.1           27.7         92.0   \n",
       "2 -120.02231         7.588            33.1           27.7         92.0   \n",
       "3 -120.03564         0.515            46.0           43.1         54.0   \n",
       "4 -121.04482         2.249            71.0           71.0         53.0   \n",
       "\n",
       "   Pressure(in)  Visibility(mi)  Wind_Speed(mph)  Precipitation(in)  \\\n",
       "0         29.81            10.0              0.0               0.00   \n",
       "1         29.77             0.5              5.8               0.22   \n",
       "2         29.77             0.5              5.8               0.22   \n",
       "3         29.87            10.0              5.8               0.00   \n",
       "4         29.75            10.0             16.0               0.00   \n",
       "\n",
       "   total_mins  \n",
       "0         360  \n",
       "1         360  \n",
       "2         360  \n",
       "3         360  \n",
       "4         360  \n",
       "\n",
       "[5 rows x 34 columns]"
      ]
     },
     "execution_count": 80,
     "metadata": {},
     "output_type": "execute_result"
    }
   ],
   "source": [
    "X.head()"
   ]
  },
  {
   "cell_type": "code",
   "execution_count": 81,
   "id": "3d9d8f3e",
   "metadata": {},
   "outputs": [],
   "source": [
    "X.drop(\"index\",inplace=True,axis = 1)"
   ]
  },
  {
   "cell_type": "code",
   "execution_count": 82,
   "id": "fd9992ee",
   "metadata": {},
   "outputs": [],
   "source": [
    "X = pd.get_dummies(X,drop_first = True)"
   ]
  },
  {
   "cell_type": "code",
   "execution_count": 83,
   "id": "1b9105d8",
   "metadata": {},
   "outputs": [
    {
     "data": {
      "text/plain": [
       "(604241, 41)"
      ]
     },
     "execution_count": 83,
     "metadata": {},
     "output_type": "execute_result"
    }
   ],
   "source": [
    "X.shape"
   ]
  },
  {
   "cell_type": "code",
   "execution_count": 84,
   "id": "8d164f87",
   "metadata": {},
   "outputs": [
    {
     "data": {
      "text/plain": [
       "(604241,)"
      ]
     },
     "execution_count": 84,
     "metadata": {},
     "output_type": "execute_result"
    }
   ],
   "source": [
    "y.shape"
   ]
  },
  {
   "cell_type": "code",
   "execution_count": 85,
   "id": "b04609ea",
   "metadata": {},
   "outputs": [],
   "source": [
    "from sklearn.model_selection import train_test_split\n",
    "X_train, X_test ,y_train, y_test = train_test_split(X,y1)"
   ]
  },
  {
   "cell_type": "code",
   "execution_count": 76,
   "id": "1ab3dd15",
   "metadata": {},
   "outputs": [
    {
     "name": "stdout",
     "output_type": "stream",
     "text": [
      "              precision    recall  f1-score   support\n",
      "\n",
      "         1.0       0.67      0.67      0.67      1051\n",
      "         2.0       0.99      0.99      0.99    147598\n",
      "         3.0       0.28      0.30      0.29      1403\n",
      "         4.0       0.25      0.26      0.26      1009\n",
      "\n",
      "    accuracy                           0.97    151061\n",
      "   macro avg       0.55      0.55      0.55    151061\n",
      "weighted avg       0.98      0.97      0.97    151061\n",
      "\n"
     ]
    }
   ],
   "source": [
    "from sklearn.tree import DecisionTreeClassifier\n",
    "dt=DecisionTreeClassifier()\n",
    "dt.fit(X_train,y_train)\n",
    "y_pred_dt=dt.predict(X_test)\n",
    "from sklearn.metrics import classification_report\n",
    "print(classification_report(y_test,y_pred_dt))"
   ]
  },
  {
   "cell_type": "code",
   "execution_count": 77,
   "id": "afd07f7b",
   "metadata": {},
   "outputs": [
    {
     "name": "stdout",
     "output_type": "stream",
     "text": [
      "              precision    recall  f1-score   support\n",
      "\n",
      "         1.0       0.63      0.64      0.64      1051\n",
      "         2.0       0.98      1.00      0.99    147598\n",
      "         3.0       0.19      0.01      0.02      1403\n",
      "         4.0       0.00      0.00      0.00      1009\n",
      "\n",
      "    accuracy                           0.98    151061\n",
      "   macro avg       0.45      0.41      0.41    151061\n",
      "weighted avg       0.97      0.98      0.97    151061\n",
      "\n"
     ]
    }
   ],
   "source": [
    "from sklearn.ensemble import AdaBoostClassifier\n",
    "ab=AdaBoostClassifier()\n",
    "ab.fit(X_train,y_train)\n",
    "y_pred_ab=ab.predict(X_test)\n",
    "print(classification_report(y_test,y_pred_ab))"
   ]
  },
  {
   "cell_type": "code",
   "execution_count": null,
   "id": "5674586e",
   "metadata": {},
   "outputs": [],
   "source": []
  },
  {
   "cell_type": "markdown",
   "id": "0bfca080",
   "metadata": {},
   "source": [
    "#### SMOTE to optimize the model."
   ]
  },
  {
   "cell_type": "code",
   "execution_count": 86,
   "id": "0f6623ff",
   "metadata": {},
   "outputs": [],
   "source": [
    "from imblearn.over_sampling import SMOTE\n",
    "smt=SMOTE(random_state=0)\n",
    "X_train, y_train =smt.fit_resample(X_train, y_train)\n"
   ]
  },
  {
   "cell_type": "code",
   "execution_count": 87,
   "id": "dc282a68",
   "metadata": {},
   "outputs": [
    {
     "data": {
      "text/plain": [
       "2.0    442920\n",
       "1.0    442920\n",
       "3.0    442920\n",
       "4.0    442920\n",
       "Name: Severity, dtype: int64"
      ]
     },
     "execution_count": 87,
     "metadata": {},
     "output_type": "execute_result"
    }
   ],
   "source": [
    "y_train.value_counts()"
   ]
  },
  {
   "cell_type": "code",
   "execution_count": 80,
   "id": "527f5245",
   "metadata": {},
   "outputs": [
    {
     "name": "stdout",
     "output_type": "stream",
     "text": [
      "              precision    recall  f1-score   support\n",
      "\n",
      "         1.0       0.21      0.95      0.34      1051\n",
      "         2.0       0.99      0.89      0.94    147598\n",
      "         3.0       0.08      0.42      0.14      1403\n",
      "         4.0       0.03      0.19      0.05      1009\n",
      "\n",
      "    accuracy                           0.88    151061\n",
      "   macro avg       0.33      0.61      0.37    151061\n",
      "weighted avg       0.97      0.88      0.92    151061\n",
      "\n"
     ]
    }
   ],
   "source": [
    "from sklearn.ensemble import AdaBoostClassifier\n",
    "ab=AdaBoostClassifier()\n",
    "ab.fit(X_train,y_train)\n",
    "y_pred_ab=ab.predict(X_test)\n",
    "print(classification_report(y_test,y_pred_ab))"
   ]
  },
  {
   "cell_type": "markdown",
   "id": "f1001505",
   "metadata": {},
   "source": [
    "#### We can see that the recall has been increased after SMOTE. "
   ]
  },
  {
   "cell_type": "markdown",
   "id": "9f7a6836",
   "metadata": {},
   "source": [
    "#### Decison Tree"
   ]
  },
  {
   "cell_type": "code",
   "execution_count": 81,
   "id": "50a35e95",
   "metadata": {},
   "outputs": [
    {
     "name": "stdout",
     "output_type": "stream",
     "text": [
      "              precision    recall  f1-score   support\n",
      "\n",
      "         1.0       0.49      0.68      0.57      1051\n",
      "         2.0       0.99      0.97      0.98    147598\n",
      "         3.0       0.18      0.39      0.24      1403\n",
      "         4.0       0.12      0.30      0.17      1009\n",
      "\n",
      "    accuracy                           0.95    151061\n",
      "   macro avg       0.44      0.58      0.49    151061\n",
      "weighted avg       0.97      0.95      0.96    151061\n",
      "\n"
     ]
    }
   ],
   "source": [
    "from sklearn.tree import DecisionTreeClassifier\n",
    "dt=DecisionTreeClassifier()\n",
    "dt.fit(X_train,y_train)\n",
    "y_pred_dt=dt.predict(X_test)\n",
    "from sklearn.metrics import classification_report\n",
    "print(classification_report(y_test,y_pred_dt))"
   ]
  },
  {
   "cell_type": "markdown",
   "id": "9e9a93bc",
   "metadata": {},
   "source": [
    "#### We can see that the recall has been increased after SMOTE. "
   ]
  },
  {
   "cell_type": "code",
   "execution_count": null,
   "id": "cb22b7fb",
   "metadata": {},
   "outputs": [],
   "source": [
    "#check train and test accuracies\n",
    "#k- fold cross validations\n",
    "#take timestamp for time "
   ]
  },
  {
   "cell_type": "markdown",
   "id": "d99ca6c8",
   "metadata": {},
   "source": [
    "### Ada Boost"
   ]
  },
  {
   "cell_type": "code",
   "execution_count": 82,
   "id": "abb420ef",
   "metadata": {},
   "outputs": [
    {
     "name": "stdout",
     "output_type": "stream",
     "text": [
      "              precision    recall  f1-score   support\n",
      "\n",
      "         1.0       0.80      0.98      0.88    442873\n",
      "         2.0       0.87      0.89      0.88    442873\n",
      "         3.0       0.60      0.45      0.52    442873\n",
      "         4.0       0.55      0.55      0.55    442873\n",
      "\n",
      "    accuracy                           0.72   1771492\n",
      "   macro avg       0.70      0.72      0.71   1771492\n",
      "weighted avg       0.70      0.72      0.71   1771492\n",
      "\n"
     ]
    }
   ],
   "source": [
    "y_pred_tran_ab=ab.predict(X_train)\n",
    "print(classification_report(y_train,y_pred_tran_ab))"
   ]
  },
  {
   "cell_type": "raw",
   "id": "e710d3ac",
   "metadata": {},
   "source": [
    "from sklearn.model_selection import GridSearchCV\n",
    "dt=DecisionTreeClassifier(random_state=1)\n",
    "param = {'criterion':['gini','entropy'],\n",
    "        'max_depth':[4,5,6,7,8,9,10],\n",
    "         'max_features':['log2','sqrt'],\n",
    "         'min_samples_leaf':[2,3,4,5,6],\n",
    "         'min_samples_split' : [2,3,4,5,6]}\n",
    "grid_dt = GridSearchCV(dt,param_grid=param,cv = 3)\n",
    "dtm = grid_dt.fit(X_train,y_train)\n",
    "dtm.best_params_\n"
   ]
  },
  {
   "cell_type": "markdown",
   "id": "673e74d6",
   "metadata": {},
   "source": [
    "from sklearn.model_selection import GridSearchCV\n",
    "dt=DecisionTreeClassifier(random_state=1)\n",
    "param = {'criterion':['entropy'],\n",
    "        'max_depth':[4],\n",
    "         'max_features':['sqrt'],\n",
    "         'min_samples_leaf':[2],\n",
    "         'min_samples_split' : [2]}\n",
    "grid_dt = GridSearchCV(dt,param_grid=param,cv = 10)\n",
    "dtm = grid_dt.fit(X_train,y_train)\n",
    "dtm.best_params_\n"
   ]
  },
  {
   "cell_type": "raw",
   "id": "189ee18b",
   "metadata": {},
   "source": [
    "{criterion': 'gini',\n",
    " 'max_depth': 10,\n",
    " 'max_features': 'sqrt',\n",
    " 'min_samples_leaf': 6,\n",
    " 'min_samples_split': 2}"
   ]
  },
  {
   "cell_type": "code",
   "execution_count": 85,
   "id": "f7245310",
   "metadata": {},
   "outputs": [
    {
     "name": "stdout",
     "output_type": "stream",
     "text": [
      "              precision    recall  f1-score   support\n",
      "\n",
      "         1.0       0.11      0.95      0.20      1051\n",
      "         2.0       0.99      0.70      0.82    147598\n",
      "         3.0       0.04      0.52      0.08      1403\n",
      "         4.0       0.01      0.29      0.03      1009\n",
      "\n",
      "    accuracy                           0.70    151061\n",
      "   macro avg       0.29      0.62      0.28    151061\n",
      "weighted avg       0.97      0.70      0.81    151061\n",
      "\n"
     ]
    }
   ],
   "source": [
    "from sklearn.tree import DecisionTreeClassifier\n",
    "dt=DecisionTreeClassifier(criterion= 'gini',\n",
    " max_depth= 10,\n",
    " max_features= 'sqrt',\n",
    " min_samples_leaf= 6,\n",
    " min_samples_split= 2)\n",
    "dt.fit(X_train,y_train)\n",
    "y_pred_dt=dt.predict(X_test)\n",
    "from sklearn.metrics import classification_report\n",
    "print(classification_report(y_test,y_pred_dt))"
   ]
  },
  {
   "cell_type": "markdown",
   "id": "86f11ba9",
   "metadata": {},
   "source": [
    "#### Random Forest"
   ]
  },
  {
   "cell_type": "markdown",
   "id": "ea1e9db9",
   "metadata": {},
   "source": [
    "from sklearn.ensemble import RandomForestClassifier\n",
    "rf=RandomForestClassifier(criterion= 'gini',\n",
    " max_depth= 10,\n",
    " max_features= 'sqrt',\n",
    " min_samples_leaf= 6,\n",
    " min_samples_split= 2)\n",
    "rf.fit(X_train,y_train)\n",
    "y_pred_rf=rf.predict(X_test)\n",
    "from sklearn.metrics import classification_report\n",
    "print(classification_report(y_test,y_pred_rf))"
   ]
  },
  {
   "cell_type": "code",
   "execution_count": null,
   "id": "5d134d07",
   "metadata": {},
   "outputs": [],
   "source": []
  },
  {
   "cell_type": "code",
   "execution_count": null,
   "id": "551340b5",
   "metadata": {},
   "outputs": [],
   "source": []
  },
  {
   "cell_type": "markdown",
   "id": "d49a8118",
   "metadata": {},
   "source": [
    "criterion': 'gini',\n",
    " 'max_depth': 10,\n",
    " 'max_features': 'sqrt',\n",
    " 'min_samples_leaf': 6,\n",
    " 'min_samples_split': 2}"
   ]
  },
  {
   "cell_type": "code",
   "execution_count": 199,
   "id": "f2084abc",
   "metadata": {},
   "outputs": [],
   "source": [
    "y_train_int = y_train.astype('int64')\n",
    "y_test_int = y_test.astype('int64')\n",
    "y_train_int = y_train.replace([1,2,3,4],[1,1,2,2])\n",
    "y_test_int = y_test.replace([1,2,3,4],[1,1,2,2])"
   ]
  },
  {
   "cell_type": "markdown",
   "id": "d14237ce",
   "metadata": {},
   "source": [
    "from sklearn.tree import DecisionTreeClassifier\n",
    "dt=DecisionTreeClassifier(criterion= 'gini',\n",
    " max_depth= 10,\n",
    " max_features= 'sqrt',\n",
    " min_samples_leaf= 6,\n",
    " min_samples_split= 2)\n",
    "dt.fit(X_train,y_train_int)\n",
    "y_pred_dt=dt.predict(X_test)\n",
    "from sklearn.metrics import classification_report\n",
    "print(classification_report(y_test_int,y_pred_dt))"
   ]
  },
  {
   "cell_type": "markdown",
   "id": "f385d29f",
   "metadata": {},
   "source": [
    "#### XGBOOST"
   ]
  },
  {
   "cell_type": "code",
   "execution_count": 90,
   "id": "426ce621",
   "metadata": {},
   "outputs": [],
   "source": [
    "y_train_int = y_train.astype('int64')\n",
    "y_test_int = y_test.astype('int64')\n",
    "y_train_int = y_train.replace([1,2,3,4],[0,1,2,3])\n",
    "y_test_int = y_test.replace([1,2,3,4],[0,1,2,3])"
   ]
  },
  {
   "cell_type": "code",
   "execution_count": 91,
   "id": "ad90e76c",
   "metadata": {},
   "outputs": [
    {
     "name": "stdout",
     "output_type": "stream",
     "text": [
      "              precision    recall  f1-score   support\n",
      "\n",
      "         0.0       0.44      0.95      0.60      1051\n",
      "         1.0       0.99      0.97      0.98    147598\n",
      "         2.0       0.18      0.53      0.26      1403\n",
      "         3.0       0.20      0.24      0.21      1009\n",
      "\n",
      "    accuracy                           0.96    151061\n",
      "   macro avg       0.45      0.67      0.52    151061\n",
      "weighted avg       0.98      0.96      0.96    151061\n",
      "\n"
     ]
    }
   ],
   "source": [
    "from xgboost import XGBClassifier\n",
    "xg = XGBClassifier(random_state = 1)\n",
    "xg.fit(X_train,y_train_int)\n",
    "y_pred_xg=xg.predict(X_test)\n",
    "from sklearn.metrics import classification_report\n",
    "print(classification_report(y_test_int,y_pred_xg))"
   ]
  },
  {
   "cell_type": "markdown",
   "id": "9dcc6c8f",
   "metadata": {},
   "source": [
    "### Binary classification. We will combined classes 1 and 2 as less severe and 3 and 4 as more severe. "
   ]
  },
  {
   "cell_type": "code",
   "execution_count": 90,
   "id": "bf7c1330",
   "metadata": {},
   "outputs": [],
   "source": [
    "y_train_bin = y_train.astype('int64')\n",
    "y_test_bin = y_test.astype('int64')\n",
    "y_train_bin = y_train.replace([1,2,3,4],[0,0,1,1])\n",
    "y_test_bin = y_test.replace([1,2,3,4],[0,0,1,1])"
   ]
  },
  {
   "cell_type": "code",
   "execution_count": 91,
   "id": "75b5f876",
   "metadata": {},
   "outputs": [
    {
     "name": "stdout",
     "output_type": "stream",
     "text": [
      "              precision    recall  f1-score   support\n",
      "\n",
      "         0.0       0.99      0.97      0.98    148632\n",
      "         1.0       0.22      0.58      0.32      2429\n",
      "\n",
      "    accuracy                           0.96    151061\n",
      "   macro avg       0.61      0.77      0.65    151061\n",
      "weighted avg       0.98      0.96      0.97    151061\n",
      "\n"
     ]
    }
   ],
   "source": [
    "from xgboost import XGBClassifier\n",
    "xgbin = XGBClassifier(random_state = 1)\n",
    "xgbin.fit(X_train,y_train_bin)\n",
    "y_pred_xgbin=xgbin.predict(X_test)\n",
    "from sklearn.metrics import classification_report\n",
    "print(classification_report(y_test_bin,y_pred_xgbin))"
   ]
  },
  {
   "cell_type": "code",
   "execution_count": 96,
   "id": "7a229b08",
   "metadata": {},
   "outputs": [
    {
     "data": {
      "text/plain": [
       "<AxesSubplot:xlabel='importance', ylabel='features'>"
      ]
     },
     "execution_count": 96,
     "metadata": {},
     "output_type": "execute_result"
    },
    {
     "data": {
      "image/png": "[encoded data removed]",
      "text/plain": [
       "<Figure size 1080x648 with 1 Axes>"
      ]
     },
     "metadata": {
      "needs_background": "light"
     },
     "output_type": "display_data"
    }
   ],
   "source": [
    "feature_imp = pd.DataFrame()\n",
    "feature_imp['features'] = X_train.columns\n",
    "feature_imp['importance'] = xgbin.feature_importances_\n",
    "feature_imp = feature_imp.sort_values('importance',ascending=False)\n",
    "feature_imp\n",
    "top10 = feature_imp.head(10)\n",
    "sns.barplot(x='importance' , y = 'features',data=top10)"
   ]
  },
  {
   "cell_type": "markdown",
   "id": "92ef49db",
   "metadata": {},
   "source": [
    "#### Wind direction, total mins, distance are important columns. "
   ]
  },
  {
   "cell_type": "code",
   "execution_count": 92,
   "id": "75d73afc",
   "metadata": {},
   "outputs": [
    {
     "name": "stdout",
     "output_type": "stream",
     "text": [
      "              precision    recall  f1-score   support\n",
      "\n",
      "         0.0       0.99      0.98      0.98    148632\n",
      "         1.0       0.23      0.42      0.30      2429\n",
      "\n",
      "    accuracy                           0.97    151061\n",
      "   macro avg       0.61      0.70      0.64    151061\n",
      "weighted avg       0.98      0.97      0.97    151061\n",
      "\n"
     ]
    }
   ],
   "source": [
    "from sklearn.tree import DecisionTreeClassifier\n",
    "dt=DecisionTreeClassifier()\n",
    "dt.fit(X_train,y_train_bin)\n",
    "y_pred_dtbin=dt.predict(X_test)\n",
    "from sklearn.metrics import classification_report\n",
    "print(classification_report(y_test_bin,y_pred_dtbin))"
   ]
  },
  {
   "cell_type": "markdown",
   "id": "d0e0d4d8",
   "metadata": {},
   "source": [
    "#### Precision and recall have increased for decision tree. "
   ]
  },
  {
   "cell_type": "code",
   "execution_count": 94,
   "id": "1ce6a68f",
   "metadata": {},
   "outputs": [
    {
     "data": {
      "text/html": [
       "<div>\n",
       "<style scoped>\n",
       "    .dataframe tbody tr th:only-of-type {\n",
       "        vertical-align: middle;\n",
       "    }\n",
       "\n",
       "    .dataframe tbody tr th {\n",
       "        vertical-align: top;\n",
       "    }\n",
       "\n",
       "    .dataframe thead th {\n",
       "        text-align: right;\n",
       "    }\n",
       "</style>\n",
       "<table border=\"1\" class=\"dataframe\">\n",
       "  <thead>\n",
       "    <tr style=\"text-align: right;\">\n",
       "      <th></th>\n",
       "      <th>features</th>\n",
       "      <th>importance</th>\n",
       "    </tr>\n",
       "  </thead>\n",
       "  <tbody>\n",
       "    <tr>\n",
       "      <th>26</th>\n",
       "      <td>total_mins</td>\n",
       "      <td>0.310156</td>\n",
       "    </tr>\n",
       "    <tr>\n",
       "      <th>18</th>\n",
       "      <td>Distance(mi)</td>\n",
       "      <td>0.192995</td>\n",
       "    </tr>\n",
       "    <tr>\n",
       "      <th>15</th>\n",
       "      <td>Start_Lng</td>\n",
       "      <td>0.085699</td>\n",
       "    </tr>\n",
       "    <tr>\n",
       "      <th>21</th>\n",
       "      <td>Humidity(%)</td>\n",
       "      <td>0.058798</td>\n",
       "    </tr>\n",
       "    <tr>\n",
       "      <th>24</th>\n",
       "      <td>Wind_Speed(mph)</td>\n",
       "      <td>0.048233</td>\n",
       "    </tr>\n",
       "    <tr>\n",
       "      <th>19</th>\n",
       "      <td>Temperature(F)</td>\n",
       "      <td>0.031641</td>\n",
       "    </tr>\n",
       "    <tr>\n",
       "      <th>16</th>\n",
       "      <td>End_Lat</td>\n",
       "      <td>0.027359</td>\n",
       "    </tr>\n",
       "    <tr>\n",
       "      <th>22</th>\n",
       "      <td>Pressure(in)</td>\n",
       "      <td>0.027042</td>\n",
       "    </tr>\n",
       "    <tr>\n",
       "      <th>20</th>\n",
       "      <td>Wind_Chill(F)</td>\n",
       "      <td>0.026884</td>\n",
       "    </tr>\n",
       "    <tr>\n",
       "      <th>17</th>\n",
       "      <td>End_Lng</td>\n",
       "      <td>0.016989</td>\n",
       "    </tr>\n",
       "    <tr>\n",
       "      <th>5</th>\n",
       "      <td>Junction</td>\n",
       "      <td>0.016063</td>\n",
       "    </tr>\n",
       "    <tr>\n",
       "      <th>14</th>\n",
       "      <td>Start_Lat</td>\n",
       "      <td>0.015758</td>\n",
       "    </tr>\n",
       "    <tr>\n",
       "      <th>27</th>\n",
       "      <td>Side_R</td>\n",
       "      <td>0.015472</td>\n",
       "    </tr>\n",
       "    <tr>\n",
       "      <th>23</th>\n",
       "      <td>Visibility(mi)</td>\n",
       "      <td>0.010581</td>\n",
       "    </tr>\n",
       "    <tr>\n",
       "      <th>31</th>\n",
       "      <td>Wind_Direction_NW</td>\n",
       "      <td>0.010458</td>\n",
       "    </tr>\n",
       "    <tr>\n",
       "      <th>32</th>\n",
       "      <td>Wind_Direction_S</td>\n",
       "      <td>0.009621</td>\n",
       "    </tr>\n",
       "    <tr>\n",
       "      <th>34</th>\n",
       "      <td>Wind_Direction_SW</td>\n",
       "      <td>0.008775</td>\n",
       "    </tr>\n",
       "    <tr>\n",
       "      <th>29</th>\n",
       "      <td>Wind_Direction_N</td>\n",
       "      <td>0.008123</td>\n",
       "    </tr>\n",
       "    <tr>\n",
       "      <th>36</th>\n",
       "      <td>Wind_Direction_W</td>\n",
       "      <td>0.007987</td>\n",
       "    </tr>\n",
       "    <tr>\n",
       "      <th>35</th>\n",
       "      <td>Wind_Direction_VAR</td>\n",
       "      <td>0.007583</td>\n",
       "    </tr>\n",
       "    <tr>\n",
       "      <th>33</th>\n",
       "      <td>Wind_Direction_SE</td>\n",
       "      <td>0.007053</td>\n",
       "    </tr>\n",
       "    <tr>\n",
       "      <th>30</th>\n",
       "      <td>Wind_Direction_NE</td>\n",
       "      <td>0.006648</td>\n",
       "    </tr>\n",
       "    <tr>\n",
       "      <th>37</th>\n",
       "      <td>Sunrise_Sunset_Night</td>\n",
       "      <td>0.006397</td>\n",
       "    </tr>\n",
       "    <tr>\n",
       "      <th>12</th>\n",
       "      <td>Traffic_Signal</td>\n",
       "      <td>0.005934</td>\n",
       "    </tr>\n",
       "    <tr>\n",
       "      <th>28</th>\n",
       "      <td>Wind_Direction_E</td>\n",
       "      <td>0.005877</td>\n",
       "    </tr>\n",
       "    <tr>\n",
       "      <th>25</th>\n",
       "      <td>Precipitation(in)</td>\n",
       "      <td>0.004648</td>\n",
       "    </tr>\n",
       "    <tr>\n",
       "      <th>10</th>\n",
       "      <td>Stop</td>\n",
       "      <td>0.004218</td>\n",
       "    </tr>\n",
       "    <tr>\n",
       "      <th>38</th>\n",
       "      <td>Civil_Twilight_Night</td>\n",
       "      <td>0.003727</td>\n",
       "    </tr>\n",
       "    <tr>\n",
       "      <th>0</th>\n",
       "      <td>New_Weather_condition</td>\n",
       "      <td>0.003540</td>\n",
       "    </tr>\n",
       "    <tr>\n",
       "      <th>3</th>\n",
       "      <td>Crossing</td>\n",
       "      <td>0.003506</td>\n",
       "    </tr>\n",
       "    <tr>\n",
       "      <th>39</th>\n",
       "      <td>Nautical_Twilight_Night</td>\n",
       "      <td>0.003503</td>\n",
       "    </tr>\n",
       "    <tr>\n",
       "      <th>9</th>\n",
       "      <td>Station</td>\n",
       "      <td>0.002895</td>\n",
       "    </tr>\n",
       "    <tr>\n",
       "      <th>1</th>\n",
       "      <td>Amenity</td>\n",
       "      <td>0.001884</td>\n",
       "    </tr>\n",
       "    <tr>\n",
       "      <th>40</th>\n",
       "      <td>Astronomical_Twilight_Night</td>\n",
       "      <td>0.001754</td>\n",
       "    </tr>\n",
       "    <tr>\n",
       "      <th>7</th>\n",
       "      <td>Railway</td>\n",
       "      <td>0.001336</td>\n",
       "    </tr>\n",
       "    <tr>\n",
       "      <th>2</th>\n",
       "      <td>Bump</td>\n",
       "      <td>0.000401</td>\n",
       "    </tr>\n",
       "    <tr>\n",
       "      <th>4</th>\n",
       "      <td>Give_Way</td>\n",
       "      <td>0.000257</td>\n",
       "    </tr>\n",
       "    <tr>\n",
       "      <th>11</th>\n",
       "      <td>Traffic_Calming</td>\n",
       "      <td>0.000130</td>\n",
       "    </tr>\n",
       "    <tr>\n",
       "      <th>6</th>\n",
       "      <td>No_Exit</td>\n",
       "      <td>0.000070</td>\n",
       "    </tr>\n",
       "    <tr>\n",
       "      <th>8</th>\n",
       "      <td>Roundabout</td>\n",
       "      <td>0.000004</td>\n",
       "    </tr>\n",
       "    <tr>\n",
       "      <th>13</th>\n",
       "      <td>Turning_Loop</td>\n",
       "      <td>0.000000</td>\n",
       "    </tr>\n",
       "  </tbody>\n",
       "</table>\n",
       "</div>"
      ],
      "text/plain": [
       "                       features  importance\n",
       "26                   total_mins    0.310156\n",
       "18                 Distance(mi)    0.192995\n",
       "15                    Start_Lng    0.085699\n",
       "21                  Humidity(%)    0.058798\n",
       "24              Wind_Speed(mph)    0.048233\n",
       "19               Temperature(F)    0.031641\n",
       "16                      End_Lat    0.027359\n",
       "22                 Pressure(in)    0.027042\n",
       "20                Wind_Chill(F)    0.026884\n",
       "17                      End_Lng    0.016989\n",
       "5                      Junction    0.016063\n",
       "14                    Start_Lat    0.015758\n",
       "27                       Side_R    0.015472\n",
       "23               Visibility(mi)    0.010581\n",
       "31            Wind_Direction_NW    0.010458\n",
       "32             Wind_Direction_S    0.009621\n",
       "34            Wind_Direction_SW    0.008775\n",
       "29             Wind_Direction_N    0.008123\n",
       "36             Wind_Direction_W    0.007987\n",
       "35           Wind_Direction_VAR    0.007583\n",
       "33            Wind_Direction_SE    0.007053\n",
       "30            Wind_Direction_NE    0.006648\n",
       "37         Sunrise_Sunset_Night    0.006397\n",
       "12               Traffic_Signal    0.005934\n",
       "28             Wind_Direction_E    0.005877\n",
       "25            Precipitation(in)    0.004648\n",
       "10                         Stop    0.004218\n",
       "38         Civil_Twilight_Night    0.003727\n",
       "0         New_Weather_condition    0.003540\n",
       "3                      Crossing    0.003506\n",
       "39      Nautical_Twilight_Night    0.003503\n",
       "9                       Station    0.002895\n",
       "1                       Amenity    0.001884\n",
       "40  Astronomical_Twilight_Night    0.001754\n",
       "7                       Railway    0.001336\n",
       "2                          Bump    0.000401\n",
       "4                      Give_Way    0.000257\n",
       "11              Traffic_Calming    0.000130\n",
       "6                       No_Exit    0.000070\n",
       "8                    Roundabout    0.000004\n",
       "13                 Turning_Loop    0.000000"
      ]
     },
     "execution_count": 94,
     "metadata": {},
     "output_type": "execute_result"
    }
   ],
   "source": [
    "feature_imp = pd.DataFrame()\n",
    "feature_imp['features'] = X_train.columns\n",
    "feature_imp['importance'] = dt.feature_importances_\n",
    "feature_imp = feature_imp.sort_values('importance',ascending=False)\n",
    "feature_imp\n",
    "top10 = feature_imp.head(10)\n",
    "sns.barplot(x='importance' , y = 'features',data=top10)"
   ]
  },
  {
   "cell_type": "code",
   "execution_count": 95,
   "id": "e586edab",
   "metadata": {},
   "outputs": [
    {
     "data": {
      "text/plain": [
       "<AxesSubplot:xlabel='importance', ylabel='features'>"
      ]
     },
     "execution_count": 95,
     "metadata": {},
     "output_type": "execute_result"
    },
    {
     "data": {
      "image/png": "[encoded data removed]",
      "text/plain": [
       "<Figure size 1080x648 with 1 Axes>"
      ]
     },
     "metadata": {
      "needs_background": "light"
     },
     "output_type": "display_data"
    }
   ],
   "source": [
    "top10 = feature_imp.head(10)\n",
    "sns.barplot(x='importance' , y = 'features',data=top10)"
   ]
  },
  {
   "cell_type": "markdown",
   "id": "241d8925",
   "metadata": {},
   "source": [
    "#### Total mins, Distance, Start_lng, Humidity, wind_speed, temperature,end_lat,pressur, wind chill are important columns to make predictions."
   ]
  }
 ],
 "metadata": {
  "kernelspec": {
   "display_name": "Python 3 (ipykernel)",
   "language": "python",
   "name": "python3"
  },
  "language_info": {
   "codemirror_mode": {
    "name": "ipython",
    "version": 3
   },
   "file_extension": ".py",
   "mimetype": "text/x-python",
   "name": "python",
   "nbconvert_exporter": "python",
   "pygments_lexer": "ipython3",
   "version": "3.9.7"
  }
 },
 "nbformat": 4,
 "nbformat_minor": 5
}
